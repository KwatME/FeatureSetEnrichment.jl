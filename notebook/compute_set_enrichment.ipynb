{
 "cells": [
  {
   "cell_type": "code",
   "execution_count": 4,
   "metadata": {},
   "outputs": [
    {
     "name": "stderr",
     "output_type": "stream",
     "text": [
      "┌ Info: Precompiling GSEA [d7bef1b9-4643-4ed1-9ceb-ed43dd382ec0]\n",
      "└ @ Base loading.jl:1278\n",
      "┌ Warning: Package GSEA does not have Distributed in its dependencies:\n",
      "│ - If you have GSEA checked out for development and have\n",
      "│   added Distributed as a dependency but haven't updated your primary\n",
      "│   environment's manifest file, try `Pkg.resolve()`.\n",
      "│ - Otherwise you may need to report an issue with GSEA\n",
      "└ Loading Distributed into GSEA from project dependency, future warnings for GSEA are suppressed.\n",
      "WARNING: Method definition combine_gene_sets_dn_up(DataFrames.DataFrame) in module GSEA at /Users/kwat/github/GSEA.jl/src/combine_gene_sets_dn_up.jl:4 overwritten at /Users/kwat/github/GSEA.jl/src/combine_gene_sets_dn_up.jl:4.\n",
      "  ** incremental compilation may be fatally broken for this module **\n",
      "\n",
      "WARNING: Method definition make_vector_01(Array{String, 1}, Array{String, 1}) in module GSEA at /Users/kwat/github/GSEA.jl/src/make_vector_01.jl:1 overwritten at /Users/kwat/github/GSEA.jl/src/make_vector_01.jl:1.\n",
      "  ** incremental compilation may be fatally broken for this module **\n",
      "\n",
      "WARNING: Method definition make_vector_01(Base.Dict{String, Int64}, Array{String, 1}) in module GSEA at /Users/kwat/github/GSEA.jl/src/make_vector_01.jl:28 overwritten at /Users/kwat/github/GSEA.jl/src/make_vector_01.jl:28.\n",
      "  ** incremental compilation may be fatally broken for this module **\n",
      "\n",
      "WARNING: Method definition sort_vectors(Array{Array{T, 1} where T, 1}) in module GSEA at /Users/kwat/github/GSEA.jl/src/sort_vectors.jl:1 overwritten at /Users/kwat/github/GSEA.jl/src/sort_vectors.jl:1.\n",
      "  ** incremental compilation may be fatally broken for this module **\n",
      "\n",
      "WARNING: Method definition sort_vectors##kw(Any, typeof(GSEA.sort_vectors), Array{Array{T, 1} where T, 1}) in module GSEA at /Users/kwat/github/GSEA.jl/src/sort_vectors.jl:1 overwritten at /Users/kwat/github/GSEA.jl/src/sort_vectors.jl:1.\n",
      "  ** incremental compilation may be fatally broken for this module **\n",
      "\n",
      "WARNING: Method definition sum_vector_real(Array{var\"#s24\", 1} where var\"#s24\"<:Real, Array{Int64, 1}) in module GSEA at /Users/kwat/github/GSEA.jl/src/sum_vector_real.jl:1 overwritten at /Users/kwat/github/GSEA.jl/src/sum_vector_real.jl:1.\n",
      "  ** incremental compilation may be fatally broken for this module **\n",
      "\n",
      "WARNING: Method definition compute_set_enrichment(Array{Float64, 1}, Array{String, 1}, Array{Int64, 1}) in module GSEA at /Users/kwat/github/GSEA.jl/src/compute_set_enrichment.jl:9 overwritten at /Users/kwat/github/GSEA.jl/src/compute_set_enrichment.jl:9.\n",
      "  ** incremental compilation may be fatally broken for this module **\n",
      "\n",
      "WARNING: Method definition compute_set_enrichment##kw(Any, typeof(GSEA.compute_set_enrichment), Array{Float64, 1}, Array{String, 1}, Array{Int64, 1}) in module GSEA at /Users/kwat/github/GSEA.jl/src/compute_set_enrichment.jl:9 overwritten at /Users/kwat/github/GSEA.jl/src/compute_set_enrichment.jl:9.\n",
      "  ** incremental compilation may be fatally broken for this module **\n",
      "\n",
      "WARNING: Method definition compute_set_enrichment(Array{Float64, 1}, Array{String, 1}, Array{String, 1}) in module GSEA at /Users/kwat/github/GSEA.jl/src/compute_set_enrichment.jl:79 overwritten at /Users/kwat/github/GSEA.jl/src/compute_set_enrichment.jl:79.\n",
      "  ** incremental compilation may be fatally broken for this module **\n",
      "\n",
      "WARNING: Method definition compute_set_enrichment##kw(Any, typeof(GSEA.compute_set_enrichment), Array{Float64, 1}, Array{String, 1}, Array{String, 1}) in module GSEA at /Users/kwat/github/GSEA.jl/src/compute_set_enrichment.jl:79 overwritten at /Users/kwat/github/GSEA.jl/src/compute_set_enrichment.jl:79.\n",
      "  ** incremental compilation may be fatally broken for this module **\n",
      "\n",
      "WARNING: Method definition compute_set_enrichment(Array{Float64, 1}, Array{String, 1}, Base.Dict{String, Array{String, 1}}) in module GSEA at /Users/kwat/github/GSEA.jl/src/compute_set_enrichment.jl:107 overwritten at /Users/kwat/github/GSEA.jl/src/compute_set_enrichment.jl:107.\n",
      "  ** incremental compilation may be fatally broken for this module **\n",
      "\n",
      "WARNING: Method definition compute_set_enrichment##kw(Any, typeof(GSEA.compute_set_enrichment), Array{Float64, 1}, Array{String, 1}, Base.Dict{String, Array{String, 1}}) in module GSEA at /Users/kwat/github/GSEA.jl/src/compute_set_enrichment.jl:107 overwritten at /Users/kwat/github/GSEA.jl/src/compute_set_enrichment.jl:107.\n",
      "  ** incremental compilation may be fatally broken for this module **\n",
      "\n",
      "WARNING: Method definition compute_set_enrichment(DataFrames.DataFrame, Base.Dict{String, Array{String, 1}}, String) in module GSEA at /Users/kwat/github/GSEA.jl/src/compute_set_enrichment.jl:151 overwritten at /Users/kwat/github/GSEA.jl/src/compute_set_enrichment.jl:151.\n",
      "  ** incremental compilation may be fatally broken for this module **\n",
      "\n",
      "ERROR: LoadError: LoadError: could not open file /Users/kwat/github/GSEA.jl/src/read.jl\n",
      "Stacktrace:\n",
      " [1] include(::Function, ::Module, ::String) at ./Base.jl:380\n",
      " [2] include at ./Base.jl:368 [inlined]\n",
      " [3] include(::String) at /Users/kwat/github/GSEA.jl/src/GSEA.jl:1\n",
      " [4] top-level scope at /Users/kwat/github/GSEA.jl/src/gsea_.jl:5\n",
      " [5] include(::Function, ::Module, ::String) at ./Base.jl:380\n",
      " [6] include at ./Base.jl:368 [inlined]\n",
      " [7] include(::String) at /Users/kwat/github/GSEA.jl/src/GSEA.jl:1\n",
      " [8] top-level scope at /Users/kwat/github/GSEA.jl/src/GSEA.jl:5\n",
      " [9] include(::Function, ::Module, ::String) at ./Base.jl:380\n",
      " [10] include(::Module, ::String) at ./Base.jl:368\n",
      " [11] top-level scope at none:2\n",
      " [12] eval at ./boot.jl:331 [inlined]\n",
      " [13] eval(::Expr) at ./client.jl:467\n",
      " [14] top-level scope at ./none:3\n",
      "in expression starting at /Users/kwat/github/GSEA.jl/src/gsea_.jl:5\n",
      "in expression starting at /Users/kwat/github/GSEA.jl/src/GSEA.jl:5\n"
     ]
    },
    {
     "ename": "LoadError",
     "evalue": "Failed to precompile GSEA [d7bef1b9-4643-4ed1-9ceb-ed43dd382ec0] to /Users/kwat/.julia/compiled/v1.5/GSEA/gLZsZ_pAU0D.ji.",
     "output_type": "error",
     "traceback": [
      "Failed to precompile GSEA [d7bef1b9-4643-4ed1-9ceb-ed43dd382ec0] to /Users/kwat/.julia/compiled/v1.5/GSEA/gLZsZ_pAU0D.ji.",
      "",
      "Stacktrace:",
      " [1] error(::String) at ./error.jl:33",
      " [2] compilecache(::Base.PkgId, ::String) at ./loading.jl:1305",
      " [3] _require(::Base.PkgId) at ./loading.jl:1030",
      " [4] require(::Base.PkgId) at ./loading.jl:928",
      " [5] require(::Module, ::Symbol) at ./loading.jl:923",
      " [6] include_string(::Function, ::Module, ::String, ::String) at ./loading.jl:1091"
     ]
    }
   ],
   "source": [
    "using BenchmarkTools\n",
    "using CSV\n",
    "using DataFrames\n",
    "using Printf\n",
    "using StatsBase\n",
    "\n",
    "using GSEA"
   ]
  },
  {
   "cell_type": "code",
   "execution_count": null,
   "metadata": {},
   "outputs": [],
   "source": [
    "elements = readlines(\"genes.txt\")[2:end]\n",
    "\n",
    "element_values = randn(length(elements))\n",
    "\n",
    "element_x_sample = DataFrame(\n",
    "    Symbol(\"Element\") => elements,\n",
    "    Symbol(\"Sample Constant\") => fill(1 / length(elements), length(elements)),\n",
    "    Symbol(\"Sample Normal\") => element_values,\n",
    "    Symbol(\"Sample Normal x 10\") => element_values * 10,\n",
    ")\n",
    "\n",
    "random_set_elements = sample(elements, 100, replace = false)\n",
    "\n",
    "set_elements = Kraft.read([\"h.all.v6.2.symbols.gmt\"])\n",
    "\n",
    "vector_01 = Kraft.make_vector_01(elements, random_set_elements);"
   ]
  },
  {
   "cell_type": "code",
   "execution_count": null,
   "metadata": {},
   "outputs": [],
   "source": [
    "@benchmark Kraft.compute_set_enrichment(element_values, elements, vector_01)"
   ]
  },
  {
   "cell_type": "code",
   "execution_count": null,
   "metadata": {},
   "outputs": [],
   "source": [
    "@benchmark Kraft.compute_set_enrichment(element_values, elements, random_set_elements)"
   ]
  },
  {
   "cell_type": "code",
   "execution_count": null,
   "metadata": {},
   "outputs": [],
   "source": [
    "Kraft.plot_set_enrichment(\n",
    "    element_values,\n",
    "    elements,\n",
    "    random_set_elements;\n",
    "    title1_text = \"Title\",\n",
    "    title2_text = \"Description or any other text go here\",\n",
    "    element_value_name = \"Element<br>Value<br>Metric\",\n",
    ")"
   ]
  },
  {
   "cell_type": "code",
   "execution_count": null,
   "metadata": {},
   "outputs": [],
   "source": [
    "benchmark_result = @benchmark Kraft.compute_set_enrichment(\n",
    "    element_values,\n",
    "    elements,\n",
    "    set_elements,\n",
    ")\n",
    "\n",
    "@printf \"%.2f ms / set\" minimum(benchmark_result.times) / 1e6 / length(set_elements)\n",
    "\n",
    "benchmark_result"
   ]
  },
  {
   "cell_type": "code",
   "execution_count": null,
   "metadata": {},
   "outputs": [],
   "source": [
    "@benchmark set_x_sample = Kraft.compute_set_enrichment(element_x_sample, set_elements, \"ks\")"
   ]
  }
 ],
 "metadata": {
  "@webio": {
   "lastCommId": "66c13ed4-0f0b-4352-b3d5-8382442f8612",
   "lastKernelId": "b9a9f219-188d-48b4-9bd3-54f7d6cf20fd"
  },
  "kernelspec": {
   "display_name": "Julia 1.5.3",
   "language": "julia",
   "name": "julia-1.5"
  },
  "language_info": {
   "file_extension": ".jl",
   "mimetype": "application/julia",
   "name": "julia",
   "version": "1.5.3"
  }
 },
 "nbformat": 4,
 "nbformat_minor": 4
}
