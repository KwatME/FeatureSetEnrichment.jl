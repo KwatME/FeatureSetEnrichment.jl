{
 "cells": [
  {
   "cell_type": "code",
   "execution_count": null,
   "metadata": {},
   "outputs": [],
   "source": [
    "using BenchmarkTools\n",
    "using CSV\n",
    "using DataFrames\n",
    "using Printf\n",
    "using StatsBase\n",
    "\n",
    "include(\"../src/Kraft.jl\")"
   ]
  },
  {
   "cell_type": "code",
   "execution_count": null,
   "metadata": {},
   "outputs": [],
   "source": [
    "elements = readlines(\"genes.txt\")[2:end]\n",
    "\n",
    "element_values = randn(length(elements))\n",
    "\n",
    "element_x_sample = DataFrame(\n",
    "    Symbol(\"Element\") => elements,\n",
    "    Symbol(\"Sample Constant\") => fill(1 / length(elements), length(elements)),\n",
    "    Symbol(\"Sample Normal\") => element_values,\n",
    "    Symbol(\"Sample Normal x 10\") => element_values * 10,\n",
    ")\n",
    "\n",
    "random_set_elements = sample(elements, 100, replace = false)\n",
    "\n",
    "set_elements = Kraft.read([\"h.all.v6.2.symbols.gmt\"])\n",
    "\n",
    "vector_01 = Kraft.make_vector_01(elements, random_set_elements);"
   ]
  },
  {
   "cell_type": "code",
   "execution_count": null,
   "metadata": {},
   "outputs": [],
   "source": [
    "@benchmark Kraft.compute_set_enrichment(element_values, elements, vector_01)"
   ]
  },
  {
   "cell_type": "code",
   "execution_count": null,
   "metadata": {},
   "outputs": [],
   "source": [
    "@benchmark Kraft.compute_set_enrichment(element_values, elements, random_set_elements)"
   ]
  },
  {
   "cell_type": "code",
   "execution_count": null,
   "metadata": {},
   "outputs": [],
   "source": [
    "Kraft.plot_set_enrichment(\n",
    "    element_values,\n",
    "    elements,\n",
    "    random_set_elements;\n",
    "    title1_text = \"Title\",\n",
    "    title2_text = \"Description or any other text go here\",\n",
    "    element_value_name = \"Element<br>Value<br>Metric\",\n",
    ")"
   ]
  },
  {
   "cell_type": "code",
   "execution_count": null,
   "metadata": {},
   "outputs": [],
   "source": [
    "benchmark_result = @benchmark Kraft.compute_set_enrichment(\n",
    "    element_values,\n",
    "    elements,\n",
    "    set_elements,\n",
    ")\n",
    "\n",
    "@printf \"%.2f ms / set\" minimum(benchmark_result.times) / 1e6 / length(set_elements)\n",
    "\n",
    "benchmark_result"
   ]
  },
  {
   "cell_type": "code",
   "execution_count": null,
   "metadata": {},
   "outputs": [],
   "source": [
    "@benchmark set_x_sample = Kraft.compute_set_enrichment(element_x_sample, set_elements, \"ks\")"
   ]
  }
 ],
 "metadata": {
  "@webio": {
   "lastCommId": "66c13ed4-0f0b-4352-b3d5-8382442f8612",
   "lastKernelId": "b9a9f219-188d-48b4-9bd3-54f7d6cf20fd"
  },
  "kernelspec": {
   "display_name": "Julia 1.0.3",
   "language": "julia",
   "name": "julia-1.0"
  },
  "language_info": {
   "file_extension": ".jl",
   "mimetype": "application/julia",
   "name": "julia",
   "version": "1.0.3"
  }
 },
 "nbformat": 4,
 "nbformat_minor": 4
}
