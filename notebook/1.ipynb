{
 "cells": [
  {
   "cell_type": "code",
   "execution_count": null,
   "metadata": {},
   "outputs": [],
   "source": [
    "using BenchmarkTools\n",
    "using Plotly\n",
    "using Random\n",
    "using StatsBase\n",
    "\n",
    "using Plot\n",
    "using Information"
   ]
  },
  {
   "cell_type": "code",
   "execution_count": null,
   "metadata": {},
   "outputs": [],
   "source": [
    "Random.seed!(20121020)\n",
    "\n",
    ";"
   ]
  },
  {
   "cell_type": "code",
   "execution_count": null,
   "metadata": {},
   "outputs": [],
   "source": [
    "use_style!()\n",
    "\n",
    ";"
   ]
  },
  {
   "cell_type": "code",
   "execution_count": null,
   "metadata": {},
   "outputs": [],
   "source": [
    "function cumulate_sum_reverse(v::Vector)\n",
    "\n",
    "    return reverse(cumsum(Iterators.reverse(v)))\n",
    "\n",
    "end\n",
    "\n",
    ";"
   ]
  },
  {
   "cell_type": "code",
   "execution_count": null,
   "metadata": {},
   "outputs": [],
   "source": [
    "element_ = string.(Array('A':'Z'))\n",
    "\n",
    "n_element = length(element_)\n",
    "\n",
    "element_score_ = randn(n_element)\n",
    "\n",
    ";"
   ]
  },
  {
   "cell_type": "code",
   "execution_count": null,
   "metadata": {},
   "outputs": [],
   "source": [
    "set_element_ = sample(element_, 3; replace = false)\n",
    "\n",
    "set_element_ = string.(collect(\"KWAT\"))\n",
    "\n",
    ";"
   ]
  },
  {
   "cell_type": "code",
   "execution_count": null,
   "metadata": {},
   "outputs": [],
   "source": [
    "layout =\n",
    "    Layout(xaxis_title = \"Element\", xaxis_tickvals = 0:n_element, xaxis_ticktext = element_)\n",
    "\n",
    ";"
   ]
  },
  {
   "cell_type": "code",
   "execution_count": null,
   "metadata": {},
   "outputs": [],
   "source": [
    "sort_index_ = sortperm(element_score_)\n",
    "\n",
    "element_score_ = element_score_[sort_index_]\n",
    "\n",
    "# element_ = element_[sort_index_]\n",
    "\n",
    "plot_x_y((element_score_,); layout = extend_layout(layout; yaxis_title = \"Score\"))"
   ]
  },
  {
   "cell_type": "markdown",
   "metadata": {},
   "source": [
    "## Is"
   ]
  },
  {
   "cell_type": "code",
   "execution_count": null,
   "metadata": {},
   "outputs": [],
   "source": [
    "set_element_to_nothing = Dict(set_element => nothing for set_element in set_element_)"
   ]
  },
  {
   "cell_type": "code",
   "execution_count": null,
   "metadata": {},
   "outputs": [],
   "source": [
    "is_h = [haskey(set_element_to_nothing, element) for element in element_]\n",
    "\n",
    "is_h = convert(Vector{Float64}, is_h)\n",
    "\n",
    "is_m = 1 .- is_h\n",
    "\n",
    "plot_x_y(\n",
    "    (is_h, is_m);\n",
    "    name_ = (\"Hit\", \"Miss\"),\n",
    "    layout = extend_layout(layout; title = \"Is\"),\n",
    ")"
   ]
  },
  {
   "cell_type": "code",
   "execution_count": null,
   "metadata": {},
   "outputs": [],
   "source": [
    "is_h_p = is_h / sum(is_h)\n",
    "\n",
    "is_h_p_cr = cumsum(is_h_p)\n",
    "\n",
    "is_h_p_cl = cumulate_sum_reverse(is_h_p)\n",
    "\n",
    "plot_x_y(\n",
    "    (is_h_p, is_h_p_cr, is_h_p_cl);\n",
    "    name_ = (\"P\", \"CR(P)\", \"CL(P)\"),\n",
    "    layout = extend_layout(layout; title = \"Is Hit\"),\n",
    ")"
   ]
  },
  {
   "cell_type": "code",
   "execution_count": null,
   "metadata": {},
   "outputs": [],
   "source": [
    "is_m_p = is_m / sum(is_m)\n",
    "\n",
    "is_m_p_cr = cumsum(is_m_p)\n",
    "\n",
    "is_m_p_cl = cumulate_sum_reverse(is_m_p)\n",
    "\n",
    "plot_x_y(\n",
    "    (is_m_p, is_m_p_cr, is_m_p_cl);\n",
    "    name_ = (\"P\", \"CR(P)\", \"CL(P)\"),\n",
    "    layout = extend_layout(layout; title = \"Is Miss\"),\n",
    ")"
   ]
  },
  {
   "cell_type": "markdown",
   "metadata": {},
   "source": [
    "## Amplitutde"
   ]
  },
  {
   "cell_type": "code",
   "execution_count": null,
   "metadata": {},
   "outputs": [],
   "source": [
    "a = abs.(element_score_)\n",
    "\n",
    "plot_x_y((a,); layout = extend_layout(layout; yaxis_title = \"Amplitude\"))"
   ]
  },
  {
   "cell_type": "code",
   "execution_count": null,
   "metadata": {},
   "outputs": [],
   "source": [
    "a_p = a / sum(a)\n",
    "\n",
    "a_p_cr = cumsum(a_p)\n",
    "\n",
    "a_p_cl = cumulate_sum_reverse(a_p)\n",
    "\n",
    "plot_x_y(\n",
    "    (a_p, a_p_cr, a_p_cl);\n",
    "    name_ = (\"P\", \"CR(P)\", \"CL(P)\"),\n",
    "    layout = extend_layout(layout; title = \"Amplitude\"),\n",
    ")"
   ]
  },
  {
   "cell_type": "code",
   "execution_count": null,
   "metadata": {},
   "outputs": [],
   "source": [
    "a_h = is_h .* a\n",
    "\n",
    "a_h_p = a_h / sum(a_h)\n",
    "\n",
    "a_h_p_cr = cumsum(a_h_p)\n",
    "\n",
    "a_h_p_cl = cumulate_sum_reverse(a_h_p)\n",
    "\n",
    "plot_x_y(\n",
    "    (a_h_p, a_h_p_cr, a_h_p_cl);\n",
    "    name_ = (\"P\", \"CR(P)\", \"CL(P)\"),\n",
    "    layout = extend_layout(layout; title = \"Amplitude Hit\"),\n",
    ")"
   ]
  },
  {
   "cell_type": "code",
   "execution_count": null,
   "metadata": {},
   "outputs": [],
   "source": [
    "a_m = is_m .* a\n",
    "\n",
    "a_m_p = a_m / sum(a_m)\n",
    "\n",
    "a_m_p_cr = cumsum(a_m_p)\n",
    "\n",
    "a_m_p_cl = cumulate_sum_reverse(a_m_p)\n",
    "\n",
    "plot_x_y(\n",
    "    (a_m_p, a_m_p_cr, a_m_p_cl);\n",
    "    name_ = (\"P\", \"CR(P)\", \"CL(P)\"),\n",
    "    layout = extend_layout(layout; title = \"Amplitude Miss\"),\n",
    ")"
   ]
  },
  {
   "cell_type": "markdown",
   "metadata": {},
   "source": [
    "## KS"
   ]
  },
  {
   "cell_type": "code",
   "execution_count": null,
   "metadata": {},
   "outputs": [],
   "source": [
    "ks = is_h_p_cl - is_m_p_cl\n",
    "\n",
    "plot_x_y((ks,); layout = extend_layout(layout; title = \"KS\", yaxis_title = \"Set Score\"))"
   ]
  },
  {
   "cell_type": "markdown",
   "metadata": {},
   "source": [
    "## JSD"
   ]
  },
  {
   "cell_type": "code",
   "execution_count": null,
   "metadata": {},
   "outputs": [],
   "source": [
    "jsd = compute_jsd(a_h_p_cl, a_m_p_cl, a_p_cl) - compute_jsd(a_h_p_cr, a_m_p_cr, a_p_cr)\n",
    "\n",
    "plot_x_y((jsd,); layout = extend_layout(layout; title = \"JSD\", yaxis_title = \"Set Score\"))"
   ]
  },
  {
   "cell_type": "markdown",
   "metadata": {},
   "source": [
    "## Score"
   ]
  },
  {
   "cell_type": "code",
   "execution_count": null,
   "metadata": {},
   "outputs": [],
   "source": [
    "s = ks"
   ]
  },
  {
   "cell_type": "code",
   "execution_count": null,
   "metadata": {},
   "outputs": [],
   "source": [
    "score = sum(s) / length(s)"
   ]
  }
 ],
 "metadata": {
  "kernelspec": {
   "display_name": "Julia 1.5.3",
   "language": "julia",
   "name": "julia-1.5"
  },
  "language_info": {
   "file_extension": ".jl",
   "mimetype": "application/julia",
   "name": "julia",
   "version": "1.5.3"
  }
 },
 "nbformat": 4,
 "nbformat_minor": 4
}
