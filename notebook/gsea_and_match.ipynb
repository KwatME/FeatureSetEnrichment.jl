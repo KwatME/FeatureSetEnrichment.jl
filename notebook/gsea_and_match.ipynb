{
 "cells": [
  {
   "cell_type": "code",
   "execution_count": null,
   "metadata": {},
   "outputs": [],
   "source": [
    "using CSV\n",
    "using DataFrames\n",
    "using PyCall\n",
    "\n",
    "include(\"../src/Kraft.jl\")\n",
    "\n",
    "pd = pyimport(\"pandas\")\n",
    "kraft = pyimport(\"kraft\")"
   ]
  },
  {
   "cell_type": "code",
   "execution_count": null,
   "metadata": {},
   "outputs": [],
   "source": [
    "gene_x_sample_gct_file_path = \"\"\n",
    "\n",
    "gene_x_sample_tsv_file_path = \"\"\n",
    "\n",
    "CSV.write(\n",
    "    gene_x_sample_tsv_file_path,\n",
    "    Kraft.read(gene_x_sample_gct_file_path, \"Gene\");\n",
    "    delim = '\t',\n",
    ")\n",
    "\n",
    "gmt_file_paths = [\n",
    "    \"c1.all.v6.2.symbols.gmt\",\n",
    "    \"c2.all.v6.2.symbols.gmt\",\n",
    "    \"c3.all.v6.2.symbols.gmt\",\n",
    "    \"c5.all.v6.2.symbols.gmt\",\n",
    "    \"c6.all.v6.2.symbols.gmt\",\n",
    "    \"c7.all.v6.2.symbols.gmt\",\n",
    "    \"h.all.v6.2.symbols.gmt\",\n",
    "]\n",
    "\n",
    "output_directory_path = \"/Users/kwatme/Downloads/gsea\"\n",
    "\n",
    "gene_set_keywords = [\n",
    "    \"VANTVEER_BREAST_CANCER_ESR1\",\n",
    "    \"DOANE_BREAST_CANCER_ESR1\",\n",
    "    \"YANG_BREAST_CANCER_ESR1\",\n",
    "    \"CHARAFE_BREAST_CANCER_LUMINAL_VS_BASAL\",\n",
    "    \"AIGNER_ZEB1_TARGETS\",\n",
    "    \"SANSOM_APC_TARGETS\",\n",
    "    \"BCAT_GDS748\",\n",
    "    \"BCAT.100_UP.V1\",\n",
    "    \"PID_WNT_SIGNALING_PATHWAY\",\n",
    "    \"LIU_CDX2_TARGETS\",\n",
    "    \"KEGG_WNT_SIGNALING_PATHWAY\",\n",
    "];"
   ]
  },
  {
   "cell_type": "code",
   "execution_count": null,
   "metadata": {},
   "outputs": [],
   "source": [
    "gene_set_x_sample_tsv_file_path = Kraft.gsea(\n",
    "    gene_x_sample_tsv_file_path,\n",
    "    gmt_file_paths,\n",
    "    output_directory_path;\n",
    "    sample_normalization_method = \"-0-\",\n",
    "    gene_set_keywords = gene_set_keywords,\n",
    ")\n",
    "\n",
    "gene_set_x_sample = CSV.read(gene_set_x_sample_tsv_file_path)"
   ]
  },
  {
   "cell_type": "code",
   "execution_count": null,
   "metadata": {},
   "outputs": [],
   "source": [
    "feature_x_sample = Kraft.read(\"/Users/kwatme/Downloads/Achilles_gene_effect.gct\", \"Feature\")\n",
    "\n",
    "target_row_indices = findall(feature_x_sample[!, 1] .== \"Feature Name\")\n",
    "\n",
    "if length(target_row_indices) != 1\n",
    "\n",
    "    error(\"there should be only 1 target.\")\n",
    "\n",
    "end\n",
    "\n",
    "target_row_index = target_row_indices[1]\n",
    "\n",
    "target = pd.Series(\n",
    "    [feature_x_sample[target_row_index, i] for i = 2:size(feature_x_sample, 2)],\n",
    "    index = names(feature_x_sample)[2:end],\n",
    "    name = \"Target\",\n",
    ")"
   ]
  },
  {
   "cell_type": "code",
   "execution_count": null,
   "metadata": {},
   "outputs": [],
   "source": [
    "data = pd.DataFrame(\n",
    "    Dict(name => gene_set_x_sample[!, name] for name in names(gene_set_x_sample)[2:end]),\n",
    "    index = gene_set_x_sample[!, 1],\n",
    ")"
   ]
  },
  {
   "cell_type": "code",
   "execution_count": null,
   "metadata": {},
   "outputs": [],
   "source": [
    "kraft.make_match_panel(target, data, n_sampling = 0, n_permutation = 0)"
   ]
  }
 ],
 "metadata": {
  "@webio": {
   "lastCommId": null,
   "lastKernelId": null
  },
  "kernelspec": {
   "display_name": "Julia 1.0.3",
   "language": "julia",
   "name": "julia-1.0"
  },
  "language_info": {
   "file_extension": ".jl",
   "mimetype": "application/julia",
   "name": "julia",
   "version": "1.0.3"
  }
 },
 "nbformat": 4,
 "nbformat_minor": 4
}
