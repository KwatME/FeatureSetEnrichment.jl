{
 "cells": [
  {
   "cell_type": "code",
   "execution_count": null,
   "metadata": {},
   "outputs": [],
   "source": [
    "using CSV\n",
    "using DataFrames"
   ]
  },
  {
   "cell_type": "code",
   "execution_count": null,
   "metadata": {},
   "outputs": [],
   "source": [
    "gene_x_sample_gct_file_path = \"\"\n",
    "\n",
    "gene_x_sample_tsv_file_path = \"\"\n",
    "\n",
    "CSV.write(\n",
    "    gene_x_sample_tsv_file_path,\n",
    "    Kraft.read(gene_x_sample_gct_file_path, \"Gene\");\n",
    "    delim = '\t',\n",
    ")\n",
    "\n",
    "gmt_file_paths = [\n",
    "    \"c1.all.v6.2.symbols.gmt\",\n",
    "    \"c2.all.v6.2.symbols.gmt\",\n",
    "    \"c3.all.v6.2.symbols.gmt\",\n",
    "    \"c5.all.v6.2.symbols.gmt\",\n",
    "    \"c6.all.v6.2.symbols.gmt\",\n",
    "    \"c7.all.v6.2.symbols.gmt\",\n",
    "    \"h.all.v6.2.symbols.gmt\",\n",
    "]\n",
    "\n",
    "output_directory_path = \"/Users/kwatme/Downloads/gsea\"\n",
    "\n",
    "gene_set_keywords = [\n",
    "    \"VANTVEER_BREAST_CANCER_ESR1\",\n",
    "    \"DOANE_BREAST_CANCER_ESR1\",\n",
    "    \"YANG_BREAST_CANCER_ESR1\",\n",
    "    \"CHARAFE_BREAST_CANCER_LUMINAL_VS_BASAL\",\n",
    "    \"AIGNER_ZEB1_TARGETS\",\n",
    "    \"SANSOM_APC_TARGETS\",\n",
    "    \"BCAT_GDS748\",\n",
    "    \"BCAT.100_UP.V1\",\n",
    "    \"PID_WNT_SIGNALING_PATHWAY\",\n",
    "    \"LIU_CDX2_TARGETS\",\n",
    "    \"KEGG_WNT_SIGNALING_PATHWAY\",\n",
    "];"
   ]
  },
  {
   "cell_type": "code",
   "execution_count": null,
   "metadata": {},
   "outputs": [],
   "source": [
    "gene_set_x_sample_tsv_file_path = Kraft.gsea(\n",
    "    gene_x_sample_tsv_file_path,\n",
    "    gmt_file_paths,\n",
    "    output_directory_path;\n",
    "    sample_normalization_method = \"-0-\",\n",
    "    gene_set_keywords = gene_set_keywords,\n",
    ")\n",
    "\n",
    "gene_set_x_sample = CSV.read(gene_set_x_sample_tsv_file_path)"
   ]
  }
 ],
 "metadata": {
  "@webio": {
   "lastCommId": null,
   "lastKernelId": null
  },
  "kernelspec": {
   "display_name": "Julia 1.5.3",
   "language": "julia",
   "name": "julia-1.5"
  },
  "language_info": {
   "file_extension": ".jl",
   "mimetype": "application/julia",
   "name": "julia",
   "version": "1.5.3"
  }
 },
 "nbformat": 4,
 "nbformat_minor": 4
}
