{
 "cells": [
  {
   "cell_type": "code",
   "execution_count": 3,
   "metadata": {},
   "outputs": [
    {
     "name": "stderr",
     "output_type": "stream",
     "text": [
      "┌ Info: Precompiling FeatureSetEnrichment [d7bef1b9-4643-4ed1-9ceb-ed43dd382ec0]\n",
      "└ @ Base loading.jl:1317\n",
      "\u001b[91m\u001b[1mERROR: \u001b[22m\u001b[39mLoadError: LoadError: ArgumentError: Package FeatureSetEnrichment does not have Kraft in its dependencies:\n",
      "- If you have FeatureSetEnrichment checked out for development and have\n",
      "  added Kraft as a dependency but haven't updated your primary\n",
      "  environment's manifest file, try `Pkg.resolve()`.\n",
      "- Otherwise you may need to report an issue with FeatureSetEnrichment\n",
      "Stacktrace:\n",
      "  [1] \u001b[0m\u001b[1mrequire\u001b[22m\u001b[0m\u001b[1m(\u001b[22m\u001b[90minto\u001b[39m::\u001b[0mModule, \u001b[90mmod\u001b[39m::\u001b[0mSymbol\u001b[0m\u001b[1m)\u001b[22m\n",
      "\u001b[90m    @ \u001b[39m\u001b[90mBase\u001b[39m \u001b[90m./\u001b[39m\u001b[90;4mloading.jl:884\u001b[0m\n",
      "  [2] \u001b[0m\u001b[1minclude\u001b[22m\u001b[0m\u001b[1m(\u001b[22m\u001b[90mmod\u001b[39m::\u001b[0mModule, \u001b[90m_path\u001b[39m::\u001b[0mString\u001b[0m\u001b[1m)\u001b[22m\n",
      "\u001b[90m    @ \u001b[39m\u001b[90mBase\u001b[39m \u001b[90m./\u001b[39m\u001b[90;4mBase.jl:386\u001b[0m\n",
      "  [3] \u001b[0m\u001b[1minclude\u001b[22m\u001b[0m\u001b[1m(\u001b[22m\u001b[90mx\u001b[39m::\u001b[0mString\u001b[0m\u001b[1m)\u001b[22m\n",
      "\u001b[90m    @ \u001b[39m\u001b[35mFeatureSetEnrichment\u001b[39m \u001b[90m~/code/jl/FeatureSetEnrichment.jl/src/\u001b[39m\u001b[90;4mFeatureSetEnrichment.jl:1\u001b[0m\n",
      "  [4] top-level scope\n",
      "\u001b[90m    @ \u001b[39m\u001b[90m~/code/jl/FeatureSetEnrichment.jl/src/\u001b[39m\u001b[90;4mFeatureSetEnrichment.jl:13\u001b[0m\n",
      "  [5] \u001b[0m\u001b[1minclude\u001b[22m\n",
      "\u001b[90m    @ \u001b[39m\u001b[90m./\u001b[39m\u001b[90;4mBase.jl:386\u001b[0m\u001b[90m [inlined]\u001b[39m\n",
      "  [6] \u001b[0m\u001b[1minclude_package_for_output\u001b[22m\u001b[0m\u001b[1m(\u001b[22m\u001b[90mpkg\u001b[39m::\u001b[0mBase.PkgId, \u001b[90minput\u001b[39m::\u001b[0mString, \u001b[90mdepot_path\u001b[39m::\u001b[0mVector\u001b[90m{String}\u001b[39m, \u001b[90mdl_load_path\u001b[39m::\u001b[0mVector\u001b[90m{String}\u001b[39m, \u001b[90mload_path\u001b[39m::\u001b[0mVector\u001b[90m{String}\u001b[39m, \u001b[90mconcrete_deps\u001b[39m::\u001b[0mVector\u001b[90m{Pair{Base.PkgId, UInt64}}\u001b[39m, \u001b[90msource\u001b[39m::\u001b[0mNothing\u001b[0m\u001b[1m)\u001b[22m\n",
      "\u001b[90m    @ \u001b[39m\u001b[90mBase\u001b[39m \u001b[90m./\u001b[39m\u001b[90;4mloading.jl:1213\u001b[0m\n",
      "  [7] top-level scope\n",
      "\u001b[90m    @ \u001b[39m\u001b[90;4mnone:1\u001b[0m\n",
      "  [8] \u001b[0m\u001b[1meval\u001b[22m\n",
      "\u001b[90m    @ \u001b[39m\u001b[90m./\u001b[39m\u001b[90;4mboot.jl:360\u001b[0m\u001b[90m [inlined]\u001b[39m\n",
      "  [9] \u001b[0m\u001b[1meval\u001b[22m\u001b[0m\u001b[1m(\u001b[22m\u001b[90mx\u001b[39m::\u001b[0mExpr\u001b[0m\u001b[1m)\u001b[22m\n",
      "\u001b[90m    @ \u001b[39m\u001b[90mBase.MainInclude\u001b[39m \u001b[90m./\u001b[39m\u001b[90;4mclient.jl:446\u001b[0m\n",
      " [10] top-level scope\n",
      "\u001b[90m    @ \u001b[39m\u001b[90;4mnone:1\u001b[0m\n",
      "in expression starting at /Users/kwat/code/jl/FeatureSetEnrichment.jl/src/score_set.jl:4\n",
      "in expression starting at /Users/kwat/code/jl/FeatureSetEnrichment.jl/src/FeatureSetEnrichment.jl:1\n"
     ]
    },
    {
     "ename": "LoadError",
     "evalue": "Failed to precompile FeatureSetEnrichment [d7bef1b9-4643-4ed1-9ceb-ed43dd382ec0] to /Users/kwat/.julia/compiled/v1.6/FeatureSetEnrichment/jl_UXW0Xa.",
     "output_type": "error",
     "traceback": [
      "Failed to precompile FeatureSetEnrichment [d7bef1b9-4643-4ed1-9ceb-ed43dd382ec0] to /Users/kwat/.julia/compiled/v1.6/FeatureSetEnrichment/jl_UXW0Xa.",
      "",
      "Stacktrace:",
      " [1] error(s::String)",
      "   @ Base ./error.jl:33",
      " [2] compilecache(pkg::Base.PkgId, path::String, internal_stderr::IJulia.IJuliaStdio{Base.PipeEndpoint}, internal_stdout::IJulia.IJuliaStdio{Base.PipeEndpoint})",
      "   @ Base ./loading.jl:1360",
      " [3] compilecache(pkg::Base.PkgId, path::String)",
      "   @ Base ./loading.jl:1306",
      " [4] _require(pkg::Base.PkgId)",
      "   @ Base ./loading.jl:1021",
      " [5] require(uuidkey::Base.PkgId)",
      "   @ Base ./loading.jl:914",
      " [6] require(into::Module, mod::Symbol)",
      "   @ Base ./loading.jl:901",
      " [7] eval",
      "   @ ./boot.jl:360 [inlined]",
      " [8] include_string(mapexpr::typeof(REPL.softscope), mod::Module, code::String, filename::String)",
      "   @ Base ./loading.jl:1094"
     ]
    }
   ],
   "source": [
    "using Revise\n",
    "\n",
    "using BenchmarkTools\n",
    "using DataFrames\n",
    "using Plotly\n",
    "\n",
    "using GCTGMT\n",
    "using Plot\n",
    "using Support\n",
    "\n",
    "using FeatureSetEnrichment"
   ]
  },
  {
   "cell_type": "code",
   "execution_count": null,
   "metadata": {},
   "outputs": [],
   "source": [
    "use_style!()\n",
    "\n",
    ";"
   ]
  },
  {
   "cell_type": "code",
   "execution_count": null,
   "metadata": {},
   "outputs": [],
   "source": [
    "element_, score_, set_element_ = make_benchmark(\"myc\")\n",
    "\n",
    "element_x_sample = DataFrame(\n",
    "    Symbol(\"Element\") => element_,\n",
    "    Symbol(\"Score\") => score_,\n",
    "    Symbol(\"Score x 10\") => score_ * 10,\n",
    "    Symbol(\"Constant\") => fill(0.8, length(element_)),\n",
    ")\n",
    "\n",
    "set_to_element = read_gmt(\"data/h.all.v7.1.symbols.gmt\")\n",
    "\n",
    ";"
   ]
  },
  {
   "cell_type": "code",
   "execution_count": null,
   "metadata": {},
   "outputs": [],
   "source": [
    "is_ = check_is(element_, set_element_)\n",
    "\n",
    "@btime score_set(element_, score_, set_element_, is_; plot = false)"
   ]
  },
  {
   "cell_type": "code",
   "execution_count": null,
   "metadata": {},
   "outputs": [],
   "source": [
    "@btime score_set(element_, score_, set_element_; sort = false, plot = false)"
   ]
  },
  {
   "cell_type": "code",
   "execution_count": null,
   "metadata": {},
   "outputs": [],
   "source": [
    "@btime score_set(element_, score_, set_to_element; sort = false)"
   ]
  },
  {
   "cell_type": "code",
   "execution_count": null,
   "metadata": {},
   "outputs": [],
   "source": [
    "@btime score_set(element_x_sample, set_to_element; n_job = 1)"
   ]
  }
 ],
 "metadata": {
  "kernelspec": {
   "display_name": "Julia 1.6.0",
   "language": "julia",
   "name": "julia-1.6"
  },
  "language_info": {
   "file_extension": ".jl",
   "mimetype": "application/julia",
   "name": "julia",
   "version": "1.6.0"
  }
 },
 "nbformat": 4,
 "nbformat_minor": 4
}
