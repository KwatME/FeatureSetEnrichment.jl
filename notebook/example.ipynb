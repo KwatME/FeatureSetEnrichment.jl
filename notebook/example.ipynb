{
 "cells": [
  {
   "cell_type": "code",
   "execution_count": null,
   "metadata": {},
   "outputs": [],
   "source": [
    "using BenchmarkTools\n",
    "using Plotly\n",
    "using Random\n",
    "using StatsBase"
   ]
  },
  {
   "cell_type": "code",
   "execution_count": null,
   "metadata": {},
   "outputs": [],
   "source": [
    "Random.seed!(20121020)\n",
    "\n",
    ";"
   ]
  },
  {
   "cell_type": "code",
   "execution_count": null,
   "metadata": {},
   "outputs": [],
   "source": [
    "function cumsum_reverse(a::Vector)\n",
    "\n",
    "    return reverse(cumsum(Iterators.reverse(a)))\n",
    "\n",
    "end"
   ]
  },
  {
   "cell_type": "code",
   "execution_count": null,
   "metadata": {},
   "outputs": [],
   "source": [
    "element_ = string.(Array('A':'Z'))\n",
    "\n",
    "n_element = length(element_)\n",
    "\n",
    "element_score_ = randn(n_element)\n",
    "\n",
    ";"
   ]
  },
  {
   "cell_type": "code",
   "execution_count": null,
   "metadata": {},
   "outputs": [],
   "source": [
    "n_set_element = 3\n",
    "\n",
    "set_element_ = sample(element_, n_set_element; replace = false);"
   ]
  },
  {
   "cell_type": "code",
   "execution_count": null,
   "metadata": {},
   "outputs": [],
   "source": [
    "index_ = sortperm(element_score_)\n",
    "\n",
    "element_score_ = element_score_[index_]\n",
    "\n",
    "# element_ = element_[index_]\n",
    "\n",
    "plot([scatter(y = element_score_)], Layout(title = \"Element Score\"))"
   ]
  },
  {
   "cell_type": "markdown",
   "metadata": {},
   "source": [
    "## Is"
   ]
  },
  {
   "cell_type": "code",
   "execution_count": null,
   "metadata": {},
   "outputs": [],
   "source": [
    "set_element_to_nothing = Dict(set_element => nothing for set_element in set_element_)\n",
    "\n",
    "is_h = [Float64(haskey(set_element_to_nothing, element)) for element in element_]\n",
    "\n",
    "is_m = 1 .- is_h\n",
    "\n",
    "plot(\n",
    "    [scatter(name = \"Hit\", y = is_h), scatter(name = \"Miss\", y = is_m)],\n",
    "    Layout(title = \"Is\"),\n",
    ")"
   ]
  },
  {
   "cell_type": "code",
   "execution_count": null,
   "metadata": {},
   "outputs": [],
   "source": [
    "is_h_p = is_h / sum(is_h)\n",
    "\n",
    "is_h_p_rc = cumsum(is_h_p)\n",
    "\n",
    "is_h_p_lc = cumsum_reverse(is_h_p)\n",
    "\n",
    "plot(\n",
    "    [\n",
    "        scatter(name = \"Probability\", y = is_h_p),\n",
    "        scatter(name = \"Cumulative probability >\", y = is_h_p_rc),\n",
    "        scatter(name = \"Cumulative probability <\", y = is_h_p_lc),\n",
    "    ],\n",
    "    Layout(title = \"Is Hit\"),\n",
    ")"
   ]
  },
  {
   "cell_type": "code",
   "execution_count": null,
   "metadata": {},
   "outputs": [],
   "source": [
    "is_m_p = is_m / sum(is_m)\n",
    "\n",
    "is_m_p_rc = cumsum(is_m_p)\n",
    "\n",
    "is_m_p_lc = cumsum_reverse(is_m_p)\n",
    "\n",
    "plot(\n",
    "    [\n",
    "        scatter(name = \"Probability\", y = is_m_p),\n",
    "        scatter(name = \"Cumulative probability >\", y = is_m_p_rc),\n",
    "        scatter(name = \"Cumulative probability <\", y = is_m_p_lc),\n",
    "    ],\n",
    "    Layout(title = \"Is Miss\"),\n",
    ")"
   ]
  },
  {
   "cell_type": "markdown",
   "metadata": {},
   "source": [
    "## Amplitutde"
   ]
  },
  {
   "cell_type": "code",
   "execution_count": null,
   "metadata": {},
   "outputs": [],
   "source": [
    "a = abs.(element_score_)\n",
    "\n",
    ";"
   ]
  },
  {
   "cell_type": "code",
   "execution_count": null,
   "metadata": {},
   "outputs": [],
   "source": [
    "a_p = a / sum(a)\n",
    "\n",
    "a_p_rc = cumsum(a_p)\n",
    "\n",
    "a_p_lc = cumsum_reverse(a_p)\n",
    "\n",
    "plot(\n",
    "    [\n",
    "        scatter(name = \"Probability\", y = a_p),\n",
    "        scatter(name = \"Cumulative probability >\", y = a_p_rc),\n",
    "        scatter(name = \"Cumulative probability <\", y = a_p_lc),\n",
    "    ],\n",
    "    Layout(title = \"Amplitude\"),\n",
    ")"
   ]
  },
  {
   "cell_type": "code",
   "execution_count": null,
   "metadata": {},
   "outputs": [],
   "source": [
    "a_h = h_1 .* a\n",
    "\n",
    "a_h_p = a_h / sum(a_h)\n",
    "\n",
    "a_h_p_rc = cumsum(a_h_p)\n",
    "\n",
    "a_h_p_lc = cumsum_reverse(a_h_p)\n",
    "\n",
    "plot(\n",
    "    [\n",
    "        scatter(name = \"Probability\", y = a_h_p),\n",
    "        scatter(name = \"Cumulative probability >\", y = a_h_p_rc),\n",
    "        scatter(name = \"Cumulative probability <\", y = a_h_p_lc),\n",
    "    ],\n",
    "    Layout(title = \"Amplitude Hit\"),\n",
    ")"
   ]
  },
  {
   "cell_type": "code",
   "execution_count": null,
   "metadata": {},
   "outputs": [],
   "source": [
    "a_m = m_1 .* a\n",
    "\n",
    "a_m_p = a_m / sum(a_m)\n",
    "\n",
    "a_m_p_rc = cumsum(a_m_p)\n",
    "\n",
    "a_m_p_lc = cumsum_reverse(a_m_p)\n",
    "\n",
    "plot(\n",
    "    [\n",
    "        scatter(name = \"Probability\", y = a_m_p),\n",
    "        scatter(name = \"Cumulative probability >\", y = a_m_p_rc),\n",
    "        scatter(name = \"Cumulative probability <\", y = a_m_p_lc),\n",
    "    ],\n",
    "    Layout(title = \"Amplitude Miss\"),\n",
    ")"
   ]
  },
  {
   "cell_type": "markdown",
   "metadata": {},
   "source": [
    "## KS"
   ]
  },
  {
   "cell_type": "code",
   "execution_count": null,
   "metadata": {},
   "outputs": [],
   "source": [
    "# KS\n",
    "\n",
    "s = h_1_p_lc - m_1_p_lc\n",
    "\n",
    "plot([scatter(y = s)])"
   ]
  },
  {
   "cell_type": "markdown",
   "metadata": {},
   "source": [
    "## JSD"
   ]
  },
  {
   "cell_type": "code",
   "execution_count": null,
   "metadata": {},
   "outputs": [],
   "source": [
    "# # JSD\n",
    "\n",
    "# s = JSD(h_a_p_rc, m_a_p_rc, a_p_rc) - JSD(h_a_p_lc, m_a_p_lc, a_p_lc)"
   ]
  },
  {
   "cell_type": "markdown",
   "metadata": {},
   "source": [
    "## Score"
   ]
  },
  {
   "cell_type": "code",
   "execution_count": null,
   "metadata": {},
   "outputs": [],
   "source": [
    "score = sum(s) / length(s)"
   ]
  }
 ],
 "metadata": {
  "kernelspec": {
   "display_name": "Julia 1.5.3",
   "language": "julia",
   "name": "julia-1.5"
  },
  "language_info": {
   "file_extension": ".jl",
   "mimetype": "application/julia",
   "name": "julia",
   "version": "1.5.3"
  }
 },
 "nbformat": 4,
 "nbformat_minor": 4
}
