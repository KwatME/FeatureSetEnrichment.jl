{
 "cells": [
  {
   "cell_type": "code",
   "execution_count": null,
   "metadata": {},
   "outputs": [],
   "source": [
    "using BenchmarkTools\n",
    "using Random\n",
    "using StatsBase"
   ]
  },
  {
   "cell_type": "code",
   "execution_count": null,
   "metadata": {},
   "outputs": [],
   "source": [
    "Random.seed!(20121020)\n",
    "\n",
    ";"
   ]
  },
  {
   "cell_type": "code",
   "execution_count": null,
   "metadata": {},
   "outputs": [],
   "source": [
    "element_ = string.(Array('A':'Z'))\n",
    "\n",
    "n_element = length(element_)\n",
    "\n",
    "element_score_ = randn(n_element)\n",
    "\n",
    ";"
   ]
  },
  {
   "cell_type": "code",
   "execution_count": null,
   "metadata": {},
   "outputs": [],
   "source": [
    "n_set_element = 3\n",
    "\n",
    "set_element_ = sample(element_, n_set_element; replace=false)\n",
    "\n",
    ";"
   ]
  },
  {
   "cell_type": "code",
   "execution_count": null,
   "metadata": {},
   "outputs": [],
   "source": [
    "index_ = sortperm(element_score_)\n",
    "\n",
    "element_score_ = element_score_[index_]\n",
    "\n",
    "# element_ = element_[index_]\n",
    "\n",
    ";"
   ]
  },
  {
   "cell_type": "code",
   "execution_count": null,
   "metadata": {},
   "outputs": [],
   "source": [
    "set_element_ = Dict(set_element => nothing for set_element in set_element_)\n",
    "\n",
    "h_1 = [Float64(haskey(set_element_, element)) for element in element_]\n",
    "\n",
    "m_1 = 1 .- h_1\n",
    "\n",
    ";"
   ]
  },
  {
   "cell_type": "code",
   "execution_count": null,
   "metadata": {},
   "outputs": [],
   "source": [
    "function cumsum_reverse(a::Vector)\n",
    "    \n",
    "    return reverse(cumsum(Iterators.reverse(a)))\n",
    "    \n",
    "end"
   ]
  },
  {
   "cell_type": "code",
   "execution_count": null,
   "metadata": {},
   "outputs": [],
   "source": [
    "h_1_p = h_1 / sum(h_1)\n",
    "\n",
    "h_1_p_lc = cumsum(h_1_p)\n",
    "\n",
    "h_1_p_rc = cumsum_reverse(h_1_p)\n",
    "\n",
    ";"
   ]
  },
  {
   "cell_type": "code",
   "execution_count": null,
   "metadata": {},
   "outputs": [],
   "source": [
    "m_1_p = m_1 / sum(m_1)\n",
    "\n",
    "m_1_p_lc = cumsum(m_1_p)\n",
    "\n",
    "m_1_p_rc = cumsum_reverse(m_1_p)\n",
    "\n",
    ";"
   ]
  },
  {
   "cell_type": "code",
   "execution_count": null,
   "metadata": {},
   "outputs": [],
   "source": [
    "a = abs.(element_score_)\n",
    "\n",
    "a_p = a / sum(a)\n",
    "\n",
    "a_p_lc = cumsum(a_p)\n",
    "\n",
    "a_p_rc = cumsum_reverse(a_p);\n",
    "\n",
    ";"
   ]
  },
  {
   "cell_type": "code",
   "execution_count": null,
   "metadata": {},
   "outputs": [],
   "source": [
    "h_a = h_1 .* a\n",
    "\n",
    "h_a_p = h_a / sum(h_a)\n",
    "\n",
    "h_a_p_lc = cumsum(h_a_p)\n",
    "\n",
    "h_a_p_rc = cumsum_reverse(h_a_p)\n",
    "\n",
    ";"
   ]
  },
  {
   "cell_type": "code",
   "execution_count": null,
   "metadata": {},
   "outputs": [],
   "source": [
    "m_a = m_1 .* a\n",
    "\n",
    "m_a_p = m_a / sum(m_a)\n",
    "\n",
    "m_a_p_lc = cumsum(m_a_p)\n",
    "\n",
    "m_a_p_rc = cumsum_reverse(m_a_p)\n",
    "\n",
    ";"
   ]
  },
  {
   "cell_type": "code",
   "execution_count": null,
   "metadata": {},
   "outputs": [],
   "source": [
    "# KS\n",
    "\n",
    "s = h_1_p_rc - m_1_p_rc\n",
    "\n",
    ";"
   ]
  },
  {
   "cell_type": "code",
   "execution_count": null,
   "metadata": {},
   "outputs": [],
   "source": [
    "# # JSD\n",
    "\n",
    "# s = JSD(h_a_p_lc, m_a_p_lc, a_p_lc) - JSD(h_a_p_rc, m_a_p_rc, a_p_rc)\n",
    "\n",
    "# ;"
   ]
  },
  {
   "cell_type": "code",
   "execution_count": null,
   "metadata": {},
   "outputs": [],
   "source": [
    "score = sum(s) / length(s)"
   ]
  },
  {
   "cell_type": "code",
   "execution_count": null,
   "metadata": {},
   "outputs": [],
   "source": []
  }
 ],
 "metadata": {
  "kernelspec": {
   "display_name": "Julia 1.5.3",
   "language": "julia",
   "name": "julia-1.5"
  },
  "language_info": {
   "file_extension": ".jl",
   "mimetype": "application/julia",
   "name": "julia",
   "version": "1.5.3"
  }
 },
 "nbformat": 4,
 "nbformat_minor": 4
}
