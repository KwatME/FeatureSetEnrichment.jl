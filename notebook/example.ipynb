{
 "cells": [
  {
   "cell_type": "code",
   "execution_count": null,
   "metadata": {},
   "outputs": [],
   "source": [
    "using BenchmarkTools\n",
    "using Plotly\n",
    "using Random\n",
    "using StatsBase"
   ]
  },
  {
   "cell_type": "code",
   "execution_count": null,
   "metadata": {},
   "outputs": [],
   "source": [
    "Random.seed!(20121020)\n",
    "\n",
    ";"
   ]
  },
  {
   "cell_type": "code",
   "execution_count": null,
   "metadata": {},
   "outputs": [],
   "source": [
    "style = Style(layout = Layout(autosize = false))\n",
    "\n",
    "use_style!(style)\n",
    "\n",
    ";"
   ]
  },
  {
   "cell_type": "code",
   "execution_count": null,
   "metadata": {},
   "outputs": [],
   "source": [
    "function cumulate_sum_reverse(a::Vector)\n",
    "\n",
    "    return reverse(cumsum(Iterators.reverse(a)))\n",
    "\n",
    "end\n",
    "\n",
    ";"
   ]
  },
  {
   "cell_type": "code",
   "execution_count": null,
   "metadata": {},
   "outputs": [],
   "source": [
    "element_ = string.(Array('A':'Z'))\n",
    "\n",
    "n_element = length(element_)\n",
    "\n",
    "element_score_ = randn(n_element)\n",
    "\n",
    ";"
   ]
  },
  {
   "cell_type": "code",
   "execution_count": null,
   "metadata": {},
   "outputs": [],
   "source": [
    "set_element_ = sample(element_, 3; replace = false)\n",
    "\n",
    "set_element_ = string.(collect(\"KWAT\"))\n",
    "\n",
    ";"
   ]
  },
  {
   "cell_type": "code",
   "execution_count": null,
   "metadata": {},
   "outputs": [],
   "source": [
    "sort_index_ = sortperm(element_score_)\n",
    "\n",
    "element_score_ = element_score_[sort_index_]\n",
    "\n",
    "# element_ = element_[sort_index_]\n",
    "\n",
    "xaxis = attr(title = \"Element\", tickvals = 0:n_element, ticktext = element_)\n",
    "\n",
    "plot([scatter(y = element_score_)], Layout(yaxis_title = \"Element Score\", xaxis = xaxis))"
   ]
  },
  {
   "cell_type": "markdown",
   "metadata": {},
   "source": [
    "## Is"
   ]
  },
  {
   "cell_type": "code",
   "execution_count": null,
   "metadata": {},
   "outputs": [],
   "source": [
    "set_element_to_ = Dict(set_element => nothing for set_element in set_element_)\n",
    "\n",
    "is_h = [Float64(haskey(set_element_to_, element)) for element in element_]\n",
    "\n",
    "is_m = 1 .- is_h\n",
    "\n",
    "plot(\n",
    "    [scatter(name = \"Is Hit\", y = is_h), scatter(name = \"Is Miss\", y = is_m)],\n",
    "    Layout(xaxis = xaxis),\n",
    ")"
   ]
  },
  {
   "cell_type": "code",
   "execution_count": null,
   "metadata": {},
   "outputs": [],
   "source": [
    "is_h_p = is_h / sum(is_h)\n",
    "\n",
    "is_h_p_cr = cumsum(is_h_p)\n",
    "\n",
    "is_h_p_cl = cumulate_sum_reverse(is_h_p)\n",
    "\n",
    "plot(\n",
    "    [\n",
    "        scatter(name = \"P( Is Hit )\", y = is_h_p),\n",
    "        scatter(name = \"CR( P( Is Hit ) )\", y = is_h_p_cr),\n",
    "        scatter(name = \"CL( P( Is Hit ) )\", y = is_h_p_cl),\n",
    "    ],\n",
    "    Layout(xaxis = xaxis),\n",
    ")"
   ]
  },
  {
   "cell_type": "code",
   "execution_count": null,
   "metadata": {},
   "outputs": [],
   "source": [
    "is_m_p = is_m / sum(is_m)\n",
    "\n",
    "is_m_p_cr = cumsum(is_m_p)\n",
    "\n",
    "is_m_p_cl = cumulate_sum_reverse(is_m_p)\n",
    "\n",
    "plot(\n",
    "    [\n",
    "        scatter(name = \"P( Is Miss )\", y = is_m_p),\n",
    "        scatter(name = \"CR( P( Is Miss ) )\", y = is_m_p_cr),\n",
    "        scatter(name = \"CL( P( Is Miss ) )\", y = is_m_p_cl),\n",
    "    ],\n",
    "    Layout(xaxis = xaxis),\n",
    ")"
   ]
  },
  {
   "cell_type": "markdown",
   "metadata": {},
   "source": [
    "## Amplitutde"
   ]
  },
  {
   "cell_type": "code",
   "execution_count": null,
   "metadata": {},
   "outputs": [],
   "source": [
    "a = abs.(element_score_)\n",
    "\n",
    "plot([scatter(y = a)], Layout(yaxis_title = \"Amplitude\", xaxis = xaxis))"
   ]
  },
  {
   "cell_type": "code",
   "execution_count": null,
   "metadata": {},
   "outputs": [],
   "source": [
    "a_p = a / sum(a)\n",
    "\n",
    "a_p_cr = cumsum(a_p)\n",
    "\n",
    "a_p_cl = cumulate_sum_reverse(a_p)\n",
    "\n",
    "plot(\n",
    "    [\n",
    "        scatter(name = \"P( Amplitude )\", y = a_p),\n",
    "        scatter(name = \"CR( P( Amplitude ) )\", y = a_p_cr),\n",
    "        scatter(name = \"CL( P( Amplitude ) )\", y = a_p_cl),\n",
    "    ],\n",
    "    Layout(xaxis = xaxis),\n",
    ")"
   ]
  },
  {
   "cell_type": "code",
   "execution_count": null,
   "metadata": {},
   "outputs": [],
   "source": [
    "a_h = is_h .* a\n",
    "\n",
    "a_h_p = a_h / sum(a_h)\n",
    "\n",
    "a_h_p_cr = cumsum(a_h_p)\n",
    "\n",
    "a_h_p_cl = cumulate_sum_reverse(a_h_p)\n",
    "\n",
    "plot(\n",
    "    [\n",
    "        scatter(name = \"P( Amplitude Hit )\", y = a_h_p),\n",
    "        scatter(name = \"CR( P( Amplitude Hit ) )\", y = a_h_p_cr),\n",
    "        scatter(name = \"CL( P( Amplitude Hit ) )\", y = a_h_p_cl),\n",
    "    ],\n",
    "    Layout(xaxis = xaxis),\n",
    ")"
   ]
  },
  {
   "cell_type": "code",
   "execution_count": null,
   "metadata": {},
   "outputs": [],
   "source": [
    "a_m = is_m .* a\n",
    "\n",
    "a_m_p = a_m / sum(a_m)\n",
    "\n",
    "a_m_p_cr = cumsum(a_m_p)\n",
    "\n",
    "a_m_p_cl = cumulate_sum_reverse(a_m_p)\n",
    "\n",
    "plot(\n",
    "    [\n",
    "        scatter(name = \"P( Amplitude Miss )\", y = a_m_p),\n",
    "        scatter(name = \"CR( P( Amplitude Miss ) )\", y = a_m_p_cr),\n",
    "        scatter(name = \"CL( P( Amplitude Miss ) )\", y = a_m_p_cl),\n",
    "    ],\n",
    "    Layout(xaxis = xaxis),\n",
    ")"
   ]
  },
  {
   "cell_type": "markdown",
   "metadata": {},
   "source": [
    "## KS"
   ]
  },
  {
   "cell_type": "code",
   "execution_count": null,
   "metadata": {},
   "outputs": [],
   "source": [
    "# KS\n",
    "\n",
    "s = is_h_p_cl - is_m_p_cl\n",
    "\n",
    "plot([scatter(y = s)], Layout(title = \"KS\", xaxis = xaxis))"
   ]
  },
  {
   "cell_type": "markdown",
   "metadata": {},
   "source": [
    "## JSD"
   ]
  },
  {
   "cell_type": "code",
   "execution_count": null,
   "metadata": {},
   "outputs": [],
   "source": [
    "# JSD\n",
    "\n",
    "s = JSD(a_h_p_cl, a_m_p_cl, a_p_cl) - JSD(a_h_p_cr, a_m_p_cr, a_p_cr)"
   ]
  },
  {
   "cell_type": "markdown",
   "metadata": {},
   "source": [
    "## Score"
   ]
  },
  {
   "cell_type": "code",
   "execution_count": null,
   "metadata": {},
   "outputs": [],
   "source": [
    "score = sum(s) / length(s)"
   ]
  },
  {
   "cell_type": "markdown",
   "metadata": {},
   "source": [
    "## High level interface"
   ]
  },
  {
   "cell_type": "code",
   "execution_count": null,
   "metadata": {},
   "outputs": [],
   "source": [
    "element_ = readlines(\"genes.txt\")[2:end]\n",
    "\n",
    "n_element = length(element_)\n",
    "\n",
    "element_value_ = randn(n_element)\n",
    "\n",
    "element_x_sample = DataFrame(\n",
    "    Symbol(\"Element\") => element_,\n",
    "    Symbol(\"Sample Constant\") => fill(1 / n_element, n_element),\n",
    "    Symbol(\"Sample Normal\") => element_value_,\n",
    "    Symbol(\"Sample Normal x 10\") => element_value_ * 10,\n",
    ")"
   ]
  },
  {
   "cell_type": "code",
   "execution_count": null,
   "metadata": {},
   "outputs": [],
   "source": [
    "set_element_ = sample(element_, 100, replace = false)\n",
    "\n",
    "set_to_element_ = read_gmt(\"h.all.v6.2.symbols.gmt\")"
   ]
  },
  {
   "cell_type": "code",
   "execution_count": null,
   "metadata": {},
   "outputs": [],
   "source": [
    "is_in_ = check_is_in(element_, set_element_)\n",
    "\n",
    "score_set(element_, element_value_, is_in_)"
   ]
  },
  {
   "cell_type": "code",
   "execution_count": null,
   "metadata": {},
   "outputs": [],
   "source": [
    "score_set(element_, element_value_, set_element_)"
   ]
  },
  {
   "cell_type": "code",
   "execution_count": null,
   "metadata": {},
   "outputs": [],
   "source": [
    "plot_set_enrichment(\n",
    "    element_,\n",
    "    element_value_,\n",
    "    set_element_;\n",
    "    title1_text = \"Title\",\n",
    "    title2_text = \"Description or any other text go here\",\n",
    "    element_value_name = \"Element<br>Value<br>Metric\",\n",
    ")"
   ]
  },
  {
   "cell_type": "code",
   "execution_count": null,
   "metadata": {},
   "outputs": [],
   "source": [
    "benchmark_result = @benchmark score_set(element_, element_value_, set_element_)\n",
    "\n",
    "@printf \"%.2f ms / set\" minimum(benchmark_result.times) / 1e6 / length(set_element_)\n",
    "\n",
    "benchmark_result"
   ]
  },
  {
   "cell_type": "code",
   "execution_count": null,
   "metadata": {},
   "outputs": [],
   "source": [
    "gene_x_sample_file_path = \"\"\n",
    "\n",
    "gmt_file_path_ = [\n",
    "    \"h.all.v6.2.symbols.gmt\",\n",
    "    \"c1.all.v6.2.symbols.gmt\",\n",
    "    \"c2.all.v6.2.symbols.gmt\",\n",
    "    \"c3.all.v6.2.symbols.gmt\",\n",
    "    \"c5.all.v6.2.symbols.gmt\",\n",
    "    \"c6.all.v6.2.symbols.gmt\",\n",
    "    \"c7.all.v6.2.symbols.gmt\",\n",
    "]\n",
    "\n",
    "directory_path = \"output/\"\n",
    "\n",
    "gene_set_keyword_ = [\n",
    "    \"VANTVEER_BREAST_CANCER_ESR1\",\n",
    "    \"DOANE_BREAST_CANCER_ESR1\",\n",
    "    \"YANG_BREAST_CANCER_ESR1\",\n",
    "    \"CHARAFE_BREAST_CANCER_LUMINAL_VS_BASAL\",\n",
    "    \"AIGNER_ZEB1_TARGETS\",\n",
    "    \"SANSOM_APC_TARGETS\",\n",
    "    \"BCAT_GDS748\",\n",
    "    \"BCAT.100_UP.V1\",\n",
    "    \"PID_WNT_SIGNALING_PATHWAY\",\n",
    "    \"LIU_CDX2_TARGETS\",\n",
    "    \"KEGG_WNT_SIGNALING_PATHWAY\",\n",
    "];\n",
    "\n",
    "gene_set_x_sample_tsv_file_path = Kraft.gsea(\n",
    "    gene_x_sample_file_path,\n",
    "    gmt_file_path_,\n",
    "    directory_path;\n",
    "    sample_normalization_method = \"-0-\",\n",
    "    gene_set_keyword_ = gene_set_keyword_,\n",
    ")\n",
    "\n",
    "gene_set_x_sample = CSV.read(gene_set_x_sample_tsv_file_path)"
   ]
  }
 ],
 "metadata": {
  "kernelspec": {
   "display_name": "Julia 1.5.3",
   "language": "julia",
   "name": "julia-1.5"
  },
  "language_info": {
   "file_extension": ".jl",
   "mimetype": "application/julia",
   "name": "julia",
   "version": "1.5.3"
  }
 },
 "nbformat": 4,
 "nbformat_minor": 4
}
