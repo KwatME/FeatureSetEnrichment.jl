{
 "cells": [
  {
   "cell_type": "code",
   "execution_count": null,
   "metadata": {},
   "outputs": [],
   "source": [
    "element_ = readlines(\"genes.txt\")[2:end]\n",
    "\n",
    "n_element = length(element_)\n",
    "\n",
    "element_value_ = randn(n_element)\n",
    "\n",
    "element_x_sample = DataFrame(\n",
    "    Symbol(\"Element\") => element_,\n",
    "    Symbol(\"Sample Constant\") => fill(1 / n_element, n_element),\n",
    "    Symbol(\"Sample Normal\") => element_value_,\n",
    "    Symbol(\"Sample Normal x 10\") => element_value_ * 10,\n",
    ")"
   ]
  },
  {
   "cell_type": "code",
   "execution_count": null,
   "metadata": {},
   "outputs": [],
   "source": [
    "set_element_ = sample(element_, 100, replace = false)\n",
    "\n",
    "set_to_element_ = read_gmt(\"h.all.v6.2.symbols.gmt\")"
   ]
  },
  {
   "cell_type": "code",
   "execution_count": null,
   "metadata": {},
   "outputs": [],
   "source": [
    "is_in_ = check_is_in(element_, set_element_)\n",
    "\n",
    "score_set(element_, element_value_, is_in_)"
   ]
  },
  {
   "cell_type": "code",
   "execution_count": null,
   "metadata": {},
   "outputs": [],
   "source": [
    "score_set(element_, element_value_, set_element_)"
   ]
  },
  {
   "cell_type": "code",
   "execution_count": null,
   "metadata": {},
   "outputs": [],
   "source": [
    "plot_set_enrichment(\n",
    "    element_,\n",
    "    element_value_,\n",
    "    set_element_;\n",
    "    title1_text = \"Title\",\n",
    "    title2_text = \"Description or any other text go here\",\n",
    "    element_value_name = \"Element<br>Value<br>Metric\",\n",
    ")"
   ]
  },
  {
   "cell_type": "code",
   "execution_count": null,
   "metadata": {},
   "outputs": [],
   "source": [
    "benchmark_result = @benchmark score_set(element_, element_value_, set_element_)\n",
    "\n",
    "@printf \"%.2f ms / set\" minimum(benchmark_result.times) / 1e6 / length(set_element_)\n",
    "\n",
    "benchmark_result"
   ]
  },
  {
   "cell_type": "code",
   "execution_count": null,
   "metadata": {},
   "outputs": [],
   "source": [
    "gene_x_sample_file_path = \"\"\n",
    "\n",
    "gmt_file_path_ = [\n",
    "    \"h.all.v6.2.symbols.gmt\",\n",
    "    \"c1.all.v6.2.symbols.gmt\",\n",
    "    \"c2.all.v6.2.symbols.gmt\",\n",
    "    \"c3.all.v6.2.symbols.gmt\",\n",
    "    \"c5.all.v6.2.symbols.gmt\",\n",
    "    \"c6.all.v6.2.symbols.gmt\",\n",
    "    \"c7.all.v6.2.symbols.gmt\",\n",
    "]\n",
    "\n",
    "directory_path = \"output/\"\n",
    "\n",
    "gene_set_keyword_ = [\n",
    "    \"VANTVEER_BREAST_CANCER_ESR1\",\n",
    "    \"DOANE_BREAST_CANCER_ESR1\",\n",
    "    \"YANG_BREAST_CANCER_ESR1\",\n",
    "    \"CHARAFE_BREAST_CANCER_LUMINAL_VS_BASAL\",\n",
    "    \"AIGNER_ZEB1_TARGETS\",\n",
    "    \"SANSOM_APC_TARGETS\",\n",
    "    \"BCAT_GDS748\",\n",
    "    \"BCAT.100_UP.V1\",\n",
    "    \"PID_WNT_SIGNALING_PATHWAY\",\n",
    "    \"LIU_CDX2_TARGETS\",\n",
    "    \"KEGG_WNT_SIGNALING_PATHWAY\",\n",
    "];\n",
    "\n",
    "gene_set_x_sample_tsv_file_path = Kraft.gsea(\n",
    "    gene_x_sample_file_path,\n",
    "    gmt_file_path_,\n",
    "    directory_path;\n",
    "    sample_normalization_method = \"-0-\",\n",
    "    gene_set_keyword_ = gene_set_keyword_,\n",
    ")\n",
    "\n",
    "gene_set_x_sample = CSV.read(gene_set_x_sample_tsv_file_path)"
   ]
  }
 ],
 "metadata": {
  "kernelspec": {
   "display_name": "Julia 1.5.3",
   "language": "julia",
   "name": "julia-1.5"
  },
  "language_info": {
   "file_extension": ".jl",
   "mimetype": "application/julia",
   "name": "julia",
   "version": "1.5.3"
  }
 },
 "nbformat": 4,
 "nbformat_minor": 4
}
