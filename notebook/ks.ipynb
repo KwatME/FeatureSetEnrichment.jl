{
 "cells": [
  {
   "cell_type": "code",
   "execution_count": null,
   "metadata": {},
   "outputs": [],
   "source": [
    "using Plotly\n",
    "\n",
    "using Kraft\n",
    "using Plot\n",
    "\n",
    "using GSEA"
   ]
  },
  {
   "cell_type": "code",
   "execution_count": null,
   "metadata": {},
   "outputs": [],
   "source": [
    "use_style!()\n",
    "\n",
    ";"
   ]
  },
  {
   "cell_type": "code",
   "execution_count": null,
   "metadata": {},
   "outputs": [],
   "source": [
    "element_, element_score_, set_element_ = make_benchmark(\"ace\")\n",
    "\n",
    ";"
   ]
  },
  {
   "cell_type": "code",
   "execution_count": null,
   "metadata": {},
   "outputs": [],
   "source": [
    "layout = Layout(xaxis_title = \"Element\", xaxis_tickvals = 1:length(element_), xaxis_ticktext = element_)\n",
    "\n",
    ";"
   ]
  },
  {
   "cell_type": "code",
   "execution_count": null,
   "metadata": {},
   "outputs": [],
   "source": [
    "sort_index_ = sortperm(element_score_)\n",
    "\n",
    "element_score_ = element_score_[sort_index_]\n",
    "\n",
    "element_ = element_[sort_index_]\n",
    "\n",
    "plot_x_y((element_score_,); layout = extend_layout(layout; yaxis_title = \"Score\"))"
   ]
  },
  {
   "cell_type": "code",
   "execution_count": null,
   "metadata": {},
   "outputs": [],
   "source": [
    "am_ = abs.(element_score_)\n",
    "\n",
    "plot_x_y((am_,); layout = extend_layout(layout; yaxis_title = \"Amplitude\"))"
   ]
  },
  {
   "cell_type": "code",
   "execution_count": null,
   "metadata": {},
   "outputs": [],
   "source": [
    "is_h_ = check_is(element_, set_element_)\n",
    "\n",
    "is_m_ = 1.0 .- is_h_\n",
    "\n",
    "plot_x_y((is_h_, is_m_); name_ = (\"Hit\", \"Miss\"), layout = extend_layout(layout; title = \"Is\"))"
   ]
  },
  {
   "cell_type": "code",
   "execution_count": null,
   "metadata": {},
   "outputs": [],
   "source": [
    "is_h_am_ = is_h_ .* am_\n",
    "\n",
    "is_h_p_ = is_h_am_ / sum(is_h_am_)\n",
    "\n",
    "is_h_p_cl_ = cumulate_sum_reverse(is_h_p_)\n",
    "\n",
    "plot_x_y((is_h_p_, is_h_p_cl_); name_ = (\"P\", \"CL(P)\"), layout = extend_layout(layout; title = \"Is Hit\"))"
   ]
  },
  {
   "cell_type": "code",
   "execution_count": null,
   "metadata": {},
   "outputs": [],
   "source": [
    "is_m_p_ = is_m_ / sum(is_m_)\n",
    "\n",
    "is_m_p_cl_ = cumulate_sum_reverse(is_m_p_)\n",
    "\n",
    "plot_x_y((is_m_p_, is_m_p_cl_); name_ = (\"P\", \"CL(P)\"), layout = extend_layout(layout; title = \"Is Miss\"))"
   ]
  },
  {
   "cell_type": "code",
   "execution_count": null,
   "metadata": {},
   "outputs": [],
   "source": [
    "display(plot_x_y((is_h_p_cl_, is_m_p_cl_); name_ = (\"Hit\", \"Miss\"), layout = extend_layout(layout; title = \"<==C(P(Is))\")))\n",
    "\n",
    "ks_ = is_h_p_cl_ - is_m_p_cl_\n",
    "\n",
    "plot_x_y((ks_,); layout = extend_layout(layout; title = \"KS\", yaxis_title = \"Set Score\"))"
   ]
  },
  {
   "cell_type": "code",
   "execution_count": null,
   "metadata": {},
   "outputs": [],
   "source": [
    "set_score_ = ks_\n",
    "\n",
    "mi = minimum(set_score_)\n",
    "\n",
    "ma = maximum(set_score_)\n",
    "\n",
    "if abs(mi) < abs(ma)\n",
    "\n",
    "    extreme = ma\n",
    "\n",
    "else\n",
    "\n",
    "    extreme = mi\n",
    "\n",
    "end\n",
    "\n",
    "area = sum(set_score_)\n",
    "\n",
    "set_score_, extreme, area"
   ]
  }
 ],
 "metadata": {
  "kernelspec": {
   "display_name": "Julia 1.5.3",
   "language": "julia",
   "name": "julia-1.5"
  },
  "language_info": {
   "file_extension": ".jl",
   "mimetype": "application/julia",
   "name": "julia",
   "version": "1.5.3"
  }
 },
 "nbformat": 4,
 "nbformat_minor": 4
}
