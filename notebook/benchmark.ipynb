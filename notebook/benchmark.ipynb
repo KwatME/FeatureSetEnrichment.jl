{
 "cells": [
  {
   "cell_type": "code",
   "execution_count": null,
   "id": "76cde750-8ccd-434f-82f8-94e84d6a6b09",
   "metadata": {},
   "outputs": [],
   "source": [
    "using Revise\n",
    "using BenchmarkTools"
   ]
  },
  {
   "cell_type": "code",
   "execution_count": null,
   "id": "d9202a17-60f0-4dda-8f32-65d757451ae5",
   "metadata": {},
   "outputs": [],
   "source": [
    "using DataFrames\n",
    "\n",
    "using DataIO"
   ]
  },
  {
   "cell_type": "code",
   "execution_count": null,
   "id": "4799c8fb-73a4-49ca-ad97-65382d3b43e8",
   "metadata": {},
   "outputs": [],
   "source": [
    "element_, score_ = eachcol(read_dataframe(\"/Users/kwat/Downloads/score_and_set/ccle_proteinAHR/gene_x_score.tsv\"))\n",
    "\n",
    ";"
   ]
  },
  {
   "cell_type": "code",
   "execution_count": null,
   "id": "c1dc981c-7e91-4a68-a88e-f926113e52ed",
   "metadata": {},
   "outputs": [],
   "source": [
    "using JSON"
   ]
  },
  {
   "cell_type": "code",
   "execution_count": null,
   "id": "8911f6fb-bccd-4afb-958e-8d460554a33b",
   "metadata": {},
   "outputs": [],
   "source": [
    "json_path = \"/Users/kwat/Downloads/score_and_set/ccle_proteinAHR/gene_set.json\"\n",
    "\n",
    "json_dict = JSON.parse(open(json_path))\n",
    "\n",
    "json_dict = convert(Dict{String, Vector{String}}, json_dict)"
   ]
  },
  {
   "cell_type": "code",
   "execution_count": null,
   "id": "3c66e322-1363-48d0-88e3-658aadee1f1d",
   "metadata": {},
   "outputs": [],
   "source": [
    "using GCTGMT"
   ]
  },
  {
   "cell_type": "code",
   "execution_count": null,
   "id": "51be1cb9-be6f-4958-851a-92dbd3d12292",
   "metadata": {},
   "outputs": [],
   "source": [
    "gmt_path_ = map(gmt_path -> replace(gmt_path, \"..\" => \"/Users/kwat/Downloads/\"), json_dict[\"gene_sets_tested\"])\n",
    "\n",
    "set_to_element_ = read_gmt(gmt_path_)\n",
    "\n",
    ";"
   ]
  },
  {
   "cell_type": "code",
   "execution_count": null,
   "id": "f231f7f7-6223-4c0d-9d0c-973a5790ccf3",
   "metadata": {},
   "outputs": [],
   "source": [
    "using FeatureSetEnrichment"
   ]
  },
  {
   "cell_type": "code",
   "execution_count": null,
   "id": "6986f347-2bb0-48dc-bc5e-2b71e7a798ad",
   "metadata": {},
   "outputs": [],
   "source": [
    "set_to_method_to_result = score_set_new(element_, score_, set_to_element_)\n",
    "\n",
    ";"
   ]
  },
  {
   "cell_type": "code",
   "execution_count": null,
   "id": "0d8b4a98-9a21-45b2-8b46-c084aee7cd39",
   "metadata": {},
   "outputs": [],
   "source": [
    "set_ = collect(keys(set_to_result))\n",
    "\n",
    "set_score_ = collect(map(t -> t[3], values(set_to_result)))\n",
    "\n",
    ";"
   ]
  },
  {
   "cell_type": "code",
   "execution_count": null,
   "id": "778c8a67-5c8b-44da-9e74-d0afa481fb34",
   "metadata": {},
   "outputs": [],
   "source": [
    "using Support"
   ]
  },
  {
   "cell_type": "code",
   "execution_count": null,
   "id": "2efb2e16-b346-4efb-ab99-021d49ed398b",
   "metadata": {},
   "outputs": [],
   "source": [
    "set_score_, set_ = sort_like((set_score_, set_))\n",
    "\n",
    "n = length(set_)\n",
    "\n",
    ";"
   ]
  },
  {
   "cell_type": "code",
   "execution_count": null,
   "id": "c1c9d965-e121-4e1f-b086-8f49079c91a5",
   "metadata": {},
   "outputs": [],
   "source": [
    "for set in json_dict[\"gene_sets_positive\"]\n",
    "    \n",
    "    println(set)\n",
    "    \n",
    "    i = findfirst(set_ .== set)\n",
    "\n",
    "    println(\"Rank $i / $n\")\n",
    "    \n",
    "#     score_set(element_, score_, set_to_element_[set]; title_text = set)\n",
    "    \n",
    "    score_set_new(element_, score_, set_to_element_[set])\n",
    "    \n",
    "end"
   ]
  }
 ],
 "metadata": {
  "kernelspec": {
   "display_name": "Julia 1.6.0",
   "language": "julia",
   "name": "julia-1.6"
  },
  "language_info": {
   "file_extension": ".jl",
   "mimetype": "application/julia",
   "name": "julia",
   "version": "1.6.0"
  }
 },
 "nbformat": 4,
 "nbformat_minor": 5
}
