{
 "cells": [
  {
   "cell_type": "code",
   "execution_count": null,
   "id": "76cde750-8ccd-434f-82f8-94e84d6a6b09",
   "metadata": {},
   "outputs": [],
   "source": [
    "using Revise\n",
    "using BenchmarkTools"
   ]
  },
  {
   "cell_type": "code",
   "execution_count": null,
   "id": "19f52323-a2a0-4ec9-a634-308b5e732735",
   "metadata": {},
   "outputs": [],
   "source": [
    "gene_x_score_path = \"/Users/kwat/Downloads/score_and_set/ccle_proteinAHR/gene_x_score.tsv\""
   ]
  },
  {
   "cell_type": "code",
   "execution_count": null,
   "id": "d9202a17-60f0-4dda-8f32-65d757451ae5",
   "metadata": {},
   "outputs": [],
   "source": [
    "using DataFrames\n",
    "\n",
    "using DataIO"
   ]
  },
  {
   "cell_type": "code",
   "execution_count": null,
   "id": "47c4179c-bb33-4add-a812-fa3430385a32",
   "metadata": {},
   "outputs": [],
   "source": [
    "element_, score_ = eachcol(read_dataframe(gene_x_score_path))"
   ]
  },
  {
   "cell_type": "code",
   "execution_count": null,
   "id": "57f1ea2e-a4e7-4538-969d-33913e344a4c",
   "metadata": {},
   "outputs": [],
   "source": [
    "json_path = \"/Users/kwat/Downloads/score_and_set/ccle_proteinAHR/gene_set.json\""
   ]
  },
  {
   "cell_type": "code",
   "execution_count": null,
   "id": "c1dc981c-7e91-4a68-a88e-f926113e52ed",
   "metadata": {},
   "outputs": [],
   "source": [
    "using JSON"
   ]
  },
  {
   "cell_type": "code",
   "execution_count": null,
   "id": "8b9fb882-ac71-4d6e-bf30-5edba88ce979",
   "metadata": {},
   "outputs": [],
   "source": [
    "json_dict = JSON.parse(open(json_path))\n",
    "\n",
    "json_dict = convert(Dict{String, Vector{String}}, json_dict)"
   ]
  },
  {
   "cell_type": "code",
   "execution_count": null,
   "id": "5889ff2a-2219-4e65-870c-11e1d03764f5",
   "metadata": {},
   "outputs": [],
   "source": [
    "json_dict[\"gene_sets_tested\"]"
   ]
  },
  {
   "cell_type": "code",
   "execution_count": null,
   "id": "3c66e322-1363-48d0-88e3-658aadee1f1d",
   "metadata": {},
   "outputs": [],
   "source": [
    "using GCTGMT"
   ]
  },
  {
   "cell_type": "code",
   "execution_count": null,
   "id": "51be1cb9-be6f-4958-851a-92dbd3d12292",
   "metadata": {},
   "outputs": [],
   "source": [
    "gmt_path_ = json_dict[\"gene_sets_tested\"]\n",
    "\n",
    "gmt_path_ = map(gmt_path -> replace(gmt_path, \"..\" => \"/Users/kwat/Downloads/\"), gmt_path_)[2:end]\n",
    "\n",
    "println(gmt_path_)\n",
    "\n",
    "set_to_element_ = read_gmt(gmt_path_)"
   ]
  },
  {
   "cell_type": "code",
   "execution_count": null,
   "id": "f231f7f7-6223-4c0d-9d0c-973a5790ccf3",
   "metadata": {},
   "outputs": [],
   "source": [
    "using FeatureSetEnrichment"
   ]
  },
  {
   "cell_type": "code",
   "execution_count": null,
   "id": "6986f347-2bb0-48dc-bc5e-2b71e7a798ad",
   "metadata": {},
   "outputs": [],
   "source": [
    "score_set(element_, score_, set_to_element_)"
   ]
  },
  {
   "cell_type": "code",
   "execution_count": null,
   "id": "c1c9d965-e121-4e1f-b086-8f49079c91a5",
   "metadata": {},
   "outputs": [],
   "source": [
    "for set in json_dict[\"gene_sets_positive\"]\n",
    "    \n",
    "    println(set)\n",
    "    \n",
    "    score_set(element_, score_, set_to_element_[set])\n",
    "    \n",
    "    score_set_new(element_, score_, set_to_element_[set])\n",
    "    \n",
    "end"
   ]
  }
 ],
 "metadata": {
  "kernelspec": {
   "display_name": "Julia 1.6.0",
   "language": "julia",
   "name": "julia-1.6"
  },
  "language_info": {
   "file_extension": ".jl",
   "mimetype": "application/julia",
   "name": "julia",
   "version": "1.6.0"
  }
 },
 "nbformat": 4,
 "nbformat_minor": 5
}
