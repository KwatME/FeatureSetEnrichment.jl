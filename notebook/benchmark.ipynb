{
 "cells": [
  {
   "cell_type": "code",
   "execution_count": 1,
   "id": "76cde750-8ccd-434f-82f8-94e84d6a6b09",
   "metadata": {},
   "outputs": [],
   "source": [
    "using Revise\n",
    "using BenchmarkTools"
   ]
  },
  {
   "cell_type": "code",
   "execution_count": 2,
   "id": "d9202a17-60f0-4dda-8f32-65d757451ae5",
   "metadata": {},
   "outputs": [],
   "source": [
    "using DataIO"
   ]
  },
  {
   "cell_type": "code",
   "execution_count": 3,
   "id": "4799c8fb-73a4-49ca-ad97-65382d3b43e8",
   "metadata": {},
   "outputs": [],
   "source": [
    "element_, score_ = eachcol(read_data(\"/Users/kwat/Downloads/score_and_set/ccle_proteinAHR/gene_x_score.tsv\"))\n",
    "\n",
    ";"
   ]
  },
  {
   "cell_type": "code",
   "execution_count": 4,
   "id": "c1dc981c-7e91-4a68-a88e-f926113e52ed",
   "metadata": {},
   "outputs": [],
   "source": [
    "using JSON"
   ]
  },
  {
   "cell_type": "code",
   "execution_count": 5,
   "id": "8911f6fb-bccd-4afb-958e-8d460554a33b",
   "metadata": {},
   "outputs": [],
   "source": [
    "json_path = \"/Users/kwat/Downloads/score_and_set/ccle_proteinAHR/gene_set.json\"\n",
    "\n",
    "json_dict = JSON.parse(open(json_path))\n",
    "\n",
    "json_dict = convert(Dict{String, Vector{String}}, json_dict)\n",
    "\n",
    ";"
   ]
  },
  {
   "cell_type": "code",
   "execution_count": 6,
   "id": "3c66e322-1363-48d0-88e3-658aadee1f1d",
   "metadata": {},
   "outputs": [],
   "source": [
    "using GCTGMT"
   ]
  },
  {
   "cell_type": "code",
   "execution_count": 7,
   "id": "51be1cb9-be6f-4958-851a-92dbd3d12292",
   "metadata": {},
   "outputs": [],
   "source": [
    "gmt_path_ = map(gmt_path -> replace(gmt_path, \"..\" => \"/Users/kwat/Downloads/\"), json_dict[\"gene_sets_tested\"])\n",
    "\n",
    "set_to_element_ = read_gmt(gmt_path_)\n",
    "\n",
    ";"
   ]
  },
  {
   "cell_type": "code",
   "execution_count": 8,
   "id": "f231f7f7-6223-4c0d-9d0c-973a5790ccf3",
   "metadata": {},
   "outputs": [
    {
     "name": "stderr",
     "output_type": "stream",
     "text": [
      "┌ Info: Precompiling FeatureSetEnrichment [d7bef1b9-4643-4ed1-9ceb-ed43dd382ec0]\n",
      "└ @ Base loading.jl:1317\n"
     ]
    },
    {
     "data": {
      "text/html": [
       "<script>\n",
       "// Immediately-invoked-function-expression to avoid global variables.\n",
       "(function() {\n",
       "    var warning_div = document.getElementById(\"webio-warning-1023812233257432316\");\n",
       "    var hide = function () {\n",
       "        var script = document.getElementById(\"webio-setup-16965853628518839389\");\n",
       "        var parent = script && script.parentElement;\n",
       "        var grandparent = parent && parent.parentElement;\n",
       "        if (grandparent) {\n",
       "            grandparent.style.display = \"none\";\n",
       "        }\n",
       "        warning_div.style.display = \"none\";\n",
       "    };\n",
       "    if (typeof Jupyter !== \"undefined\") {\n",
       "        console.log(\"WebIO detected Jupyter notebook environment.\");\n",
       "        // Jupyter notebook.\n",
       "        var extensions = (\n",
       "            Jupyter\n",
       "            && Jupyter.notebook.config.data\n",
       "            && Jupyter.notebook.config.data.load_extensions\n",
       "        );\n",
       "        if (extensions && extensions[\"webio-jupyter-notebook\"]) {\n",
       "            // Extension already loaded.\n",
       "            console.log(\"Jupyter WebIO nbextension detected; not loading ad-hoc.\");\n",
       "            hide();\n",
       "            return;\n",
       "        }\n",
       "    } else if (window.location.pathname.includes(\"/lab\")) {\n",
       "        // Guessing JupyterLa\n",
       "        console.log(\"Jupyter Lab detected; make sure the @webio/jupyter-lab-provider labextension is installed.\");\n",
       "        hide();\n",
       "        return;\n",
       "    }\n",
       "})();\n",
       "\n",
       "</script>\n",
       "<p\n",
       "    id=\"webio-warning-1023812233257432316\"\n",
       "    class=\"output_text output_stderr\"\n",
       "    style=\"padding: 1em; font-weight: bold;\"\n",
       ">\n",
       "    Unable to load WebIO. Please make sure WebIO works for your Jupyter client.\n",
       "    For troubleshooting, please see <a href=\"https://juliagizmos.github.io/WebIO.jl/latest/providers/ijulia/\">\n",
       "    the WebIO/IJulia documentation</a>.\n",
       "    <!-- TODO: link to installation docs. -->\n",
       "</p>\n"
      ],
      "text/plain": [
       "HTML{String}(\"<script>\\n// Immediately-invoked-function-expression to avoid global variables.\\n(function() {\\n    var warning_div = document.getElementById(\\\"webio-warning-1023812233257432316\\\");\\n    var hide = function () {\\n        var script = document.getElementById(\\\"webio-setup-16965853628518839389\\\");\\n        var parent = script && script.parentElement;\\n        var grandparent = parent && parent.parentElement;\\n        if (grandparent) {\\n            grandparent.style.display = \\\"none\\\";\\n        }\\n        warning_div.style.display = \\\"none\\\";\\n    };\\n    if (typeof Jupyter !== \\\"undefined\\\") {\\n        console.log(\\\"WebIO detected Jupyter notebook environment.\\\");\\n        // Jupyter notebook.\\n        var extensions = (\\n            Jupyter\\n            && Jupyter.notebook.config.data\\n            && Jupyter.notebook.config.data.load_extensions\\n        );\\n        if (extensions && extensions[\\\"webio-jupyter-notebook\\\"]) {\\n            // Extension already loaded.\\n            console.log(\\\"Jupyter WebIO nbextension detected; not loading ad-hoc.\\\");\\n            hide();\\n            return;\\n        }\\n    } else if (window.location.pathname.includes(\\\"/lab\\\")) {\\n        // Guessing JupyterLa\\n        console.log(\\\"Jupyter Lab detected; make sure the @webio/jupyter-lab-provider labextension is installed.\\\");\\n        hide();\\n        return;\\n    }\\n})();\\n\\n</script>\\n<p\\n    id=\\\"webio-warning-1023812233257432316\\\"\\n    class=\\\"output_text output_stderr\\\"\\n    style=\\\"padding: 1em; font-weight: bold;\\\"\\n>\\n    Unable to load WebIO. Please make sure WebIO works for your Jupyter client.\\n    For troubleshooting, please see <a href=\\\"https://juliagizmos.github.io/WebIO.jl/latest/providers/ijulia/\\\">\\n    the WebIO/IJulia documentation</a>.\\n    <!-- TODO: link to installation docs. -->\\n</p>\\n\")"
      ]
     },
     "metadata": {},
     "output_type": "display_data"
    }
   ],
   "source": [
    "using FeatureSetEnrichment"
   ]
  },
  {
   "cell_type": "code",
   "execution_count": null,
   "id": "6986f347-2bb0-48dc-bc5e-2b71e7a798ad",
   "metadata": {},
   "outputs": [],
   "source": [
    "set_to_method_to_result = score_set_new(element_, score_, set_to_element_)\n",
    "\n",
    ";"
   ]
  },
  {
   "cell_type": "code",
   "execution_count": null,
   "id": "39bfd2fc-17a5-44b9-a70e-956ce06faf45",
   "metadata": {},
   "outputs": [],
   "source": [
    "values(set_to_method_to_result)"
   ]
  },
  {
   "cell_type": "code",
   "execution_count": null,
   "id": "fd2f6d80-68e2-44e5-9df6-bd9f98985e70",
   "metadata": {},
   "outputs": [],
   "source": [
    "set_ = collect(keys(set_to_element_))\n",
    "\n",
    "n_set = length(set_)\n",
    "\n",
    "method_ = collect(keys(collect(values(set_to_method_to_result))[1]))"
   ]
  },
  {
   "cell_type": "code",
   "execution_count": null,
   "id": "3db86c97-f53d-4ff4-b0af-ceb285596e7b",
   "metadata": {},
   "outputs": [],
   "source": [
    "m = Matrix(undef, n_set, length(method_))\n",
    "\n",
    "for (i, (set, method_to_result)) in enumerate(set_to_method_to_result)\n",
    "    \n",
    "    row = []\n",
    "    \n",
    "    for (method, result) in method_to_result\n",
    "        \n",
    "        append!(row, result[2])\n",
    "        \n",
    "    end\n",
    "    \n",
    "    m[i, :] = row  \n",
    "    \n",
    "end"
   ]
  },
  {
   "cell_type": "code",
   "execution_count": null,
   "id": "838ce8f8-02f4-48ec-8b0b-ffd829f53a3d",
   "metadata": {},
   "outputs": [],
   "source": [
    "using Support"
   ]
  },
  {
   "cell_type": "code",
   "execution_count": null,
   "id": "d427a58a-f30e-4614-b5c3-14bf7dad8f22",
   "metadata": {},
   "outputs": [],
   "source": [
    "for (ci, set_score_) in enumerate(eachcol(m))\n",
    "    \n",
    "    set_score_, set_ = sort_like((set_score_, set_))\n",
    "    \n",
    "    for set in json_dict[\"gene_sets_positive\"]\n",
    "\n",
    "        fi = findfirst(set_ .== set)\n",
    "\n",
    "        println(\"$(method_[ci]) $fi\")\n",
    "\n",
    "    end\n",
    "\n",
    "end"
   ]
  }
 ],
 "metadata": {
  "kernelspec": {
   "display_name": "Julia 1.6.0",
   "language": "julia",
   "name": "julia-1.6"
  },
  "language_info": {
   "file_extension": ".jl",
   "mimetype": "application/julia",
   "name": "julia",
   "version": "1.6.0"
  }
 },
 "nbformat": 4,
 "nbformat_minor": 5
}
