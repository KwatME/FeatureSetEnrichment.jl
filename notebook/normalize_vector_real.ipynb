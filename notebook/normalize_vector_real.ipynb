{
 "cells": [
  {
   "cell_type": "code",
   "execution_count": null,
   "metadata": {},
   "outputs": [],
   "source": [
    "include(\"../src/Kraft.jl\")"
   ]
  },
  {
   "cell_type": "code",
   "execution_count": null,
   "metadata": {},
   "outputs": [],
   "source": [
    "for vector in (\n",
    "    Vector{Real}([]),\n",
    "    [0],\n",
    "    [1],\n",
    "    collect(1.0:5.0),\n",
    "    collect(-1:1),\n",
    "    [0, 0, 0],\n",
    "    [1, 1, 1],\n",
    "    [0, 0, 1],\n",
    ")\n",
    "    for vector in (vector, vcat(NaN, vector, NaN))\n",
    "        println('='^80)\n",
    "\n",
    "        println(vector)\n",
    "\n",
    "        println('='^80)\n",
    "\n",
    "        for method in (\"?\", \"-0-\", \"0-1\", \"sum\", \"1234\", \"1224\", \"1223\", \"1 2.5 2.5 4\")\n",
    "            println(method)\n",
    "\n",
    "            try\n",
    "\n",
    "                println(Kraft.normalize_vector_real(vector, method))\n",
    "\n",
    "            catch error_\n",
    "\n",
    "                println(error_)\n",
    "\n",
    "            end\n",
    "\n",
    "            println()\n",
    "\n",
    "        end\n",
    "\n",
    "    end\n",
    "\n",
    "end"
   ]
  }
 ],
 "metadata": {
  "@webio": {
   "lastCommId": null,
   "lastKernelId": null
  },
  "kernelspec": {
   "display_name": "Julia 1.5.3",
   "language": "julia",
   "name": "julia-1.5"
  },
  "language_info": {
   "file_extension": ".jl",
   "mimetype": "application/julia",
   "name": "julia",
   "version": "1.5.3"
  }
 },
 "nbformat": 4,
 "nbformat_minor": 4
}
