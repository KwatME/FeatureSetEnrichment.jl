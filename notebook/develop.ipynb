{
 "cells": [
  {
   "cell_type": "code",
   "execution_count": 1,
   "metadata": {},
   "outputs": [
    {
     "data": {
      "text/html": [
       "<script>\n",
       "// Immediately-invoked-function-expression to avoid global variables.\n",
       "(function() {\n",
       "    var warning_div = document.getElementById(\"webio-warning-4526077039162993819\");\n",
       "    var hide = function () {\n",
       "        var script = document.getElementById(\"webio-setup-13463012125637114140\");\n",
       "        var parent = script && script.parentElement;\n",
       "        var grandparent = parent && parent.parentElement;\n",
       "        if (grandparent) {\n",
       "            grandparent.style.display = \"none\";\n",
       "        }\n",
       "        warning_div.style.display = \"none\";\n",
       "    };\n",
       "    if (typeof Jupyter !== \"undefined\") {\n",
       "        console.log(\"WebIO detected Jupyter notebook environment.\");\n",
       "        // Jupyter notebook.\n",
       "        var extensions = (\n",
       "            Jupyter\n",
       "            && Jupyter.notebook.config.data\n",
       "            && Jupyter.notebook.config.data.load_extensions\n",
       "        );\n",
       "        if (extensions && extensions[\"webio-jupyter-notebook\"]) {\n",
       "            // Extension already loaded.\n",
       "            console.log(\"Jupyter WebIO nbextension detected; not loading ad-hoc.\");\n",
       "            hide();\n",
       "            return;\n",
       "        }\n",
       "    } else if (window.location.pathname.includes(\"/lab\")) {\n",
       "        // Guessing JupyterLa\n",
       "        console.log(\"Jupyter Lab detected; make sure the @webio/jupyter-lab-provider labextension is installed.\");\n",
       "        hide();\n",
       "        return;\n",
       "    }\n",
       "})();\n",
       "\n",
       "</script>\n",
       "<p\n",
       "    id=\"webio-warning-4526077039162993819\"\n",
       "    class=\"output_text output_stderr\"\n",
       "    style=\"padding: 1em; font-weight: bold;\"\n",
       ">\n",
       "    Unable to load WebIO. Please make sure WebIO works for your Jupyter client.\n",
       "    For troubleshooting, please see <a href=\"https://juliagizmos.github.io/WebIO.jl/latest/providers/ijulia/\">\n",
       "    the WebIO/IJulia documentation</a>.\n",
       "    <!-- TODO: link to installation docs. -->\n",
       "</p>\n"
      ],
      "text/plain": [
       "HTML{String}(\"<script>\\n// Immediately-invoked-function-expression to avoid global variables.\\n(function() {\\n    var warning_div = document.getElementById(\\\"webio-warning-4526077039162993819\\\");\\n    var hide = function () {\\n        var script = document.getElementById(\\\"webio-setup-13463012125637114140\\\");\\n        var parent = script && script.parentElement;\\n        var grandparent = parent && parent.parentElement;\\n        if (grandparent) {\\n            grandparent.style.display = \\\"none\\\";\\n        }\\n        warning_div.style.display = \\\"none\\\";\\n    };\\n    if (typeof Jupyter !== \\\"undefined\\\") {\\n        console.log(\\\"WebIO detected Jupyter notebook environment.\\\");\\n        // Jupyter notebook.\\n        var extensions = (\\n            Jupyter\\n            && Jupyter.notebook.config.data\\n            && Jupyter.notebook.config.data.load_extensions\\n        );\\n        if (extensions && extensions[\\\"webio-jupyter-notebook\\\"]) {\\n            // Extension already loaded.\\n            console.log(\\\"Jupyter WebIO nbextension detected; not loading ad-hoc.\\\");\\n            hide();\\n            return;\\n        }\\n    } else if (window.location.pathname.includes(\\\"/lab\\\")) {\\n        // Guessing JupyterLa\\n        console.log(\\\"Jupyter Lab detected; make sure the @webio/jupyter-lab-provider labextension is installed.\\\");\\n        hide();\\n        return;\\n    }\\n})();\\n\\n</script>\\n<p\\n    id=\\\"webio-warning-4526077039162993819\\\"\\n    class=\\\"output_text output_stderr\\\"\\n    style=\\\"padding: 1em; font-weight: bold;\\\"\\n>\\n    Unable to load WebIO. Please make sure WebIO works for your Jupyter client.\\n    For troubleshooting, please see <a href=\\\"https://juliagizmos.github.io/WebIO.jl/latest/providers/ijulia/\\\">\\n    the WebIO/IJulia documentation</a>.\\n    <!-- TODO: link to installation docs. -->\\n</p>\\n\")"
      ]
     },
     "metadata": {},
     "output_type": "display_data"
    }
   ],
   "source": [
    "using Plotly\n",
    "using Random\n",
    "using StatsBase\n",
    "\n",
    "using Information\n",
    "using Kraft\n",
    "using Plot"
   ]
  },
  {
   "cell_type": "code",
   "execution_count": null,
   "metadata": {},
   "outputs": [],
   "source": [
    "Random.seed!(20121020)\n",
    "\n",
    ";"
   ]
  },
  {
   "cell_type": "code",
   "execution_count": null,
   "metadata": {},
   "outputs": [],
   "source": [
    "use_style!()\n",
    "\n",
    ";"
   ]
  },
  {
   "cell_type": "code",
   "execution_count": null,
   "metadata": {},
   "outputs": [],
   "source": [
    "element_ = string.(Array('A':'Z'))\n",
    "\n",
    "n_element = length(element_)\n",
    "\n",
    "element_score_ = randn(n_element)\n",
    "\n",
    ";"
   ]
  },
  {
   "cell_type": "code",
   "execution_count": null,
   "metadata": {},
   "outputs": [],
   "source": [
    "set_element_ = sample(element_, 3; replace = false)\n",
    "\n",
    "set_element_ = string.(collect(\"VXZ\"))\n",
    "\n",
    ";"
   ]
  },
  {
   "cell_type": "code",
   "execution_count": null,
   "metadata": {},
   "outputs": [],
   "source": [
    "layout = Layout(xaxis_title = \"Element\", xaxis_tickvals = 1:n_element, xaxis_ticktext = element_)\n",
    "\n",
    ";"
   ]
  },
  {
   "cell_type": "code",
   "execution_count": null,
   "metadata": {},
   "outputs": [],
   "source": [
    "sort_index_ = sortperm(element_score_)\n",
    "\n",
    "element_score_ = element_score_[sort_index_]\n",
    "\n",
    "# element_ = element_[sort_index_]\n",
    "\n",
    "plot_x_y((element_score_,); layout = extend_layout(layout; yaxis_title = \"Score\"))"
   ]
  },
  {
   "cell_type": "code",
   "execution_count": null,
   "metadata": {},
   "outputs": [],
   "source": [
    "small_number = eps()\n",
    "\n",
    ";"
   ]
  },
  {
   "cell_type": "markdown",
   "metadata": {},
   "source": [
    "## Is"
   ]
  },
  {
   "cell_type": "code",
   "execution_count": null,
   "metadata": {},
   "outputs": [],
   "source": [
    "set_element_to_nothing = Dict(set_element => nothing for set_element in set_element_)"
   ]
  },
  {
   "cell_type": "code",
   "execution_count": null,
   "metadata": {},
   "outputs": [],
   "source": [
    "i_h = [convert(Float64, haskey(set_element_to_nothing, element)) for element in element_]\n",
    "\n",
    "i_m = 1 .- i_h\n",
    "\n",
    "plot_x_y((i_h, i_m); name_ = (\"Hit\", \"Miss\"), layout = extend_layout(layout; title = \"Is\"))"
   ]
  },
  {
   "cell_type": "code",
   "execution_count": null,
   "metadata": {},
   "outputs": [],
   "source": [
    "i_h_p = i_h / sum(i_h)\n",
    "\n",
    "i_h_p_cr = cumsum(i_h_p) .+ small_number\n",
    "\n",
    "i_h_p_cl = cumulate_sum_reverse(i_h_p) .+ small_number\n",
    "\n",
    "plot_x_y((i_h_p, i_h_p_cr, i_h_p_cl); name_ = (\"P\", \"CR(P)\", \"CL(P)\"), layout = extend_layout(layout; title = \"Is Hit\"))"
   ]
  },
  {
   "cell_type": "code",
   "execution_count": null,
   "metadata": {},
   "outputs": [],
   "source": [
    "i_m_p = i_m / sum(i_m)\n",
    "\n",
    "i_m_p_cr = cumsum(i_m_p) .+ small_number\n",
    "\n",
    "i_m_p_cl = cumulate_sum_reverse(i_m_p) .+ small_number\n",
    "\n",
    "plot_x_y((i_m_p, i_m_p_cr, i_m_p_cl); name_ = (\"P\", \"CR(P)\", \"CL(P)\"), layout = extend_layout(layout; title = \"Is Miss\"))"
   ]
  },
  {
   "cell_type": "markdown",
   "metadata": {},
   "source": [
    "## Amplitutde"
   ]
  },
  {
   "cell_type": "code",
   "execution_count": null,
   "metadata": {},
   "outputs": [],
   "source": [
    "a = abs.(element_score_)\n",
    "\n",
    "plot_x_y((a,); layout = extend_layout(layout; yaxis_title = \"Amplitude\"))"
   ]
  },
  {
   "cell_type": "code",
   "execution_count": null,
   "metadata": {},
   "outputs": [],
   "source": [
    "a_p = a / sum(a)\n",
    "\n",
    "a_p_cr = cumsum(a_p)\n",
    "\n",
    "a_p_cl = cumulate_sum_reverse(a_p)\n",
    "\n",
    "plot_x_y((a_p, a_p_cr, a_p_cl); name_ = (\"P\", \"CR(P)\", \"CL(P)\"), layout = extend_layout(layout; title = \"Amplitude\"))"
   ]
  },
  {
   "cell_type": "code",
   "execution_count": null,
   "metadata": {},
   "outputs": [],
   "source": [
    "a_h = i_h .* a\n",
    "\n",
    "a_h_p = a_h / sum(a_h)\n",
    "\n",
    "a_h_p_cr = cumsum(a_h_p) .+ small_number\n",
    "\n",
    "a_h_p_cl = cumulate_sum_reverse(a_h_p) .+ small_number\n",
    "\n",
    "plot_x_y((a_h_p, a_h_p_cr, a_h_p_cl); name_ = (\"P\", \"CR(P)\", \"CL(P)\"), layout = extend_layout(layout; title = \"Amplitude Hit\"))"
   ]
  },
  {
   "cell_type": "code",
   "execution_count": null,
   "metadata": {},
   "outputs": [],
   "source": [
    "a_m = i_m .* a\n",
    "\n",
    "a_m_p = a_m / sum(a_m)\n",
    "\n",
    "a_m_p_cr = cumsum(a_m_p) .+ small_number\n",
    "\n",
    "a_m_p_cl = cumulate_sum_reverse(a_m_p) .+ small_number\n",
    "\n",
    "plot_x_y((a_m_p, a_m_p_cr, a_m_p_cl); name_ = (\"P\", \"CR(P)\", \"CL(P)\"), layout = extend_layout(layout; title = \"Amplitude Miss\"))"
   ]
  },
  {
   "cell_type": "markdown",
   "metadata": {},
   "source": [
    "## KS"
   ]
  },
  {
   "cell_type": "code",
   "execution_count": null,
   "metadata": {},
   "outputs": [],
   "source": [
    "plot_x_y((i_h_p_cl, i_m_p_cl); name_ = (\"Hit\", \"Miss\"), layout = extend_layout(layout; title = \"<==C(P(Is))\"))\n",
    "\n",
    "ks = i_h_p_cl - i_m_p_cl\n",
    "\n",
    "plot_x_y((ks,); layout = extend_layout(layout; title = \"KS\", yaxis_title = \"Set Score\"))"
   ]
  },
  {
   "cell_type": "markdown",
   "metadata": {},
   "source": [
    "## JSD"
   ]
  },
  {
   "cell_type": "code",
   "execution_count": null,
   "metadata": {},
   "outputs": [],
   "source": [
    "plot_x_y((a_p_cl, a_h_p_cl, a_m_p_cl); name_ = (\"Amplitude\", \"Hit\", \"Miss\"), layout = extend_layout(layout; title = \"CL(P)\"))\n",
    "\n",
    "jsd_l = compute_jsd(a_h_p_cl, a_m_p_cl, a_p_cl)\n",
    "\n",
    "plot_x_y((jsd_l,); layout = extend_layout(layout; title = \"JSD L\", yaxis_title = \"Set Score\"))"
   ]
  },
  {
   "cell_type": "code",
   "execution_count": null,
   "metadata": {},
   "outputs": [],
   "source": [
    "plot_x_y((a_p_cr, a_h_p_cr, a_m_p_cr); name_ = (\"Amplitude\", \"Hit\", \"Miss\"), layout = extend_layout(layout; title = \"CR(P)\"))\n",
    "\n",
    "jsd_r = compute_jsd(a_h_p_cr, a_m_p_cr, a_p_cr)\n",
    "\n",
    "plot_x_y((jsd_r,); layout = extend_layout(layout; title = \"JSD R\", yaxis_title = \"Set Score\"))"
   ]
  },
  {
   "cell_type": "code",
   "execution_count": null,
   "metadata": {},
   "outputs": [],
   "source": [
    "jsd = jsd_l - jsd_r\n",
    "\n",
    "plot_x_y((jsd,); layout = extend_layout(layout; title = \"JSD\", yaxis_title = \"Set Score\"))"
   ]
  },
  {
   "cell_type": "markdown",
   "metadata": {},
   "source": [
    "## Score"
   ]
  },
  {
   "cell_type": "code",
   "execution_count": null,
   "metadata": {},
   "outputs": [],
   "source": [
    "s = ks"
   ]
  },
  {
   "cell_type": "code",
   "execution_count": null,
   "metadata": {},
   "outputs": [],
   "source": [
    "score = sum(s) / length(s)"
   ]
  }
 ],
 "metadata": {
  "kernelspec": {
   "display_name": "Julia 1.5.3",
   "language": "julia",
   "name": "julia-1.5"
  },
  "language_info": {
   "file_extension": ".jl",
   "mimetype": "application/julia",
   "name": "julia",
   "version": "1.5.3"
  }
 },
 "nbformat": 4,
 "nbformat_minor": 4
}
