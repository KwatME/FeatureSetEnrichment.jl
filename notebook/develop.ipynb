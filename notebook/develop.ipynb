{
 "cells": [
  {
   "cell_type": "code",
   "execution_count": null,
   "metadata": {},
   "outputs": [],
   "source": [
    "using Plotly\n",
    "using Random\n",
    "\n",
    "using Information\n",
    "using Kraft\n",
    "using Plot\n",
    "\n",
    "using GSEA"
   ]
  },
  {
   "cell_type": "code",
   "execution_count": null,
   "metadata": {},
   "outputs": [],
   "source": [
    "Random.seed!(20121020)\n",
    "\n",
    "use_style!()\n",
    "\n",
    ";"
   ]
  },
  {
   "cell_type": "code",
   "execution_count": null,
   "metadata": {},
   "outputs": [],
   "source": [
    "element_, element_score_, set_element_ = make_benchmark(\"ace\")\n",
    "\n",
    ";"
   ]
  },
  {
   "cell_type": "code",
   "execution_count": null,
   "metadata": {},
   "outputs": [],
   "source": [
    "layout = Layout(xaxis_title = \"Element\", xaxis_tickvals = 1:length(element_), xaxis_ticktext = element_)\n",
    "\n",
    ";"
   ]
  },
  {
   "cell_type": "code",
   "execution_count": null,
   "metadata": {},
   "outputs": [],
   "source": [
    "sort_index_ = sortperm(element_score_)\n",
    "\n",
    "element_score_ = element_score_[sort_index_]\n",
    "\n",
    "element_ = element_[sort_index_]\n",
    "\n",
    "plot_x_y((element_score_,); layout = extend_layout(layout; yaxis_title = \"Score\"))"
   ]
  },
  {
   "cell_type": "code",
   "execution_count": null,
   "metadata": {},
   "outputs": [],
   "source": [
    "am_ = abs.(element_score_)\n",
    "\n",
    "plot_x_y((am_,); layout = extend_layout(layout; yaxis_title = \"Amplitude\"))"
   ]
  },
  {
   "cell_type": "code",
   "execution_count": null,
   "metadata": {},
   "outputs": [],
   "source": [
    "small_number = eps()\n",
    "\n",
    ";"
   ]
  },
  {
   "cell_type": "markdown",
   "metadata": {},
   "source": [
    "## Is"
   ]
  },
  {
   "cell_type": "code",
   "execution_count": null,
   "metadata": {},
   "outputs": [],
   "source": [
    "set_element_to_nothing = Dict(set_element => nothing for set_element in set_element_)"
   ]
  },
  {
   "cell_type": "code",
   "execution_count": null,
   "metadata": {},
   "outputs": [],
   "source": [
    "is_h_ = [convert(Float64, haskey(set_element_to_nothing, element)) for element in element_]\n",
    "\n",
    "is_m_ = 1 .- is_h_\n",
    "\n",
    "plot_x_y((is_h_, is_m_); name_ = (\"Hit\", \"Miss\"), layout = extend_layout(layout; title = \"Is\"))"
   ]
  },
  {
   "cell_type": "code",
   "execution_count": null,
   "metadata": {},
   "outputs": [],
   "source": [
    "is_h_p_ = is_h_ / sum(is_h_)\n",
    "\n",
    "is_h_p_cr_ = cumsum(is_h_p_)\n",
    "\n",
    "is_h_p_cl_ = cumulate_sum_reverse(is_h_p_)\n",
    "\n",
    "plot_x_y((is_h_p_, is_h_p_cr_, is_h_p_cl_); name_ = (\"P\", \"CR(P)\", \"CL(P)\"), layout = extend_layout(layout; title = \"Is Hit\"))"
   ]
  },
  {
   "cell_type": "code",
   "execution_count": null,
   "metadata": {},
   "outputs": [],
   "source": [
    "is_m_p_ = is_m_ / sum(is_m_)\n",
    "\n",
    "is_m_p_cr_ = cumsum(is_m_p_)\n",
    "\n",
    "is_m_p_cl_ = cumulate_sum_reverse(is_m_p_)\n",
    "\n",
    "plot_x_y((is_m_p_, is_m_p_cr_, is_m_p_cl_); name_ = (\"P\", \"CR(P)\", \"CL(P)\"), layout = extend_layout(layout; title = \"Is Miss\"))"
   ]
  },
  {
   "cell_type": "markdown",
   "metadata": {},
   "source": [
    "## Amplitutde"
   ]
  },
  {
   "cell_type": "code",
   "execution_count": null,
   "metadata": {},
   "outputs": [],
   "source": [
    "am_p_ = am_ / sum(am_)\n",
    "\n",
    "am_p_cr_ = cumsum(am_p_)\n",
    "\n",
    "am_p_cl_ = cumulate_sum_reverse(am_p_)\n",
    "\n",
    "plot_x_y((am_p_, am_p_cr_, am_p_cl_); name_ = (\"P\", \"CR(P)\", \"CL(P)\"), layout = extend_layout(layout; title = \"Amplitude\"))"
   ]
  },
  {
   "cell_type": "code",
   "execution_count": null,
   "metadata": {},
   "outputs": [],
   "source": [
    "am_h_ = am_ .* is_h_\n",
    "\n",
    "am_h_p_ = am_h_ / sum(am_h_)\n",
    "\n",
    "am_h_p_cr_ = cumsum(am_h_p_) .+ small_number\n",
    "\n",
    "am_h_p_cl_ = cumulate_sum_reverse(am_h_p_) .+ small_number\n",
    "\n",
    "plot_x_y((am_h_p_, am_h_p_cr_, am_h_p_cl_); name_ = (\"P\", \"CR(P)\", \"CL(P)\"), layout = extend_layout(layout; title = \"Amplitude Hit\"))"
   ]
  },
  {
   "cell_type": "code",
   "execution_count": null,
   "metadata": {},
   "outputs": [],
   "source": [
    "am_m_ = am_ .* is_m_\n",
    "\n",
    "am_m_p_ = am_m_ / sum(am_m_)\n",
    "\n",
    "am_m_p_cr_ = cumsum(am_m_p_) .+ small_number\n",
    "\n",
    "am_m_p_cl_ = cumulate_sum_reverse(am_m_p_) .+ small_number\n",
    "\n",
    "plot_x_y((am_m_p_, am_m_p_cr_, am_m_p_cl_); name_ = (\"P\", \"CR(P)\", \"CL(P)\"), layout = extend_layout(layout; title = \"Amplitude Miss\"))"
   ]
  },
  {
   "cell_type": "markdown",
   "metadata": {},
   "source": [
    "## KS"
   ]
  },
  {
   "cell_type": "code",
   "execution_count": null,
   "metadata": {},
   "outputs": [],
   "source": [
    "plot_x_y((is_h_p_cl_, is_m_p_cl_); name_ = (\"Hit\", \"Miss\"), layout = extend_layout(layout; title = \"<==C(P(Is))\"))\n",
    "\n",
    "ks_ = is_h_p_cl_ - is_m_p_cl_\n",
    "\n",
    "plot_x_y((ks_,); layout = extend_layout(layout; title = \"KS\", yaxis_title = \"Set Score\"))"
   ]
  },
  {
   "cell_type": "markdown",
   "metadata": {},
   "source": [
    "## JSD"
   ]
  },
  {
   "cell_type": "code",
   "execution_count": null,
   "metadata": {},
   "outputs": [],
   "source": [
    "plot_x_y((am_p_cl_, am_h_p_cl_, am_m_p_cl_); name_ = (\"Amplitude\", \"Hit\", \"Miss\"), layout = extend_layout(layout; title = \"CL(P)\"))\n",
    "\n",
    "jsd_l_ = compute_jsd(am_h_p_cl_, am_m_p_cl_, am_p_cl_)\n",
    "\n",
    "plot_x_y((jsd_l_,); layout = extend_layout(layout; title = \"JSD L\", yaxis_title = \"Set Score\"))"
   ]
  },
  {
   "cell_type": "code",
   "execution_count": null,
   "metadata": {},
   "outputs": [],
   "source": [
    "plot_x_y((am_p_cr_, am_h_p_cr_, am_m_p_cr_); name_ = (\"Amplitude\", \"Hit\", \"Miss\"), layout = extend_layout(layout; title = \"CR(P)\"))\n",
    "\n",
    "jsd_r_ = compute_jsd(am_h_p_cr_, am_m_p_cr_, am_p_cr_)\n",
    "\n",
    "plot_x_y((jsd_r_,); layout = extend_layout(layout; title = \"JSD R\", yaxis_title = \"Set Score\"))"
   ]
  },
  {
   "cell_type": "code",
   "execution_count": null,
   "metadata": {},
   "outputs": [],
   "source": [
    "jsd_ = jsd_l_ - jsd_r_\n",
    "\n",
    "plot_x_y((jsd_,); layout = extend_layout(layout; title = \"JSD\", yaxis_title = \"Set Score\"))"
   ]
  },
  {
   "cell_type": "markdown",
   "metadata": {},
   "source": [
    "## Score"
   ]
  },
  {
   "cell_type": "code",
   "execution_count": null,
   "metadata": {},
   "outputs": [],
   "source": [
    "s_ = ks_"
   ]
  },
  {
   "cell_type": "code",
   "execution_count": null,
   "metadata": {},
   "outputs": [],
   "source": [
    "mi = minimum(s_)\n",
    "\n",
    "ma = maximum(s_)\n",
    "\n",
    "if abs(mi) < abs(ma)\n",
    "    \n",
    "    extreme = ma\n",
    "    \n",
    "else\n",
    "    \n",
    "    extreme = mi\n",
    "    \n",
    "end"
   ]
  },
  {
   "cell_type": "code",
   "execution_count": null,
   "metadata": {},
   "outputs": [],
   "source": [
    "auc = sum(s_)"
   ]
  }
 ],
 "metadata": {
  "kernelspec": {
   "display_name": "Julia 1.5.3",
   "language": "julia",
   "name": "julia-1.5"
  },
  "language_info": {
   "file_extension": ".jl",
   "mimetype": "application/julia",
   "name": "julia",
   "version": "1.5.3"
  }
 },
 "nbformat": 4,
 "nbformat_minor": 4
}
