{
 "cells": [
  {
   "cell_type": "code",
   "execution_count": 2,
   "metadata": {},
   "outputs": [],
   "source": [
    "using Plot\n",
    "\n",
    "using Kraft\n",
    "\n",
    "using GSEA"
   ]
  },
  {
   "cell_type": "code",
   "execution_count": 4,
   "metadata": {},
   "outputs": [],
   "source": [
    "use_style!()\n",
    "\n",
    ";"
   ]
  },
  {
   "cell_type": "code",
   "execution_count": 5,
   "metadata": {},
   "outputs": [],
   "source": [
    "element_, element_score_, set_element_ = make_benchmark(\"card\")\n",
    "\n",
    ";"
   ]
  },
  {
   "cell_type": "code",
   "execution_count": 6,
   "metadata": {},
   "outputs": [],
   "source": [
    "using Printf: @sprintf\n",
    "\n",
    "using Plotly: Layout, attr, plot, scatter"
   ]
  },
  {
   "cell_type": "code",
   "execution_count": 7,
   "metadata": {},
   "outputs": [],
   "source": [
    "element_::Vector{String}\n",
    "\n",
    "element_score_::Vector{Float64}\n",
    "\n",
    "set_element_::Vector{String}\n",
    "\n",
    "width = 800\n",
    "\n",
    "height = 500\n",
    "\n",
    "line_width = 2\n",
    "\n",
    "title_text = \"Set Enrichment\"\n",
    "\n",
    "title_font_size = 24\n",
    "\n",
    "element_value_name = \"Element Score\"\n",
    "\n",
    "axis_title_font_size = 12\n",
    "\n",
    ";"
   ]
  },
  {
   "cell_type": "code",
   "execution_count": 9,
   "metadata": {},
   "outputs": [
    {
     "name": "stdout",
     "output_type": "stream",
     "text": [
      "-0.09090909090909091\n",
      "-0.18181818181818182\n",
      "-0.2727272727272727\n",
      "\n",
      "11.0\n",
      "0.21531100478468904\n",
      "0.12440191387559812\n",
      "\n",
      "8.0\n",
      "0.4545454545454545\n",
      "0.36363636363636354\n",
      "0.2727272727272726\n",
      "0.18181818181818168\n",
      "0.09090909090909077\n",
      "-1.3877787807814457e-16\n"
     ]
    },
    {
     "data": {
      "application/vnd.plotly.v1+json": {
       "data": [
        {
         "fill": "tozeroy",
         "line": {
          "color": "#4e40d8",
          "width": 2
         },
         "name": "Element Score",
         "text": [
          "2",
          "3",
          "4",
          "5",
          "6",
          "7",
          "8",
          "9",
          "10",
          "J",
          "Q",
          "K",
          "A"
         ],
         "type": "scatter",
         "x": [
          1,
          2,
          3,
          4,
          5,
          6,
          7,
          8,
          9,
          10,
          11,
          12,
          13
         ],
         "y": [
          2,
          3,
          4,
          5,
          6,
          7,
          8,
          9,
          10,
          11,
          12,
          13,
          14
         ]
        },
        {
         "hoverinfo": "name+x+text",
         "marker": {
          "color": "#9017e6",
          "line": {
           "width": 2
          },
          "size": 25.600000000000005,
          "symbol": "line-ns-open"
         },
         "mode": "markers",
         "name": "Set",
         "text": [
          "8",
          "J"
         ],
         "type": "scatter",
         "x": [
          7,
          10
         ],
         "y": [
          0,
          0
         ],
         "yaxis": "y2"
        },
        {
         "fill": "tozeroy",
         "line": {
          "color": "#20d9ba",
          "width": 2
         },
         "name": "Set Score",
         "text": [
          "2",
          "3",
          "4",
          "5",
          "6",
          "7",
          "8",
          "9",
          "10",
          "J",
          "Q",
          "K",
          "A"
         ],
         "type": "scatter",
         "x": [
          1,
          2,
          3,
          4,
          5,
          6,
          7,
          8,
          9,
          10,
          11,
          12,
          13
         ],
         "y": [
          -1.3877787807814457e-16,
          0.09090909090909077,
          0.18181818181818168,
          0.2727272727272726,
          0.36363636363636354,
          0.4545454545454545,
          0.5454545454545454,
          0.12440191387559812,
          0.21531100478468904,
          0.30622009569377995,
          -0.2727272727272727,
          -0.18181818181818182,
          -0.09090909090909091
         ],
         "yaxis": "y3"
        }
       ],
       "frames": [],
       "layout": {
        "annotations": [
         {
          "font": {
           "size": 24
          },
          "showarrow": false,
          "text": "<b>Set Enrichment</b>",
          "x": 0.5,
          "xanchor": "center",
          "xref": "paper",
          "y": 1.24,
          "yanchor": "middle",
          "yref": "paper"
         },
         {
          "showarrow": false,
          "text": "<b>Element Rank (n=13)</b>",
          "x": 0.5,
          "xanchor": "center",
          "xref": "paper",
          "y": -0.1,
          "yanchor": "middle",
          "yref": "paper"
         },
         {
          "font": {
           "size": 12
          },
          "showarrow": false,
          "text": "<b>Set Score</b>",
          "x": -0.08,
          "xanchor": "right",
          "xref": "paper",
          "y": 0.66,
          "yanchor": "middle",
          "yref": "paper"
         },
         {
          "font": {
           "size": 12
          },
          "showarrow": false,
          "text": "<b>Set</b>",
          "x": -0.08,
          "xanchor": "right",
          "xref": "paper",
          "y": 0.28,
          "yanchor": "middle",
          "yref": "paper"
         },
         {
          "font": {
           "size": 12
          },
          "showarrow": false,
          "text": "<b>Element Score</b>",
          "x": -0.08,
          "xanchor": "right",
          "xref": "paper",
          "y": 0.12,
          "yanchor": "middle",
          "yref": "paper"
         },
         {
          "font": {
           "color": "#2a603b",
           "size": 13.440000000000001
          },
          "showarrow": false,
          "text": "<b>Extreme = 5.45e-01</b>     <b>Area = 2.01e+00</b>     <b>P-Value = 8.00e-03</b>",
          "x": 0.5,
          "xanchor": "center",
          "xref": "paper",
          "y": 1.12,
          "yanchor": "middle",
          "yref": "paper"
         }
        ],
        "autosize": false,
        "height": 500,
        "legend": {
         "orientation": "h",
         "x": 0.5,
         "xanchor": "center",
         "y": -0.32,
         "yanchor": "middle"
        },
        "margin": {
         "b": 50,
         "l": 192,
         "r": 50,
         "t": 120
        },
        "templateaa": "plotly_white",
        "width": 800,
        "xaxis1": {
         "zeroline": false
        },
        "yaxis1": {
         "domain": [
          0,
          0.24
         ],
         "showline": true
        },
        "yaxis2": {
         "domain": [
          0.24,
          0.32
         ],
         "showgrid": false,
         "showticklabels": false
        },
        "yaxis3": {
         "domain": [
          0.32,
          1
         ]
        }
       }
      },
      "application/vnd.webio.node+json": {
       "children": [
        {
         "children": [],
         "instanceArgs": {
          "namespace": "html",
          "tag": "div"
         },
         "nodeType": "DOM",
         "props": {
          "id": "plot-3edceb29-8393-4046-a512-9dfcfff4d6d4"
         },
         "type": "node"
        }
       ],
       "instanceArgs": {
        "handlers": {
         "__get_gd_contents": [
          "(function (prop){prop==\"data\" ? (WebIO.setval({\"name\":\"__gd_contents\",\"scope\":\"548760646447943177\",\"id\":\"17909515184415360672\",\"type\":\"observable\"},this.plotElem.data)) : undefined; return prop==\"layout\" ? (WebIO.setval({\"name\":\"__gd_contents\",\"scope\":\"548760646447943177\",\"id\":\"17909515184415360672\",\"type\":\"observable\"},this.plotElem.layout)) : undefined})"
         ],
         "_commands": [
          "(function (args){var fn=args.shift(); var elem=this.plotElem; var Plotly=this.Plotly; args.unshift(elem); return Plotly[fn].apply(this,args)})"
         ],
         "_downloadImage": [
          "(function (options){return this.Plotly.downloadImage(this.plotElem,options)})"
         ],
         "_toImage": [
          "(function (options){return this.Plotly.toImage(this.plotElem,options).then((function (data){return WebIO.setval({\"name\":\"image\",\"scope\":\"548760646447943177\",\"id\":\"12824764034513988515\",\"type\":\"observable\"},data)}))})"
         ]
        },
        "id": "548760646447943177",
        "imports": {
         "data": [
          {
           "name": "Plotly",
           "type": "js",
           "url": "/assetserver/6f912589d46c6df6f921010031690e4ddd2d056e-plotly-latest.min.js"
          },
          {
           "name": null,
           "type": "js",
           "url": "/assetserver/dbc48f0c466adcc261d7604703b6c365e229ddb5-plotly_webio.bundle.js"
          }
         ],
         "type": "async_block"
        },
        "mount_callbacks": [
         "function () {\n    var handler = ((function (Plotly,PlotlyWebIO){PlotlyWebIO.init(WebIO); var gd=this.dom.querySelector(\"#plot-3edceb29-8393-4046-a512-9dfcfff4d6d4\"); this.plotElem=gd; this.Plotly=Plotly; (window.Blink!==undefined) ? (gd.style.width=\"100%\", gd.style.height=\"100vh\", gd.style.marginLeft=\"0%\", gd.style.marginTop=\"0vh\") : undefined; window.onresize=(function (){return Plotly.Plots.resize(gd)}); Plotly.newPlot(gd,[{\"line\":{\"color\":\"#4e40d8\",\"width\":2},\"y\":[2.0,3.0,4.0,5.0,6.0,7.0,8.0,9.0,10.0,11.0,12.0,13.0,14.0],\"type\":\"scatter\",\"name\":\"Element Score\",\"fill\":\"tozeroy\",\"text\":[\"2\",\"3\",\"4\",\"5\",\"6\",\"7\",\"8\",\"9\",\"10\",\"J\",\"Q\",\"K\",\"A\"],\"x\":[1,2,3,4,5,6,7,8,9,10,11,12,13]},{\"marker\":{\"symbol\":\"line-ns-open\",\"color\":\"#9017e6\",\"line\":{\"width\":2},\"size\":25.600000000000005},\"mode\":\"markers\",\"y\":[0.0,0.0],\"type\":\"scatter\",\"name\":\"Set\",\"hoverinfo\":\"name+x+text\",\"yaxis\":\"y2\",\"text\":[\"8\",\"J\"],\"x\":[7,10]},{\"line\":{\"color\":\"#20d9ba\",\"width\":2},\"y\":[-1.3877787807814457e-16,0.09090909090909077,0.18181818181818168,0.2727272727272726,0.36363636363636354,0.4545454545454545,0.5454545454545454,0.12440191387559812,0.21531100478468904,0.30622009569377995,-0.2727272727272727,-0.18181818181818182,-0.09090909090909091],\"type\":\"scatter\",\"name\":\"Set Score\",\"fill\":\"tozeroy\",\"yaxis\":\"y3\",\"text\":[\"2\",\"3\",\"4\",\"5\",\"6\",\"7\",\"8\",\"9\",\"10\",\"J\",\"Q\",\"K\",\"A\"],\"x\":[1,2,3,4,5,6,7,8,9,10,11,12,13]}],{\"height\":500,\"yaxis2\":{\"showgrid\":false,\"showticklabels\":false,\"domain\":[0.24,0.32]},\"autosize\":false,\"yaxis1\":{\"showline\":true,\"domain\":[0.0,0.24]},\"annotations\":[{\"yanchor\":\"middle\",\"xanchor\":\"center\",\"y\":1.24,\"font\":{\"size\":24},\"yref\":\"paper\",\"showarrow\":false,\"text\":\"<b>Set Enrichment</b>\",\"xref\":\"paper\",\"x\":0.5},{\"yanchor\":\"middle\",\"xanchor\":\"center\",\"y\":-0.1,\"yref\":\"paper\",\"showarrow\":false,\"text\":\"<b>Element Rank (n=13)</b>\",\"xref\":\"paper\",\"x\":0.5},{\"yanchor\":\"middle\",\"xanchor\":\"right\",\"y\":0.66,\"font\":{\"size\":12},\"yref\":\"paper\",\"showarrow\":false,\"text\":\"<b>Set Score</b>\",\"xref\":\"paper\",\"x\":-0.08},{\"yanchor\":\"middle\",\"xanchor\":\"right\",\"y\":0.28,\"font\":{\"size\":12},\"yref\":\"paper\",\"showarrow\":false,\"text\":\"<b>Set</b>\",\"xref\":\"paper\",\"x\":-0.08},{\"yanchor\":\"middle\",\"xanchor\":\"right\",\"y\":0.12,\"font\":{\"size\":12},\"yref\":\"paper\",\"showarrow\":false,\"text\":\"<b>Element Score</b>\",\"xref\":\"paper\",\"x\":-0.08},{\"yanchor\":\"middle\",\"xanchor\":\"center\",\"y\":1.12,\"font\":{\"color\":\"#2a603b\",\"size\":13.440000000000001},\"yref\":\"paper\",\"showarrow\":false,\"text\":\"<b>Extreme = 5.45e-01</b>     <b>Area = 2.01e+00</b>     <b>P-Value = 8.00e-03</b>\",\"xref\":\"paper\",\"x\":0.5}],\"templateaa\":\"plotly_white\",\"xaxis1\":{\"zeroline\":false},\"legend\":{\"yanchor\":\"middle\",\"xanchor\":\"center\",\"y\":-0.32,\"orientation\":\"h\",\"x\":0.5},\"yaxis3\":{\"domain\":[0.32,1.0]},\"margin\":{\"l\":192,\"b\":50,\"r\":50,\"t\":120},\"width\":800},{}); gd.on(\"plotly_hover\",(function (data){var filtered_data=WebIO.PlotlyCommands.filterEventData(gd,data,\"hover\"); return !(filtered_data.isnil) ? (WebIO.setval({\"name\":\"hover\",\"scope\":\"548760646447943177\",\"id\":\"5524929510506298655\",\"type\":\"observable\"},filtered_data.out)) : undefined})); gd.on(\"plotly_unhover\",(function (){return WebIO.setval({\"name\":\"hover\",\"scope\":\"548760646447943177\",\"id\":\"5524929510506298655\",\"type\":\"observable\"},{})})); gd.on(\"plotly_selected\",(function (data){var filtered_data=WebIO.PlotlyCommands.filterEventData(gd,data,\"selected\"); return !(filtered_data.isnil) ? (WebIO.setval({\"name\":\"selected\",\"scope\":\"548760646447943177\",\"id\":\"17825562813703536643\",\"type\":\"observable\"},filtered_data.out)) : undefined})); gd.on(\"plotly_deselect\",(function (){return WebIO.setval({\"name\":\"selected\",\"scope\":\"548760646447943177\",\"id\":\"17825562813703536643\",\"type\":\"observable\"},{})})); gd.on(\"plotly_relayout\",(function (data){var filtered_data=WebIO.PlotlyCommands.filterEventData(gd,data,\"relayout\"); return !(filtered_data.isnil) ? (WebIO.setval({\"name\":\"relayout\",\"scope\":\"548760646447943177\",\"id\":\"14586510462105381532\",\"type\":\"observable\"},filtered_data.out)) : undefined})); return gd.on(\"plotly_click\",(function (data){var filtered_data=WebIO.PlotlyCommands.filterEventData(gd,data,\"click\"); return !(filtered_data.isnil) ? (WebIO.setval({\"name\":\"click\",\"scope\":\"548760646447943177\",\"id\":\"12329378224280275245\",\"type\":\"observable\"},filtered_data.out)) : undefined}))}));\n    (WebIO.importBlock({\"data\":[{\"name\":\"Plotly\",\"type\":\"js\",\"url\":\"/assetserver/6f912589d46c6df6f921010031690e4ddd2d056e-plotly-latest.min.js\"},{\"name\":null,\"type\":\"js\",\"url\":\"/assetserver/dbc48f0c466adcc261d7604703b6c365e229ddb5-plotly_webio.bundle.js\"}],\"type\":\"async_block\"})).then((imports) => handler.apply(this, imports));\n}\n"
        ],
        "observables": {
         "__gd_contents": {
          "id": "17909515184415360672",
          "sync": false,
          "value": {}
         },
         "__get_gd_contents": {
          "id": "14850323122520284163",
          "sync": false,
          "value": ""
         },
         "_commands": {
          "id": "1401073116953132763",
          "sync": false,
          "value": []
         },
         "_downloadImage": {
          "id": "14637473049414140292",
          "sync": false,
          "value": {}
         },
         "_toImage": {
          "id": "8139794696329640959",
          "sync": false,
          "value": {}
         },
         "click": {
          "id": "12329378224280275245",
          "sync": false,
          "value": {}
         },
         "hover": {
          "id": "5524929510506298655",
          "sync": false,
          "value": {}
         },
         "image": {
          "id": "12824764034513988515",
          "sync": true,
          "value": ""
         },
         "relayout": {
          "id": "14586510462105381532",
          "sync": false,
          "value": {}
         },
         "selected": {
          "id": "17825562813703536643",
          "sync": false,
          "value": {}
         }
        },
        "systemjs_options": null
       },
       "nodeType": "Scope",
       "props": {},
       "type": "node"
      },
      "image/png": "[encoded data removed]",
      "image/svg+xml": [
       "<svg class=\"main-svg\" xmlns=\"http://www.w3.org/2000/svg\" xmlns:xlink=\"http://www.w3.org/1999/xlink\" width=\"700\" height=\"500\" style=\"\" viewBox=\"0 0 700 500\"><rect x=\"0\" y=\"0\" width=\"700\" height=\"500\" style=\"fill: rgb(255, 255, 255); fill-opacity: 1;\"/><defs id=\"defs-00d076\"><g class=\"clips\"><clipPath id=\"clip00d076xyplot\" class=\"plotclip\"><rect width=\"458\" height=\"64.32\"/></clipPath><clipPath id=\"clip00d076xy2plot\" class=\"plotclip\"><rect width=\"458\" height=\"21.440000000000005\"/></clipPath><clipPath id=\"clip00d076xy3plot\" class=\"plotclip\"><rect width=\"458\" height=\"182.23999999999998\"/></clipPath><clipPath class=\"axesclip\" id=\"clip00d076x\"><rect x=\"192\" y=\"0\" width=\"458\" height=\"500\"/></clipPath><clipPath class=\"axesclip\" id=\"clip00d076y\"><rect x=\"0\" y=\"323.68\" width=\"700\" height=\"64.32\"/></clipPath><clipPath class=\"axesclip\" id=\"clip00d076xy\"><rect x=\"192\" y=\"323.68\" width=\"458\" height=\"64.32\"/></clipPath><clipPath class=\"axesclip\" id=\"clip00d076y2\"><rect x=\"0\" y=\"302.24\" width=\"700\" height=\"21.440000000000005\"/></clipPath><clipPath class=\"axesclip\" id=\"clip00d076xy2\"><rect x=\"192\" y=\"302.24\" width=\"458\" height=\"21.440000000000005\"/></clipPath><clipPath class=\"axesclip\" id=\"clip00d076y3\"><rect x=\"0\" y=\"120\" width=\"700\" height=\"182.23999999999998\"/></clipPath><clipPath class=\"axesclip\" id=\"clip00d076xy3\"><rect x=\"192\" y=\"120\" width=\"458\" height=\"182.23999999999998\"/></clipPath></g><g class=\"gradients\"/></defs><g class=\"bglayer\"/><g class=\"layer-below\"><g class=\"imagelayer\"/><g class=\"shapelayer\"/></g><g class=\"cartesianlayer\"><g class=\"subplot xy\"><g class=\"layer-subplot\"><g class=\"shapelayer\"/><g class=\"imagelayer\"/></g><g class=\"gridlayer\"><g class=\"x\"><path class=\"xgrid crisp\" transform=\"translate(230.17000000000002,0)\" d=\"M0,323.68v64.32\" style=\"stroke: rgb(238, 238, 238); stroke-opacity: 1; stroke-width: 1px;\"/><path class=\"xgrid crisp\" transform=\"translate(306.5,0)\" d=\"M0,323.68v64.32\" style=\"stroke: rgb(238, 238, 238); stroke-opacity: 1; stroke-width: 1px;\"/><path class=\"xgrid crisp\" transform=\"translate(382.83000000000004,0)\" d=\"M0,323.68v64.32\" style=\"stroke: rgb(238, 238, 238); stroke-opacity: 1; stroke-width: 1px;\"/><path class=\"xgrid crisp\" transform=\"translate(459.17,0)\" d=\"M0,323.68v64.32\" style=\"stroke: rgb(238, 238, 238); stroke-opacity: 1; stroke-width: 1px;\"/><path class=\"xgrid crisp\" transform=\"translate(535.5,0)\" d=\"M0,323.68v64.32\" style=\"stroke: rgb(238, 238, 238); stroke-opacity: 1; stroke-width: 1px;\"/><path class=\"xgrid crisp\" transform=\"translate(611.8299999999999,0)\" d=\"M0,323.68v64.32\" style=\"stroke: rgb(238, 238, 238); stroke-opacity: 1; stroke-width: 1px;\"/></g><g class=\"y\"><path class=\"ygrid crisp\" transform=\"translate(0,367.52)\" d=\"M192,0h458\" style=\"stroke: rgb(238, 238, 238); stroke-opacity: 1; stroke-width: 1px;\"/><path class=\"ygrid crisp\" transform=\"translate(0,347.03000000000003)\" d=\"M192,0h458\" style=\"stroke: rgb(238, 238, 238); stroke-opacity: 1; stroke-width: 1px;\"/><path class=\"ygrid crisp\" transform=\"translate(0,326.55)\" d=\"M192,0h458\" style=\"stroke: rgb(238, 238, 238); stroke-opacity: 1; stroke-width: 1px;\"/></g></g><g class=\"zerolinelayer\"><path class=\"yzl zl crisp\" transform=\"translate(0,388)\" d=\"M192,0h458\" style=\"stroke: rgb(68, 68, 68); stroke-opacity: 1; stroke-width: 1px;\"/></g><path class=\"xlines-below\"/><path class=\"ylines-below\"/><g class=\"overlines-below\"/><g class=\"xaxislayer-below\"/><g class=\"yaxislayer-below\"/><g class=\"overaxes-below\"/><g class=\"plot\" transform=\"translate(192,323.68)\" clip-path=\"url('#clip00d076xyplot')\"><g class=\"scatterlayer mlayer\"><g class=\"trace scatter trace89f3b0\" style=\"stroke-miterlimit: 2;\"><g class=\"fills\"><g><path class=\"js-fill\" d=\"M458,64.32L0,64.32L0,56.13L458,6.97\" style=\"fill: rgb(78, 64, 216); fill-opacity: 0.5; stroke-width: 0;\"/></g></g><g class=\"errorbars\"/><g class=\"lines\"><path class=\"js-line\" d=\"M0,56.13L458,6.97\" style=\"vector-effect: non-scaling-stroke; fill: none; stroke: rgb(78, 64, 216); stroke-opacity: 1; stroke-width: 2px; opacity: 1;\"/></g><g class=\"points\"><path class=\"point\" transform=\"translate(0,56.13)\" d=\"M3,0A3,3 0 1,1 0,-3A3,3 0 0,1 3,0Z\" style=\"opacity: 1; stroke-width: 0px; fill: rgb(78, 64, 216); fill-opacity: 1;\"/><path class=\"point\" transform=\"translate(38.17,52.03)\" d=\"M3,0A3,3 0 1,1 0,-3A3,3 0 0,1 3,0Z\" style=\"opacity: 1; stroke-width: 0px; fill: rgb(78, 64, 216); fill-opacity: 1;\"/><path class=\"point\" transform=\"translate(76.33,47.93)\" d=\"M3,0A3,3 0 1,1 0,-3A3,3 0 0,1 3,0Z\" style=\"opacity: 1; stroke-width: 0px; fill: rgb(78, 64, 216); fill-opacity: 1;\"/><path class=\"point\" transform=\"translate(114.5,43.84)\" d=\"M3,0A3,3 0 1,1 0,-3A3,3 0 0,1 3,0Z\" style=\"opacity: 1; stroke-width: 0px; fill: rgb(78, 64, 216); fill-opacity: 1;\"/><path class=\"point\" transform=\"translate(152.67,39.74)\" d=\"M3,0A3,3 0 1,1 0,-3A3,3 0 0,1 3,0Z\" style=\"opacity: 1; stroke-width: 0px; fill: rgb(78, 64, 216); fill-opacity: 1;\"/><path class=\"point\" transform=\"translate(190.83,35.64)\" d=\"M3,0A3,3 0 1,1 0,-3A3,3 0 0,1 3,0Z\" style=\"opacity: 1; stroke-width: 0px; fill: rgb(78, 64, 216); fill-opacity: 1;\"/><path class=\"point\" transform=\"translate(229,31.55)\" d=\"M3,0A3,3 0 1,1 0,-3A3,3 0 0,1 3,0Z\" style=\"opacity: 1; stroke-width: 0px; fill: rgb(78, 64, 216); fill-opacity: 1;\"/><path class=\"point\" transform=\"translate(267.17,27.45)\" d=\"M3,0A3,3 0 1,1 0,-3A3,3 0 0,1 3,0Z\" style=\"opacity: 1; stroke-width: 0px; fill: rgb(78, 64, 216); fill-opacity: 1;\"/><path class=\"point\" transform=\"translate(305.33,23.35)\" d=\"M3,0A3,3 0 1,1 0,-3A3,3 0 0,1 3,0Z\" style=\"opacity: 1; stroke-width: 0px; fill: rgb(78, 64, 216); fill-opacity: 1;\"/><path class=\"point\" transform=\"translate(343.5,19.26)\" d=\"M3,0A3,3 0 1,1 0,-3A3,3 0 0,1 3,0Z\" style=\"opacity: 1; stroke-width: 0px; fill: rgb(78, 64, 216); fill-opacity: 1;\"/><path class=\"point\" transform=\"translate(381.67,15.16)\" d=\"M3,0A3,3 0 1,1 0,-3A3,3 0 0,1 3,0Z\" style=\"opacity: 1; stroke-width: 0px; fill: rgb(78, 64, 216); fill-opacity: 1;\"/><path class=\"point\" transform=\"translate(419.83,11.06)\" d=\"M3,0A3,3 0 1,1 0,-3A3,3 0 0,1 3,0Z\" style=\"opacity: 1; stroke-width: 0px; fill: rgb(78, 64, 216); fill-opacity: 1;\"/><path class=\"point\" transform=\"translate(458,6.97)\" d=\"M3,0A3,3 0 1,1 0,-3A3,3 0 0,1 3,0Z\" style=\"opacity: 1; stroke-width: 0px; fill: rgb(78, 64, 216); fill-opacity: 1;\"/></g><g class=\"text\"/></g></g></g><g class=\"overplot\"/><path class=\"xlines-above crisp\" d=\"M0,0\" style=\"fill: none;\"/><path class=\"ylines-above crisp\" d=\"M191.5,323.68V388\" style=\"fill: none; stroke-width: 1px; stroke: rgb(68, 68, 68); stroke-opacity: 1;\"/><g class=\"overlines-above\"/><g class=\"xaxislayer-above\"><g class=\"xtick\"><text text-anchor=\"middle\" x=\"0\" y=\"401\" transform=\"translate(230.17000000000002,0)\" style=\"font-family: 'Open Sans', verdana, arial, sans-serif; font-size: 12px; fill: rgb(68, 68, 68); fill-opacity: 1; white-space: pre;\">2</text></g><g class=\"xtick\"><text text-anchor=\"middle\" x=\"0\" y=\"401\" transform=\"translate(306.5,0)\" style=\"font-family: 'Open Sans', verdana, arial, sans-serif; font-size: 12px; fill: rgb(68, 68, 68); fill-opacity: 1; white-space: pre;\">4</text></g><g class=\"xtick\"><text text-anchor=\"middle\" x=\"0\" y=\"401\" transform=\"translate(382.83000000000004,0)\" style=\"font-family: 'Open Sans', verdana, arial, sans-serif; font-size: 12px; fill: rgb(68, 68, 68); fill-opacity: 1; white-space: pre;\">6</text></g><g class=\"xtick\"><text text-anchor=\"middle\" x=\"0\" y=\"401\" transform=\"translate(459.17,0)\" style=\"font-family: 'Open Sans', verdana, arial, sans-serif; font-size: 12px; fill: rgb(68, 68, 68); fill-opacity: 1; white-space: pre;\">8</text></g><g class=\"xtick\"><text text-anchor=\"middle\" x=\"0\" y=\"401\" transform=\"translate(535.5,0)\" style=\"font-family: 'Open Sans', verdana, arial, sans-serif; font-size: 12px; fill: rgb(68, 68, 68); fill-opacity: 1; white-space: pre;\">10</text></g><g class=\"xtick\"><text text-anchor=\"middle\" x=\"0\" y=\"401\" transform=\"translate(611.8299999999999,0)\" style=\"font-family: 'Open Sans', verdana, arial, sans-serif; font-size: 12px; fill: rgb(68, 68, 68); fill-opacity: 1; white-space: pre;\">12</text></g></g><g class=\"yaxislayer-above\"><g class=\"ytick\"><text text-anchor=\"end\" x=\"188.6\" y=\"4.199999999999999\" transform=\"translate(0,388)\" style=\"font-family: 'Open Sans', verdana, arial, sans-serif; font-size: 12px; fill: rgb(68, 68, 68); fill-opacity: 1; white-space: pre;\">0</text></g><g class=\"ytick\"><text text-anchor=\"end\" x=\"188.6\" y=\"4.199999999999999\" transform=\"translate(0,367.52)\" style=\"font-family: 'Open Sans', verdana, arial, sans-serif; font-size: 12px; fill: rgb(68, 68, 68); fill-opacity: 1; white-space: pre;\">5</text></g><g class=\"ytick\"><text text-anchor=\"end\" x=\"188.6\" y=\"4.199999999999999\" transform=\"translate(0,347.03000000000003)\" style=\"font-family: 'Open Sans', verdana, arial, sans-serif; font-size: 12px; fill: rgb(68, 68, 68); fill-opacity: 1; white-space: pre;\">10</text></g><g class=\"ytick\"><text text-anchor=\"end\" x=\"188.6\" y=\"4.199999999999999\" transform=\"translate(0,326.55)\" style=\"font-family: 'Open Sans', verdana, arial, sans-serif; font-size: 12px; fill: rgb(68, 68, 68); fill-opacity: 1; white-space: pre;\">15</text></g></g><g class=\"overaxes-above\"/></g><g class=\"subplot xy2\"><g class=\"layer-subplot\"><g class=\"shapelayer\"/><g class=\"imagelayer\"/></g><g class=\"gridlayer\"><g class=\"x\"><path class=\"xgrid crisp\" transform=\"translate(230.17000000000002,0)\" d=\"M0,302.24v21.440000000000005\" style=\"stroke: rgb(238, 238, 238); stroke-opacity: 1; stroke-width: 1px;\"/><path class=\"xgrid crisp\" transform=\"translate(306.5,0)\" d=\"M0,302.24v21.440000000000005\" style=\"stroke: rgb(238, 238, 238); stroke-opacity: 1; stroke-width: 1px;\"/><path class=\"xgrid crisp\" transform=\"translate(382.83000000000004,0)\" d=\"M0,302.24v21.440000000000005\" style=\"stroke: rgb(238, 238, 238); stroke-opacity: 1; stroke-width: 1px;\"/><path class=\"xgrid crisp\" transform=\"translate(459.17,0)\" d=\"M0,302.24v21.440000000000005\" style=\"stroke: rgb(238, 238, 238); stroke-opacity: 1; stroke-width: 1px;\"/><path class=\"xgrid crisp\" transform=\"translate(535.5,0)\" d=\"M0,302.24v21.440000000000005\" style=\"stroke: rgb(238, 238, 238); stroke-opacity: 1; stroke-width: 1px;\"/><path class=\"xgrid crisp\" transform=\"translate(611.8299999999999,0)\" d=\"M0,302.24v21.440000000000005\" style=\"stroke: rgb(238, 238, 238); stroke-opacity: 1; stroke-width: 1px;\"/></g><g class=\"y2\"/></g><g class=\"zerolinelayer\"><path class=\"y2zl zl crisp\" transform=\"translate(0,312.96000000000004)\" d=\"M192,0h458\" style=\"stroke: rgb(68, 68, 68); stroke-opacity: 1; stroke-width: 1px;\"/></g><path class=\"xlines-below\"/><path class=\"ylines-below\"/><g class=\"overlines-below\"/><g class=\"xaxislayer-below\"/><g class=\"yaxislayer-below\"/><g class=\"overaxes-below\"/><g class=\"plot\" transform=\"translate(192,302.24)\" clip-path=\"url('#clip00d076xy2plot')\"><g class=\"scatterlayer mlayer\"><g class=\"trace scatter tracebecbfc\" style=\"stroke-miterlimit: 2; opacity: 1;\"><g class=\"fills\"/><g class=\"errorbars\"/><g class=\"lines\"/><g class=\"points\"><path class=\"point\" transform=\"translate(229,10.72)\" d=\"M0,17.92V-17.92\" style=\"opacity: 1; stroke: rgb(144, 23, 230); stroke-opacity: 1; stroke-width: 2px; fill: none;\"/><path class=\"point\" transform=\"translate(343.5,10.72)\" d=\"M0,17.92V-17.92\" style=\"opacity: 1; stroke: rgb(144, 23, 230); stroke-opacity: 1; stroke-width: 2px; fill: none;\"/></g><g class=\"text\"/></g></g></g><g class=\"overplot\"/><path class=\"xlines-above crisp\" d=\"M0,0\" style=\"fill: none;\"/><path class=\"ylines-above crisp\" d=\"M0,0\" style=\"fill: none;\"/><g class=\"overlines-above\"/><g class=\"xaxislayer-above\"/><g class=\"yaxislayer-above\"/><g class=\"overaxes-above\"/></g><g class=\"subplot xy3\"><g class=\"layer-subplot\"><g class=\"shapelayer\"/><g class=\"imagelayer\"/></g><g class=\"gridlayer\"><g class=\"x\"><path class=\"xgrid crisp\" transform=\"translate(230.17000000000002,0)\" d=\"M0,120v182.23999999999998\" style=\"stroke: rgb(238, 238, 238); stroke-opacity: 1; stroke-width: 1px;\"/><path class=\"xgrid crisp\" transform=\"translate(306.5,0)\" d=\"M0,120v182.23999999999998\" style=\"stroke: rgb(238, 238, 238); stroke-opacity: 1; stroke-width: 1px;\"/><path class=\"xgrid crisp\" transform=\"translate(382.83000000000004,0)\" d=\"M0,120v182.23999999999998\" style=\"stroke: rgb(238, 238, 238); stroke-opacity: 1; stroke-width: 1px;\"/><path class=\"xgrid crisp\" transform=\"translate(459.17,0)\" d=\"M0,120v182.23999999999998\" style=\"stroke: rgb(238, 238, 238); stroke-opacity: 1; stroke-width: 1px;\"/><path class=\"xgrid crisp\" transform=\"translate(535.5,0)\" d=\"M0,120v182.23999999999998\" style=\"stroke: rgb(238, 238, 238); stroke-opacity: 1; stroke-width: 1px;\"/><path class=\"xgrid crisp\" transform=\"translate(611.8299999999999,0)\" d=\"M0,120v182.23999999999998\" style=\"stroke: rgb(238, 238, 238); stroke-opacity: 1; stroke-width: 1px;\"/></g><g class=\"y3\"><path class=\"y3grid crisp\" transform=\"translate(0,275.47)\" d=\"M192,0h458\" style=\"stroke: rgb(238, 238, 238); stroke-opacity: 1; stroke-width: 1px;\"/><path class=\"y3grid crisp\" transform=\"translate(0,198.95)\" d=\"M192,0h458\" style=\"stroke: rgb(238, 238, 238); stroke-opacity: 1; stroke-width: 1px;\"/><path class=\"y3grid crisp\" transform=\"translate(0,160.69)\" d=\"M192,0h458\" style=\"stroke: rgb(238, 238, 238); stroke-opacity: 1; stroke-width: 1px;\"/><path class=\"y3grid crisp\" transform=\"translate(0,122.43)\" d=\"M192,0h458\" style=\"stroke: rgb(238, 238, 238); stroke-opacity: 1; stroke-width: 1px;\"/></g></g><g class=\"zerolinelayer\"><path class=\"y3zl zl crisp\" transform=\"translate(0,237.20999999999998)\" d=\"M192,0h458\" style=\"stroke: rgb(68, 68, 68); stroke-opacity: 1; stroke-width: 1px;\"/></g><path class=\"xlines-below\"/><path class=\"ylines-below\"/><g class=\"overlines-below\"/><g class=\"xaxislayer-below\"/><g class=\"yaxislayer-below\"/><g class=\"overaxes-below\"/><g class=\"plot\" transform=\"translate(192,120)\" clip-path=\"url('#clip00d076xy3plot')\"><g class=\"scatterlayer mlayer\"><g class=\"trace scatter tracebaca41\" style=\"stroke-miterlimit: 2;\"><g class=\"fills\"><g><path class=\"js-fill\" d=\"M458,117.21L0,117.21L0,117.21L229,12.86L267.17,93.41L343.5,58.63L381.67,169.38L458,134.6\" style=\"fill: rgb(32, 217, 186); fill-opacity: 0.5; stroke-width: 0;\"/></g></g><g class=\"errorbars\"/><g class=\"lines\"><path class=\"js-line\" d=\"M0,117.21L229,12.86L267.17,93.41L343.5,58.63L381.67,169.38L458,134.6\" style=\"vector-effect: non-scaling-stroke; fill: none; stroke: rgb(32, 217, 186); stroke-opacity: 1; stroke-width: 2px; opacity: 1;\"/></g><g class=\"points\"><path class=\"point\" transform=\"translate(0,117.21)\" d=\"M3,0A3,3 0 1,1 0,-3A3,3 0 0,1 3,0Z\" style=\"opacity: 1; stroke-width: 0px; fill: rgb(32, 217, 186); fill-opacity: 1;\"/><path class=\"point\" transform=\"translate(38.17,99.82)\" d=\"M3,0A3,3 0 1,1 0,-3A3,3 0 0,1 3,0Z\" style=\"opacity: 1; stroke-width: 0px; fill: rgb(32, 217, 186); fill-opacity: 1;\"/><path class=\"point\" transform=\"translate(76.33,82.42)\" d=\"M3,0A3,3 0 1,1 0,-3A3,3 0 0,1 3,0Z\" style=\"opacity: 1; stroke-width: 0px; fill: rgb(32, 217, 186); fill-opacity: 1;\"/><path class=\"point\" transform=\"translate(114.5,65.03)\" d=\"M3,0A3,3 0 1,1 0,-3A3,3 0 0,1 3,0Z\" style=\"opacity: 1; stroke-width: 0px; fill: rgb(32, 217, 186); fill-opacity: 1;\"/><path class=\"point\" transform=\"translate(152.67,47.64)\" d=\"M3,0A3,3 0 1,1 0,-3A3,3 0 0,1 3,0Z\" style=\"opacity: 1; stroke-width: 0px; fill: rgb(32, 217, 186); fill-opacity: 1;\"/><path class=\"point\" transform=\"translate(190.83,30.25)\" d=\"M3,0A3,3 0 1,1 0,-3A3,3 0 0,1 3,0Z\" style=\"opacity: 1; stroke-width: 0px; fill: rgb(32, 217, 186); fill-opacity: 1;\"/><path class=\"point\" transform=\"translate(229,12.86)\" d=\"M3,0A3,3 0 1,1 0,-3A3,3 0 0,1 3,0Z\" style=\"opacity: 1; stroke-width: 0px; fill: rgb(32, 217, 186); fill-opacity: 1;\"/><path class=\"point\" transform=\"translate(267.17,93.41)\" d=\"M3,0A3,3 0 1,1 0,-3A3,3 0 0,1 3,0Z\" style=\"opacity: 1; stroke-width: 0px; fill: rgb(32, 217, 186); fill-opacity: 1;\"/><path class=\"point\" transform=\"translate(305.33,76.02)\" d=\"M3,0A3,3 0 1,1 0,-3A3,3 0 0,1 3,0Z\" style=\"opacity: 1; stroke-width: 0px; fill: rgb(32, 217, 186); fill-opacity: 1;\"/><path class=\"point\" transform=\"translate(343.5,58.63)\" d=\"M3,0A3,3 0 1,1 0,-3A3,3 0 0,1 3,0Z\" style=\"opacity: 1; stroke-width: 0px; fill: rgb(32, 217, 186); fill-opacity: 1;\"/><path class=\"point\" transform=\"translate(381.67,169.38)\" d=\"M3,0A3,3 0 1,1 0,-3A3,3 0 0,1 3,0Z\" style=\"opacity: 1; stroke-width: 0px; fill: rgb(32, 217, 186); fill-opacity: 1;\"/><path class=\"point\" transform=\"translate(419.83,151.99)\" d=\"M3,0A3,3 0 1,1 0,-3A3,3 0 0,1 3,0Z\" style=\"opacity: 1; stroke-width: 0px; fill: rgb(32, 217, 186); fill-opacity: 1;\"/><path class=\"point\" transform=\"translate(458,134.6)\" d=\"M3,0A3,3 0 1,1 0,-3A3,3 0 0,1 3,0Z\" style=\"opacity: 1; stroke-width: 0px; fill: rgb(32, 217, 186); fill-opacity: 1;\"/></g><g class=\"text\"/></g></g></g><g class=\"overplot\"/><path class=\"xlines-above crisp\" d=\"M0,0\" style=\"fill: none;\"/><path class=\"ylines-above crisp\" d=\"M0,0\" style=\"fill: none;\"/><g class=\"overlines-above\"/><g class=\"xaxislayer-above\"/><g class=\"yaxislayer-above\"><g class=\"y3tick\"><text text-anchor=\"end\" x=\"191\" y=\"4.199999999999999\" transform=\"translate(0,275.47)\" style=\"font-family: 'Open Sans', verdana, arial, sans-serif; font-size: 12px; fill: rgb(68, 68, 68); fill-opacity: 1; white-space: pre;\">−0.2</text></g><g class=\"y3tick\"><text text-anchor=\"end\" x=\"191\" y=\"4.199999999999999\" transform=\"translate(0,237.20999999999998)\" style=\"font-family: 'Open Sans', verdana, arial, sans-serif; font-size: 12px; fill: rgb(68, 68, 68); fill-opacity: 1; white-space: pre;\">0</text></g><g class=\"y3tick\"><text text-anchor=\"end\" x=\"191\" y=\"4.199999999999999\" transform=\"translate(0,198.95)\" style=\"font-family: 'Open Sans', verdana, arial, sans-serif; font-size: 12px; fill: rgb(68, 68, 68); fill-opacity: 1; white-space: pre;\">0.2</text></g><g class=\"y3tick\"><text text-anchor=\"end\" x=\"191\" y=\"4.199999999999999\" transform=\"translate(0,160.69)\" style=\"font-family: 'Open Sans', verdana, arial, sans-serif; font-size: 12px; fill: rgb(68, 68, 68); fill-opacity: 1; white-space: pre;\">0.4</text></g><g class=\"y3tick\"><text text-anchor=\"end\" x=\"191\" y=\"4.199999999999999\" transform=\"translate(0,122.43)\" style=\"font-family: 'Open Sans', verdana, arial, sans-serif; font-size: 12px; fill: rgb(68, 68, 68); fill-opacity: 1; white-space: pre;\">0.6</text></g></g><g class=\"overaxes-above\"/></g></g><g class=\"polarlayer\"/><g class=\"ternarylayer\"/><g class=\"geolayer\"/><g class=\"funnelarealayer\"/><g class=\"pielayer\"/><g class=\"treemaplayer\"/><g class=\"sunburstlayer\"/><g class=\"glimages\"/><defs id=\"topdefs-00d076\"><g class=\"clips\"/><clipPath id=\"legend00d076\"><rect width=\"301\" height=\"29\" x=\"0\" y=\"0\"/></clipPath></defs><g class=\"layer-above\"><g class=\"imagelayer\"/><g class=\"shapelayer\"/></g><g class=\"infolayer\"><g class=\"legend\" pointer-events=\"all\" transform=\"translate(270.5,459.26)\"><rect class=\"bg\" shape-rendering=\"crispEdges\" width=\"301\" height=\"29\" x=\"0\" y=\"0\" style=\"stroke: rgb(68, 68, 68); stroke-opacity: 1; fill: rgb(255, 255, 255); fill-opacity: 1; stroke-width: 0px;\"/><g class=\"scrollbox\" transform=\"\" clip-path=\"url('#legend00d076')\"><g class=\"groups\"><g class=\"traces\" transform=\"translate(0,14.5)\" style=\"opacity: 1;\"><text class=\"legendtext\" text-anchor=\"start\" x=\"40\" y=\"4.680000000000001\" style=\"font-family: 'Open Sans', verdana, arial, sans-serif; font-size: 12px; fill: rgb(68, 68, 68); fill-opacity: 1; white-space: pre;\">Element Score</text><g class=\"layers\"><g class=\"legendfill\"><path class=\"js-fill\" d=\"M5,0h30v6h-30z\" style=\"stroke-width: 0; fill: rgb(78, 64, 216); fill-opacity: 0.5;\"/></g><g class=\"legendlines\"><path class=\"js-line\" d=\"M5,0h30\" style=\"fill: none; stroke: rgb(78, 64, 216); stroke-opacity: 1; stroke-width: 2px;\"/></g><g class=\"legendsymbols\"><g class=\"legendpoints\"><path class=\"scatterpts\" transform=\"translate(20,0)\" d=\"M3,0A3,3 0 1,1 0,-3A3,3 0 0,1 3,0Z\" style=\"opacity: 1; stroke-width: 0px; fill: rgb(78, 64, 216); fill-opacity: 1;\"/></g></g></g><rect class=\"legendtoggle\" x=\"0\" y=\"-9.5\" width=\"129.90625\" height=\"19\" style=\"fill: rgb(0, 0, 0); fill-opacity: 0;\"/></g><g class=\"traces\" transform=\"translate(132.40625,14.5)\" style=\"opacity: 1;\"><text class=\"legendtext\" text-anchor=\"start\" x=\"40\" y=\"4.680000000000001\" style=\"font-family: 'Open Sans', verdana, arial, sans-serif; font-size: 12px; fill: rgb(68, 68, 68); fill-opacity: 1; white-space: pre;\">Set</text><g class=\"layers\" style=\"opacity: 1;\"><g class=\"legendfill\"/><g class=\"legendlines\"/><g class=\"legendsymbols\"><g class=\"legendpoints\"><path class=\"scatterpts\" transform=\"translate(20,0)\" d=\"M0,11.2V-11.2\" style=\"opacity: 1; stroke: rgb(144, 23, 230); stroke-opacity: 1; stroke-width: 2px; fill: none;\"/></g></g></g><rect class=\"legendtoggle\" x=\"0\" y=\"-9.5\" width=\"62.59375\" height=\"19\" style=\"fill: rgb(0, 0, 0); fill-opacity: 0;\"/></g><g class=\"traces\" transform=\"translate(197.5,14.5)\" style=\"opacity: 1;\"><text class=\"legendtext\" text-anchor=\"start\" x=\"40\" y=\"4.680000000000001\" style=\"font-family: 'Open Sans', verdana, arial, sans-serif; font-size: 12px; fill: rgb(68, 68, 68); fill-opacity: 1; white-space: pre;\">Set Score</text><g class=\"layers\"><g class=\"legendfill\"><path class=\"js-fill\" d=\"M5,0h30v6h-30z\" style=\"stroke-width: 0; fill: rgb(32, 217, 186); fill-opacity: 0.5;\"/></g><g class=\"legendlines\"><path class=\"js-line\" d=\"M5,0h30\" style=\"fill: none; stroke: rgb(32, 217, 186); stroke-opacity: 1; stroke-width: 2px;\"/></g><g class=\"legendsymbols\"><g class=\"legendpoints\"><path class=\"scatterpts\" transform=\"translate(20,0)\" d=\"M3,0A3,3 0 1,1 0,-3A3,3 0 0,1 3,0Z\" style=\"opacity: 1; stroke-width: 0px; fill: rgb(32, 217, 186); fill-opacity: 1;\"/></g></g></g><rect class=\"legendtoggle\" x=\"0\" y=\"-9.5\" width=\"100.8125\" height=\"19\" style=\"fill: rgb(0, 0, 0); fill-opacity: 0;\"/></g></g></g><rect class=\"scrollbar\" rx=\"20\" ry=\"3\" width=\"0\" height=\"0\" x=\"0\" y=\"0\" style=\"fill: rgb(128, 139, 164); fill-opacity: 1;\"/></g><g class=\"g-gtitle\"/><g class=\"g-xtitle\"/><g class=\"g-ytitle\"/><g class=\"g-y2title\"/><g class=\"g-y3title\"/><g class=\"annotation\" data-index=\"0\" style=\"opacity: 1;\"><g class=\"annotation-text-g\" transform=\"rotate(0,421,55.68000000000001)\"><g class=\"cursor-pointer\" transform=\"translate(316,39)\"><rect class=\"bg\" x=\"0.5\" y=\"0.5\" width=\"209\" height=\"32\" style=\"stroke-width: 1px; stroke: rgb(0, 0, 0); stroke-opacity: 0; fill: rgb(0, 0, 0); fill-opacity: 0;\"/><text class=\"annotation-text\" text-anchor=\"middle\" x=\"105.171875\" y=\"26\" style=\"font-family: 'Open Sans', verdana, arial, sans-serif; font-size: 24px; fill: rgb(68, 68, 68); fill-opacity: 1; white-space: pre;\"><tspan style=\"font-weight:bold\">Set Enrichment</tspan></text></g></g></g><g class=\"annotation\" data-index=\"1\" style=\"opacity: 1;\"><g class=\"annotation-text-g\" transform=\"rotate(0,421,414.8)\"><g class=\"cursor-pointer\" transform=\"translate(346,405)\"><rect class=\"bg\" x=\"0.5\" y=\"0.5\" width=\"149\" height=\"18\" style=\"stroke-width: 1px; stroke: rgb(0, 0, 0); stroke-opacity: 0; fill: rgb(0, 0, 0); fill-opacity: 0;\"/><text class=\"annotation-text\" text-anchor=\"middle\" x=\"75.109375\" y=\"14\" style=\"font-family: 'Open Sans', verdana, arial, sans-serif; font-size: 12px; fill: rgb(68, 68, 68); fill-opacity: 1; white-space: pre;\"><tspan style=\"font-weight:bold\">Element Rank (n=13)</tspan></text></g></g></g><g class=\"annotation\" data-index=\"2\" style=\"opacity: 1;\"><g class=\"annotation-text-g\" transform=\"rotate(0,121.36000000000001,211.12)\"><g class=\"cursor-pointer\" transform=\"translate(87,202)\"><rect class=\"bg\" x=\"0.5\" y=\"0.5\" width=\"67\" height=\"18\" style=\"stroke-width: 1px; stroke: rgb(0, 0, 0); stroke-opacity: 0; fill: rgb(0, 0, 0); fill-opacity: 0;\"/><text class=\"annotation-text\" text-anchor=\"middle\" x=\"33.921875\" y=\"14\" style=\"font-family: 'Open Sans', verdana, arial, sans-serif; font-size: 12px; fill: rgb(68, 68, 68); fill-opacity: 1; white-space: pre;\"><tspan style=\"font-weight:bold\">Set Score</tspan></text></g></g></g><g class=\"annotation\" data-index=\"3\" style=\"opacity: 1;\"><g class=\"annotation-text-g\" transform=\"rotate(0,142.36,312.96)\"><g class=\"cursor-pointer\" transform=\"translate(129,303)\"><rect class=\"bg\" x=\"0.5\" y=\"0.5\" width=\"25\" height=\"18\" style=\"stroke-width: 1px; stroke: rgb(0, 0, 0); stroke-opacity: 0; fill: rgb(0, 0, 0); fill-opacity: 0;\"/><text class=\"annotation-text\" text-anchor=\"middle\" x=\"12.984375\" y=\"14\" style=\"font-family: 'Open Sans', verdana, arial, sans-serif; font-size: 12px; fill: rgb(68, 68, 68); fill-opacity: 1; white-space: pre;\"><tspan style=\"font-weight:bold\">Set</tspan></text></g></g></g><g class=\"annotation\" data-index=\"4\" style=\"opacity: 1;\"><g class=\"annotation-text-g\" transform=\"rotate(0,104.86000000000001,355.84000000000003)\"><g class=\"cursor-pointer\" transform=\"translate(54,346)\"><rect class=\"bg\" x=\"0.5\" y=\"0.5\" width=\"100\" height=\"18\" style=\"stroke-width: 1px; stroke: rgb(0, 0, 0); stroke-opacity: 0; fill: rgb(0, 0, 0); fill-opacity: 0;\"/><text class=\"annotation-text\" text-anchor=\"middle\" x=\"50.40625\" y=\"14\" style=\"font-family: 'Open Sans', verdana, arial, sans-serif; font-size: 12px; fill: rgb(68, 68, 68); fill-opacity: 1; white-space: pre;\"><tspan style=\"font-weight:bold\">Element Score</tspan></text></g></g></g><g class=\"annotation\" data-index=\"5\" style=\"opacity: 1;\"><g class=\"annotation-text-g\" transform=\"rotate(0,421,87.83999999999997)\"><g class=\"cursor-pointer\" transform=\"translate(181,77)\"><rect class=\"bg\" x=\"0.5\" y=\"0.5\" width=\"479\" height=\"20\" style=\"stroke-width: 1px; stroke: rgb(0, 0, 0); stroke-opacity: 0; fill: rgb(0, 0, 0); fill-opacity: 0;\"/><text class=\"annotation-text\" text-anchor=\"middle\" x=\"239.859375\" y=\"16\" style=\"font-family: 'Open Sans', verdana, arial, sans-serif; font-size: 13.44px; fill: rgb(42, 96, 59); fill-opacity: 1; white-space: pre;\"><tspan style=\"font-weight:bold\">Extreme = 5.45e-01</tspan>     <tspan style=\"font-weight:bold\">Area = 2.01e+00</tspan>     <tspan style=\"font-weight:bold\">P-Value = 8.00e-03</tspan></text></g></g></g></g></svg>"
      ],
      "text/html": [
       "<div\n",
       "    class=\"webio-mountpoint\"\n",
       "    data-webio-mountpoint=\"4360732793891238160\"\n",
       ">\n",
       "    <script>\n",
       "    if (window.require && require.defined && require.defined(\"nbextensions/webio-jupyter-notebook\")) {\n",
       "        console.log(\"Jupyter WebIO extension detected, not mounting.\");\n",
       "    } else if (window.WebIO) {\n",
       "        WebIO.mount(\n",
       "            document.querySelector('[data-webio-mountpoint=\"4360732793891238160\"]'),\n",
       "            {\"props\":{},\"nodeType\":\"Scope\",\"type\":\"node\",\"instanceArgs\":{\"imports\":{\"data\":[{\"name\":\"Plotly\",\"type\":\"js\",\"url\":\"\\/assetserver\\/6f912589d46c6df6f921010031690e4ddd2d056e-plotly-latest.min.js\"},{\"name\":null,\"type\":\"js\",\"url\":\"\\/assetserver\\/dbc48f0c466adcc261d7604703b6c365e229ddb5-plotly_webio.bundle.js\"}],\"type\":\"async_block\"},\"id\":\"548760646447943177\",\"handlers\":{\"_toImage\":[\"(function (options){return this.Plotly.toImage(this.plotElem,options).then((function (data){return WebIO.setval({\\\"name\\\":\\\"image\\\",\\\"scope\\\":\\\"548760646447943177\\\",\\\"id\\\":\\\"12824764034513988515\\\",\\\"type\\\":\\\"observable\\\"},data)}))})\"],\"__get_gd_contents\":[\"(function (prop){prop==\\\"data\\\" ? (WebIO.setval({\\\"name\\\":\\\"__gd_contents\\\",\\\"scope\\\":\\\"548760646447943177\\\",\\\"id\\\":\\\"17909515184415360672\\\",\\\"type\\\":\\\"observable\\\"},this.plotElem.data)) : undefined; return prop==\\\"layout\\\" ? (WebIO.setval({\\\"name\\\":\\\"__gd_contents\\\",\\\"scope\\\":\\\"548760646447943177\\\",\\\"id\\\":\\\"17909515184415360672\\\",\\\"type\\\":\\\"observable\\\"},this.plotElem.layout)) : undefined})\"],\"_downloadImage\":[\"(function (options){return this.Plotly.downloadImage(this.plotElem,options)})\"],\"_commands\":[\"(function (args){var fn=args.shift(); var elem=this.plotElem; var Plotly=this.Plotly; args.unshift(elem); return Plotly[fn].apply(this,args)})\"]},\"systemjs_options\":null,\"mount_callbacks\":[\"function () {\\n    var handler = ((function (Plotly,PlotlyWebIO){PlotlyWebIO.init(WebIO); var gd=this.dom.querySelector(\\\"#plot-3edceb29-8393-4046-a512-9dfcfff4d6d4\\\"); this.plotElem=gd; this.Plotly=Plotly; (window.Blink!==undefined) ? (gd.style.width=\\\"100%\\\", gd.style.height=\\\"100vh\\\", gd.style.marginLeft=\\\"0%\\\", gd.style.marginTop=\\\"0vh\\\") : undefined; window.onresize=(function (){return Plotly.Plots.resize(gd)}); Plotly.newPlot(gd,[{\\\"line\\\":{\\\"color\\\":\\\"#4e40d8\\\",\\\"width\\\":2},\\\"y\\\":[2.0,3.0,4.0,5.0,6.0,7.0,8.0,9.0,10.0,11.0,12.0,13.0,14.0],\\\"type\\\":\\\"scatter\\\",\\\"name\\\":\\\"Element Score\\\",\\\"fill\\\":\\\"tozeroy\\\",\\\"text\\\":[\\\"2\\\",\\\"3\\\",\\\"4\\\",\\\"5\\\",\\\"6\\\",\\\"7\\\",\\\"8\\\",\\\"9\\\",\\\"10\\\",\\\"J\\\",\\\"Q\\\",\\\"K\\\",\\\"A\\\"],\\\"x\\\":[1,2,3,4,5,6,7,8,9,10,11,12,13]},{\\\"marker\\\":{\\\"symbol\\\":\\\"line-ns-open\\\",\\\"color\\\":\\\"#9017e6\\\",\\\"line\\\":{\\\"width\\\":2},\\\"size\\\":25.600000000000005},\\\"mode\\\":\\\"markers\\\",\\\"y\\\":[0.0,0.0],\\\"type\\\":\\\"scatter\\\",\\\"name\\\":\\\"Set\\\",\\\"hoverinfo\\\":\\\"name+x+text\\\",\\\"yaxis\\\":\\\"y2\\\",\\\"text\\\":[\\\"8\\\",\\\"J\\\"],\\\"x\\\":[7,10]},{\\\"line\\\":{\\\"color\\\":\\\"#20d9ba\\\",\\\"width\\\":2},\\\"y\\\":[-1.3877787807814457e-16,0.09090909090909077,0.18181818181818168,0.2727272727272726,0.36363636363636354,0.4545454545454545,0.5454545454545454,0.12440191387559812,0.21531100478468904,0.30622009569377995,-0.2727272727272727,-0.18181818181818182,-0.09090909090909091],\\\"type\\\":\\\"scatter\\\",\\\"name\\\":\\\"Set Score\\\",\\\"fill\\\":\\\"tozeroy\\\",\\\"yaxis\\\":\\\"y3\\\",\\\"text\\\":[\\\"2\\\",\\\"3\\\",\\\"4\\\",\\\"5\\\",\\\"6\\\",\\\"7\\\",\\\"8\\\",\\\"9\\\",\\\"10\\\",\\\"J\\\",\\\"Q\\\",\\\"K\\\",\\\"A\\\"],\\\"x\\\":[1,2,3,4,5,6,7,8,9,10,11,12,13]}],{\\\"height\\\":500,\\\"yaxis2\\\":{\\\"showgrid\\\":false,\\\"showticklabels\\\":false,\\\"domain\\\":[0.24,0.32]},\\\"autosize\\\":false,\\\"yaxis1\\\":{\\\"showline\\\":true,\\\"domain\\\":[0.0,0.24]},\\\"annotations\\\":[{\\\"yanchor\\\":\\\"middle\\\",\\\"xanchor\\\":\\\"center\\\",\\\"y\\\":1.24,\\\"font\\\":{\\\"size\\\":24},\\\"yref\\\":\\\"paper\\\",\\\"showarrow\\\":false,\\\"text\\\":\\\"<b>Set Enrichment<\\/b>\\\",\\\"xref\\\":\\\"paper\\\",\\\"x\\\":0.5},{\\\"yanchor\\\":\\\"middle\\\",\\\"xanchor\\\":\\\"center\\\",\\\"y\\\":-0.1,\\\"yref\\\":\\\"paper\\\",\\\"showarrow\\\":false,\\\"text\\\":\\\"<b>Element Rank (n=13)<\\/b>\\\",\\\"xref\\\":\\\"paper\\\",\\\"x\\\":0.5},{\\\"yanchor\\\":\\\"middle\\\",\\\"xanchor\\\":\\\"right\\\",\\\"y\\\":0.66,\\\"font\\\":{\\\"size\\\":12},\\\"yref\\\":\\\"paper\\\",\\\"showarrow\\\":false,\\\"text\\\":\\\"<b>Set Score<\\/b>\\\",\\\"xref\\\":\\\"paper\\\",\\\"x\\\":-0.08},{\\\"yanchor\\\":\\\"middle\\\",\\\"xanchor\\\":\\\"right\\\",\\\"y\\\":0.28,\\\"font\\\":{\\\"size\\\":12},\\\"yref\\\":\\\"paper\\\",\\\"showarrow\\\":false,\\\"text\\\":\\\"<b>Set<\\/b>\\\",\\\"xref\\\":\\\"paper\\\",\\\"x\\\":-0.08},{\\\"yanchor\\\":\\\"middle\\\",\\\"xanchor\\\":\\\"right\\\",\\\"y\\\":0.12,\\\"font\\\":{\\\"size\\\":12},\\\"yref\\\":\\\"paper\\\",\\\"showarrow\\\":false,\\\"text\\\":\\\"<b>Element Score<\\/b>\\\",\\\"xref\\\":\\\"paper\\\",\\\"x\\\":-0.08},{\\\"yanchor\\\":\\\"middle\\\",\\\"xanchor\\\":\\\"center\\\",\\\"y\\\":1.12,\\\"font\\\":{\\\"color\\\":\\\"#2a603b\\\",\\\"size\\\":13.440000000000001},\\\"yref\\\":\\\"paper\\\",\\\"showarrow\\\":false,\\\"text\\\":\\\"<b>Extreme = 5.45e-01<\\/b>     <b>Area = 2.01e+00<\\/b>     <b>P-Value = 8.00e-03<\\/b>\\\",\\\"xref\\\":\\\"paper\\\",\\\"x\\\":0.5}],\\\"templateaa\\\":\\\"plotly_white\\\",\\\"xaxis1\\\":{\\\"zeroline\\\":false},\\\"legend\\\":{\\\"yanchor\\\":\\\"middle\\\",\\\"xanchor\\\":\\\"center\\\",\\\"y\\\":-0.32,\\\"orientation\\\":\\\"h\\\",\\\"x\\\":0.5},\\\"yaxis3\\\":{\\\"domain\\\":[0.32,1.0]},\\\"margin\\\":{\\\"l\\\":192,\\\"b\\\":50,\\\"r\\\":50,\\\"t\\\":120},\\\"width\\\":800},{}); gd.on(\\\"plotly_hover\\\",(function (data){var filtered_data=WebIO.PlotlyCommands.filterEventData(gd,data,\\\"hover\\\"); return !(filtered_data.isnil) ? (WebIO.setval({\\\"name\\\":\\\"hover\\\",\\\"scope\\\":\\\"548760646447943177\\\",\\\"id\\\":\\\"5524929510506298655\\\",\\\"type\\\":\\\"observable\\\"},filtered_data.out)) : undefined})); gd.on(\\\"plotly_unhover\\\",(function (){return WebIO.setval({\\\"name\\\":\\\"hover\\\",\\\"scope\\\":\\\"548760646447943177\\\",\\\"id\\\":\\\"5524929510506298655\\\",\\\"type\\\":\\\"observable\\\"},{})})); gd.on(\\\"plotly_selected\\\",(function (data){var filtered_data=WebIO.PlotlyCommands.filterEventData(gd,data,\\\"selected\\\"); return !(filtered_data.isnil) ? (WebIO.setval({\\\"name\\\":\\\"selected\\\",\\\"scope\\\":\\\"548760646447943177\\\",\\\"id\\\":\\\"17825562813703536643\\\",\\\"type\\\":\\\"observable\\\"},filtered_data.out)) : undefined})); gd.on(\\\"plotly_deselect\\\",(function (){return WebIO.setval({\\\"name\\\":\\\"selected\\\",\\\"scope\\\":\\\"548760646447943177\\\",\\\"id\\\":\\\"17825562813703536643\\\",\\\"type\\\":\\\"observable\\\"},{})})); gd.on(\\\"plotly_relayout\\\",(function (data){var filtered_data=WebIO.PlotlyCommands.filterEventData(gd,data,\\\"relayout\\\"); return !(filtered_data.isnil) ? (WebIO.setval({\\\"name\\\":\\\"relayout\\\",\\\"scope\\\":\\\"548760646447943177\\\",\\\"id\\\":\\\"14586510462105381532\\\",\\\"type\\\":\\\"observable\\\"},filtered_data.out)) : undefined})); return gd.on(\\\"plotly_click\\\",(function (data){var filtered_data=WebIO.PlotlyCommands.filterEventData(gd,data,\\\"click\\\"); return !(filtered_data.isnil) ? (WebIO.setval({\\\"name\\\":\\\"click\\\",\\\"scope\\\":\\\"548760646447943177\\\",\\\"id\\\":\\\"12329378224280275245\\\",\\\"type\\\":\\\"observable\\\"},filtered_data.out)) : undefined}))}));\\n    (WebIO.importBlock({\\\"data\\\":[{\\\"name\\\":\\\"Plotly\\\",\\\"type\\\":\\\"js\\\",\\\"url\\\":\\\"\\/assetserver\\/6f912589d46c6df6f921010031690e4ddd2d056e-plotly-latest.min.js\\\"},{\\\"name\\\":null,\\\"type\\\":\\\"js\\\",\\\"url\\\":\\\"\\/assetserver\\/dbc48f0c466adcc261d7604703b6c365e229ddb5-plotly_webio.bundle.js\\\"}],\\\"type\\\":\\\"async_block\\\"})).then((imports) => handler.apply(this, imports));\\n}\\n\"],\"observables\":{\"_toImage\":{\"sync\":false,\"id\":\"8139794696329640959\",\"value\":{}},\"hover\":{\"sync\":false,\"id\":\"5524929510506298655\",\"value\":{}},\"selected\":{\"sync\":false,\"id\":\"17825562813703536643\",\"value\":{}},\"__gd_contents\":{\"sync\":false,\"id\":\"17909515184415360672\",\"value\":{}},\"click\":{\"sync\":false,\"id\":\"12329378224280275245\",\"value\":{}},\"image\":{\"sync\":true,\"id\":\"12824764034513988515\",\"value\":\"\"},\"__get_gd_contents\":{\"sync\":false,\"id\":\"14850323122520284163\",\"value\":\"\"},\"_downloadImage\":{\"sync\":false,\"id\":\"14637473049414140292\",\"value\":{}},\"relayout\":{\"sync\":false,\"id\":\"14586510462105381532\",\"value\":{}},\"_commands\":{\"sync\":false,\"id\":\"1401073116953132763\",\"value\":[]}}},\"children\":[{\"props\":{\"id\":\"plot-3edceb29-8393-4046-a512-9dfcfff4d6d4\"},\"nodeType\":\"DOM\",\"type\":\"node\",\"instanceArgs\":{\"namespace\":\"html\",\"tag\":\"div\"},\"children\":[]}]},\n",
       "            window,\n",
       "        );\n",
       "    } else {\n",
       "        document\n",
       "            .querySelector('[data-webio-mountpoint=\"4360732793891238160\"]')\n",
       "            .innerHTML = (\n",
       "                '<div style=\"padding: 1em; background-color: #f8d6da; border: 1px solid #f5c6cb\">' +\n",
       "                '<p><strong>WebIO not detected.</strong></p>' +\n",
       "                '<p>Please read ' +\n",
       "                '<a href=\"https://juliagizmos.github.io/WebIO.jl/latest/troubleshooting/not-detected/\" target=\"_blank\">the troubleshooting guide</a> ' +\n",
       "                'for more information on how to resolve this issue.</p>' +\n",
       "                '<p><a href=\"https://juliagizmos.github.io/WebIO.jl/latest/troubleshooting/not-detected/\" target=\"_blank\">https://juliagizmos.github.io/WebIO.jl/latest/troubleshooting/not-detected/</a></p>' +\n",
       "                '</div>'\n",
       "            );\n",
       "    }\n",
       "    </script>\n",
       "</div>\n"
      ],
      "text/plain": [
       "data: [\n",
       "  \"scatter with fields fill, line, name, text, type, x, and y\",\n",
       "  \"scatter with fields hoverinfo, marker, mode, name, text, type, x, y, and yaxis\",\n",
       "  \"scatter with fields fill, line, name, text, type, x, y, and yaxis\"\n",
       "]\n",
       "\n",
       "layout: \"layout with fields annotations, autosize, height, legend, margin, templateaa, width, xaxis1, yaxis1, yaxis2, and yaxis3\"\n",
       "\n"
      ]
     },
     "execution_count": 9,
     "metadata": {},
     "output_type": "execute_result"
    }
   ],
   "source": [
    "n_element = length(element_)\n",
    "\n",
    "yaxis1_domain = (0.0, 0.24)\n",
    "\n",
    "yaxis2_domain = (0.24, 0.32)\n",
    "\n",
    "yaxis3_domain = (0.32, 1.0)\n",
    "\n",
    "annotation_template = attr(\n",
    "    xref = \"paper\",\n",
    "    yref = \"paper\",\n",
    "    yanchor = \"middle\",\n",
    "    showarrow = false,\n",
    ")\n",
    "\n",
    "x_annotation_template = merge(\n",
    "    annotation_template,\n",
    "    attr(xanchor = \"center\", x = 0.5),\n",
    ")\n",
    "\n",
    "y_annotation_template = merge(\n",
    "    annotation_template,\n",
    "    attr(xanchor=\"right\", x = -0.08, font_size = axis_title_font_size),\n",
    ")\n",
    "\n",
    "layout = Layout(\n",
    "    width = width,\n",
    "    height = height,\n",
    "    margin_l = width * 0.24,\n",
    "    margin_t = height * 0.24,\n",
    "    \n",
    "    legend_orientation = \"h\",\n",
    "    legend_x = 0.5,\n",
    "    legend_y = -0.32,\n",
    "    legend_xanchor = \"center\",\n",
    "    legend_yanchor = \"middle\",\n",
    "    \n",
    "    xaxis1_zeroline = false,\n",
    "    #xaxis1_showspikes = true,\n",
    "    #xaxis1_spikemode = \"across\",\n",
    "    #xaxis1_spikedash = \"solid\",\n",
    "    \n",
    "    yaxis3_domain = yaxis3_domain,\n",
    "    #yaxis3_showline = true,\n",
    "    \n",
    "    yaxis2_domain = yaxis2_domain,\n",
    "    yaxis2_showticklabels = false,\n",
    "    yaxis2_showgrid = false,\n",
    "    \n",
    "    yaxis1_domain = yaxis1_domain,\n",
    "    yaxis1_showline = true,\n",
    "    annotations = [\n",
    "        merge(\n",
    "            x_annotation_template,\n",
    "            attr(y = 1.24, text = \"<b>$title_text</b>\", font_size = title_font_size),\n",
    "        ),\n",
    "        merge(\n",
    "            x_annotation_template,\n",
    "            attr(y = -0.1, text = \"<b>Element Rank (n=$n_element)</b>\",\n",
    "            ),\n",
    "        ),\n",
    "        merge(\n",
    "            y_annotation_template,\n",
    "            attr(y = get_center(yaxis3_domain), text = \"<b>Set Score</b>\"),\n",
    "        ),\n",
    "        merge(\n",
    "            y_annotation_template,\n",
    "            attr(y = get_center(yaxis2_domain), text = \"<b>Set</b>\"),\n",
    "        ),\n",
    "        merge(\n",
    "            y_annotation_template,\n",
    "            attr(y = get_center(yaxis1_domain), text = \"<b>$element_value_name</b>\"),\n",
    "        ),\n",
    "    ],\n",
    ")\n",
    "\n",
    "\n",
    "x = 1:n_element\n",
    "\n",
    "element_score_, element_ = sort_like((element_score_, element_))\n",
    "\n",
    "element_score_trace = scatter(\n",
    "    name = \"Element Score\",\n",
    "    x = x,\n",
    "    y = element_score_,\n",
    "    text = element_,\n",
    "    line_width = line_width,\n",
    "    line_color = \"#4e40d8\",\n",
    "    fill = \"tozeroy\",\n",
    ")\n",
    "\n",
    "is_ = check_is(element_, set_element_)\n",
    "\n",
    "set_element_bit = BitVector(is_)\n",
    "\n",
    "set_element_trace = scatter(\n",
    "    name = \"Set\",\n",
    "    yaxis = \"y2\",\n",
    "    x = x[set_element_bit],\n",
    "    y = zeros(Int64(sum(is_))),\n",
    "    text = element_[set_element_bit],\n",
    "    mode = \"markers\",\n",
    "    marker_symbol = \"line-ns-open\",\n",
    "    marker_size = height * (yaxis2_domain[2] - yaxis2_domain[1]) * 0.64,\n",
    "    marker_line_width = line_width,\n",
    "    marker_color = \"#9017e6\",\n",
    "    hoverinfo = \"name+x+text\",\n",
    ")\n",
    "\n",
    "set_score_, extreme, area = score_set_ks(element_, element_score_, set_element_)\n",
    "\n",
    "p_value = 0.008\n",
    "\n",
    "extreme = @sprintf \"%.2e\" extreme\n",
    "\n",
    "area = @sprintf \"%.2e\" area\n",
    "\n",
    "p_value = @sprintf \"%.2e\" p_value\n",
    "\n",
    "push!(\n",
    "    layout[\"annotations\"],\n",
    "    merge(\n",
    "        x_annotation_template,\n",
    "        attr(\n",
    "            y = 1.12,\n",
    "            text = join((\"<b>Extreme = $extreme</b>\", \"<b>Area = $area</b>\", \"<b>P-Value = $p_value</b>\"), \"     \"),\n",
    "            font_size = title_font_size * 0.56,\n",
    "            font_color = \"#2a603b\",\n",
    "        ),\n",
    "    ),\n",
    ")\n",
    "\n",
    "set_score_trace = scatter(\n",
    "    name = \"Set Score\",\n",
    "    yaxis = \"y3\",\n",
    "    x = x,\n",
    "    y = set_score_,\n",
    "    text = element_,\n",
    "    line_width = line_width,\n",
    "    line_color = \"#20d9ba\",\n",
    "    fill = \"tozeroy\",\n",
    ")\n",
    "\n",
    "plot([element_score_trace, set_element_trace, set_score_trace], layout)"
   ]
  },
  {
   "cell_type": "code",
   "execution_count": null,
   "metadata": {},
   "outputs": [],
   "source": []
  }
 ],
 "metadata": {
  "kernelspec": {
   "display_name": "Julia 1.5.3",
   "language": "julia",
   "name": "julia-1.5"
  },
  "language_info": {
   "file_extension": ".jl",
   "mimetype": "application/julia",
   "name": "julia",
   "version": "1.5.3"
  }
 },
 "nbformat": 4,
 "nbformat_minor": 4
}
