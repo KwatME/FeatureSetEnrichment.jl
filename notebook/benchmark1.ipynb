{
 "cells": [
  {
   "cell_type": "code",
   "execution_count": null,
   "id": "368ba47c-dcfd-4973-b472-200db23a7025",
   "metadata": {},
   "outputs": [],
   "source": [
    "using BenchmarkTools\n",
    "using Revise"
   ]
  },
  {
   "cell_type": "code",
   "execution_count": null,
   "id": "938d2c13-627b-4417-9408-f2247efd0325",
   "metadata": {},
   "outputs": [],
   "source": [
    "using Support"
   ]
  },
  {
   "cell_type": "code",
   "execution_count": null,
   "id": "76eb05c3-18a0-40c8-99cd-6681285335da",
   "metadata": {},
   "outputs": [],
   "source": [
    "SETTING = read_json(\"setting.json\")"
   ]
  },
  {
   "cell_type": "code",
   "execution_count": null,
   "id": "85075f8d-75ba-4fb5-be0c-d56b798165ac",
   "metadata": {},
   "outputs": [],
   "source": [
    "using GCTGMT"
   ]
  },
  {
   "cell_type": "code",
   "execution_count": null,
   "id": "59a66f52-9ab5-40d3-aab4-e3cbcc31f50b",
   "metadata": {},
   "outputs": [],
   "source": [
    "using FeatureSetEnrichment"
   ]
  },
  {
   "cell_type": "code",
   "execution_count": null,
   "id": "24b75e0a-3c53-4fd9-aa33-71edd712f6db",
   "metadata": {},
   "outputs": [],
   "source": [
    "method_ = collect(\n",
    "    keys(score_set_new([\"a\", \"b\"], [-1.0, 1.0], [\"a\"]; plot_process = false, plot = false)),\n",
    ")"
   ]
  },
  {
   "cell_type": "code",
   "execution_count": null,
   "id": "8f7f3614-50cc-48e4-a573-8d7a9a8f75ed",
   "metadata": {},
   "outputs": [],
   "source": [
    "benchmark_ = Vector{String}()\n",
    "\n",
    "n_gene_ = Vector{Int64}()\n",
    "\n",
    "benchmark_x_method_row_ = Vector{Vector{Float64}}()"
   ]
  },
  {
   "cell_type": "code",
   "execution_count": null,
   "id": "0a3e1c35-1e74-4be9-b07a-7dff7398efcb",
   "metadata": {},
   "outputs": [],
   "source": [
    "include(\"load_benchmark.jl\")\n",
    "\n",
    "using Normalization"
   ]
  },
  {
   "cell_type": "code",
   "execution_count": null,
   "id": "69698435-93eb-4f02-a8a7-48675b7f6feb",
   "metadata": {},
   "outputs": [],
   "source": [
    "for benchmark_directory_path in read_directory(SETTING[\"benchmarks/\"])\n",
    "\n",
    "    element_, score_, set_to_element_, benchmark_set_ =\n",
    "        load_benchmark(benchmark_directory_path)\n",
    "\n",
    "    println(splitpath(benchmark_directory_path)[end])\n",
    "\n",
    "    set_to_method_to_statistic = score_set_new(element_, score_, set_to_element_)\n",
    "\n",
    "    set_ = collect(keys(set_to_method_to_statistic))\n",
    "\n",
    "    set_x_method = convert_vector_of_vector_to_matrix([\n",
    "        collect(values(set_to_method_to_statistic[set])) for set in set_\n",
    "    ])\n",
    "\n",
    "    for benchmark_set in benchmark_set_\n",
    "\n",
    "        push!(\n",
    "            benchmark_,\n",
    "            string(splitpath(benchmark_directory_path)[end], '.', benchmark_set),\n",
    "        )\n",
    "\n",
    "        push!(n_gene_, length(set_to_element_[benchmark_set]))\n",
    "\n",
    "        benchmark_x_method_row = Vector{Float64}()\n",
    "\n",
    "        for method_i = 1:length(method_)\n",
    "\n",
    "            set_score_ = set_x_method[:, method_i]\n",
    "\n",
    "            is_negative_ = set_score_ .< 0\n",
    "\n",
    "            is_positive_ = 0 .<= set_score_\n",
    "\n",
    "            set_negative_ = set_[is_negative_]\n",
    "\n",
    "            set_positive_ = set_[is_positive_]\n",
    "\n",
    "            negative_ = .-normalize(.-set_score_[is_negative_], \"1224\") / sum(is_negative_)\n",
    "\n",
    "            positive_ = normalize(set_score_[is_positive_], \"1224\") / sum(is_positive_)\n",
    "\n",
    "            i_negative = findfirst(set_negative_ .== benchmark_set)\n",
    "\n",
    "            i_positive = findfirst(set_positive_ .== benchmark_set)\n",
    "\n",
    "            if i_negative != nothing\n",
    "\n",
    "                benchmark_score = negative_[i_negative]\n",
    "\n",
    "            elseif i_positive != nothing\n",
    "\n",
    "                benchmark_score = positive_[i_positive]\n",
    "\n",
    "            end\n",
    "\n",
    "            push!(benchmark_x_method_row, benchmark_score)\n",
    "\n",
    "        end\n",
    "\n",
    "        push!(benchmark_x_method_row_, benchmark_x_method_row)\n",
    "\n",
    "    end\n",
    "\n",
    "end"
   ]
  },
  {
   "cell_type": "code",
   "execution_count": null,
   "id": "32609271-ffdc-4c36-ac30-cfc29cf165bd",
   "metadata": {},
   "outputs": [],
   "source": [
    "using CSV\n",
    "using DataFrames"
   ]
  },
  {
   "cell_type": "code",
   "execution_count": null,
   "id": "8422cc94-41d8-4326-848c-0baa6a7aebb6",
   "metadata": {},
   "outputs": [],
   "source": [
    "df = DataFrame(convert_vector_of_vector_to_matrix(benchmark_x_method_row_), method_)\n",
    "\n",
    "insertcols!(df, 1, \"Benchmark\" => benchmark_)\n",
    "\n",
    "CSV.write(SETTING[\"benchmark_x_method.tsv\"], df)"
   ]
  }
 ],
 "metadata": {
  "kernelspec": {
   "display_name": "Julia 1.6.1",
   "language": "julia",
   "name": "julia-1.6"
  },
  "language_info": {
   "file_extension": ".jl",
   "mimetype": "application/julia",
   "name": "julia",
   "version": "1.6.1"
  }
 },
 "nbformat": 4,
 "nbformat_minor": 5
}
